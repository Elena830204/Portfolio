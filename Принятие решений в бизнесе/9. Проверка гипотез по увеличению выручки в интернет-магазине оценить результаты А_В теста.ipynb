{
 "cells": [
  {
   "cell_type": "markdown",
   "metadata": {},
   "source": [
    "# Принятие решений в бизнесе на основе данных. "
   ]
  },
  {
   "cell_type": "markdown",
   "metadata": {},
   "source": [
    "## Описание исследования"
   ]
  },
  {
   "cell_type": "markdown",
   "metadata": {},
   "source": [
    "**Цель исследования:** необходимо проанализировать гипотезы и выявить самые оптимальные. \n",
    "\n",
    "**Входные данные:** данные со списком гипотез и данные о группах А/В-теста.\n",
    "\n",
    "**План работы:** \n",
    "\n",
    "1. изучить общую информацию о предоставленных данных; \n",
    "\n",
    "2. подготовить данные, т.е. выявить и удалить (заменить) пропущенные значения и дубликаты, изменить тип данных при необходимости; \n",
    "\n",
    "3. провести приоритизацию гипотез; \n",
    "\n",
    "4. провести анализ А/В-теста; \n",
    "\n",
    "5. проанализировать результаты.\n",
    "\n",
    "Данное исследование позволит выявить наиболее выгодные направления в деятельности интернет-магазина для дальнейшего внедрения и  увеличения выручки."
   ]
  },
  {
   "cell_type": "markdown",
   "metadata": {},
   "source": [
    "## Подготовка"
   ]
  },
  {
   "cell_type": "markdown",
   "metadata": {},
   "source": [
    "###  [Загрузка библиотек](#1)"
   ]
  },
  {
   "cell_type": "code",
   "execution_count": 1,
   "metadata": {},
   "outputs": [],
   "source": [
    "import pandas as pd\n",
    "import numpy as np\n",
    "import datetime as dt\n",
    "import matplotlib.pyplot as plt\n",
    "from scipy import stats"
   ]
  },
  {
   "cell_type": "markdown",
   "metadata": {},
   "source": [
    "### [Загрузка датасетов и предобработка данных](#2)"
   ]
  },
  {
   "cell_type": "code",
   "execution_count": 2,
   "metadata": {},
   "outputs": [],
   "source": [
    "try: orders, visitors, hypothesis = (\n",
    " pd.read_csv('/datasets/orders.csv'),\n",
    " pd.read_csv('/datasets/visitors.csv'),\n",
    " pd.read_csv('/datasets/hypothesis.csv'), \n",
    ")\n",
    "except: orders, visitors, hypothesis = (\n",
    " pd.read_csv('C:/Users/user/Downloads/orders.csv'), \n",
    " pd.read_csv('C:/Users/user/Downloads/visitors.csv'), \n",
    " pd.read_csv('C:/Users/user/Downloads/hypothesis.csv'), \n",
    ")  "
   ]
  },
  {
   "cell_type": "code",
   "execution_count": 3,
   "metadata": {},
   "outputs": [
    {
     "data": {
      "text/html": [
       "<div>\n",
       "<style scoped>\n",
       "    .dataframe tbody tr th:only-of-type {\n",
       "        vertical-align: middle;\n",
       "    }\n",
       "\n",
       "    .dataframe tbody tr th {\n",
       "        vertical-align: top;\n",
       "    }\n",
       "\n",
       "    .dataframe thead th {\n",
       "        text-align: right;\n",
       "    }\n",
       "</style>\n",
       "<table border=\"1\" class=\"dataframe\">\n",
       "  <thead>\n",
       "    <tr style=\"text-align: right;\">\n",
       "      <th></th>\n",
       "      <th>transactionId</th>\n",
       "      <th>visitorId</th>\n",
       "      <th>date</th>\n",
       "      <th>revenue</th>\n",
       "      <th>group</th>\n",
       "    </tr>\n",
       "  </thead>\n",
       "  <tbody>\n",
       "    <tr>\n",
       "      <th>0</th>\n",
       "      <td>3667963787</td>\n",
       "      <td>3312258926</td>\n",
       "      <td>2019-08-15</td>\n",
       "      <td>1650</td>\n",
       "      <td>B</td>\n",
       "    </tr>\n",
       "    <tr>\n",
       "      <th>1</th>\n",
       "      <td>2804400009</td>\n",
       "      <td>3642806036</td>\n",
       "      <td>2019-08-15</td>\n",
       "      <td>730</td>\n",
       "      <td>B</td>\n",
       "    </tr>\n",
       "    <tr>\n",
       "      <th>2</th>\n",
       "      <td>2961555356</td>\n",
       "      <td>4069496402</td>\n",
       "      <td>2019-08-15</td>\n",
       "      <td>400</td>\n",
       "      <td>A</td>\n",
       "    </tr>\n",
       "    <tr>\n",
       "      <th>3</th>\n",
       "      <td>3797467345</td>\n",
       "      <td>1196621759</td>\n",
       "      <td>2019-08-15</td>\n",
       "      <td>9759</td>\n",
       "      <td>B</td>\n",
       "    </tr>\n",
       "    <tr>\n",
       "      <th>4</th>\n",
       "      <td>2282983706</td>\n",
       "      <td>2322279887</td>\n",
       "      <td>2019-08-15</td>\n",
       "      <td>2308</td>\n",
       "      <td>B</td>\n",
       "    </tr>\n",
       "  </tbody>\n",
       "</table>\n",
       "</div>"
      ],
      "text/plain": [
       "   transactionId   visitorId        date  revenue group\n",
       "0     3667963787  3312258926  2019-08-15     1650     B\n",
       "1     2804400009  3642806036  2019-08-15      730     B\n",
       "2     2961555356  4069496402  2019-08-15      400     A\n",
       "3     3797467345  1196621759  2019-08-15     9759     B\n",
       "4     2282983706  2322279887  2019-08-15     2308     B"
      ]
     },
     "execution_count": 3,
     "metadata": {},
     "output_type": "execute_result"
    }
   ],
   "source": [
    "#Посмотрим как выгрузились данные и опишем их \n",
    "orders.head()"
   ]
  },
  {
   "cell_type": "code",
   "execution_count": 4,
   "metadata": {},
   "outputs": [
    {
     "data": {
      "text/html": [
       "<div>\n",
       "<style scoped>\n",
       "    .dataframe tbody tr th:only-of-type {\n",
       "        vertical-align: middle;\n",
       "    }\n",
       "\n",
       "    .dataframe tbody tr th {\n",
       "        vertical-align: top;\n",
       "    }\n",
       "\n",
       "    .dataframe thead th {\n",
       "        text-align: right;\n",
       "    }\n",
       "</style>\n",
       "<table border=\"1\" class=\"dataframe\">\n",
       "  <thead>\n",
       "    <tr style=\"text-align: right;\">\n",
       "      <th></th>\n",
       "      <th>date</th>\n",
       "      <th>group</th>\n",
       "      <th>visitors</th>\n",
       "    </tr>\n",
       "  </thead>\n",
       "  <tbody>\n",
       "    <tr>\n",
       "      <th>0</th>\n",
       "      <td>2019-08-01</td>\n",
       "      <td>A</td>\n",
       "      <td>719</td>\n",
       "    </tr>\n",
       "    <tr>\n",
       "      <th>1</th>\n",
       "      <td>2019-08-02</td>\n",
       "      <td>A</td>\n",
       "      <td>619</td>\n",
       "    </tr>\n",
       "    <tr>\n",
       "      <th>2</th>\n",
       "      <td>2019-08-03</td>\n",
       "      <td>A</td>\n",
       "      <td>507</td>\n",
       "    </tr>\n",
       "    <tr>\n",
       "      <th>3</th>\n",
       "      <td>2019-08-04</td>\n",
       "      <td>A</td>\n",
       "      <td>717</td>\n",
       "    </tr>\n",
       "    <tr>\n",
       "      <th>4</th>\n",
       "      <td>2019-08-05</td>\n",
       "      <td>A</td>\n",
       "      <td>756</td>\n",
       "    </tr>\n",
       "  </tbody>\n",
       "</table>\n",
       "</div>"
      ],
      "text/plain": [
       "         date group  visitors\n",
       "0  2019-08-01     A       719\n",
       "1  2019-08-02     A       619\n",
       "2  2019-08-03     A       507\n",
       "3  2019-08-04     A       717\n",
       "4  2019-08-05     A       756"
      ]
     },
     "execution_count": 4,
     "metadata": {},
     "output_type": "execute_result"
    }
   ],
   "source": [
    "visitors.head()"
   ]
  },
  {
   "cell_type": "code",
   "execution_count": 5,
   "metadata": {},
   "outputs": [
    {
     "data": {
      "text/html": [
       "<div>\n",
       "<style scoped>\n",
       "    .dataframe tbody tr th:only-of-type {\n",
       "        vertical-align: middle;\n",
       "    }\n",
       "\n",
       "    .dataframe tbody tr th {\n",
       "        vertical-align: top;\n",
       "    }\n",
       "\n",
       "    .dataframe thead th {\n",
       "        text-align: right;\n",
       "    }\n",
       "</style>\n",
       "<table border=\"1\" class=\"dataframe\">\n",
       "  <thead>\n",
       "    <tr style=\"text-align: right;\">\n",
       "      <th></th>\n",
       "      <th>Hypothesis</th>\n",
       "      <th>Reach</th>\n",
       "      <th>Impact</th>\n",
       "      <th>Confidence</th>\n",
       "      <th>Efforts</th>\n",
       "    </tr>\n",
       "  </thead>\n",
       "  <tbody>\n",
       "    <tr>\n",
       "      <th>0</th>\n",
       "      <td>Добавить два новых канала привлечения трафика,...</td>\n",
       "      <td>3</td>\n",
       "      <td>10</td>\n",
       "      <td>8</td>\n",
       "      <td>6</td>\n",
       "    </tr>\n",
       "    <tr>\n",
       "      <th>1</th>\n",
       "      <td>Запустить собственную службу доставки, что сок...</td>\n",
       "      <td>2</td>\n",
       "      <td>5</td>\n",
       "      <td>4</td>\n",
       "      <td>10</td>\n",
       "    </tr>\n",
       "    <tr>\n",
       "      <th>2</th>\n",
       "      <td>Добавить блоки рекомендаций товаров на сайт ин...</td>\n",
       "      <td>8</td>\n",
       "      <td>3</td>\n",
       "      <td>7</td>\n",
       "      <td>3</td>\n",
       "    </tr>\n",
       "    <tr>\n",
       "      <th>3</th>\n",
       "      <td>Изменить структура категорий, что увеличит кон...</td>\n",
       "      <td>8</td>\n",
       "      <td>3</td>\n",
       "      <td>3</td>\n",
       "      <td>8</td>\n",
       "    </tr>\n",
       "    <tr>\n",
       "      <th>4</th>\n",
       "      <td>Изменить цвет фона главной страницы, чтобы уве...</td>\n",
       "      <td>3</td>\n",
       "      <td>1</td>\n",
       "      <td>1</td>\n",
       "      <td>1</td>\n",
       "    </tr>\n",
       "    <tr>\n",
       "      <th>5</th>\n",
       "      <td>Добавить страницу отзывов клиентов о магазине,...</td>\n",
       "      <td>3</td>\n",
       "      <td>2</td>\n",
       "      <td>2</td>\n",
       "      <td>3</td>\n",
       "    </tr>\n",
       "    <tr>\n",
       "      <th>6</th>\n",
       "      <td>Показать на главной странице баннеры с актуаль...</td>\n",
       "      <td>5</td>\n",
       "      <td>3</td>\n",
       "      <td>8</td>\n",
       "      <td>3</td>\n",
       "    </tr>\n",
       "    <tr>\n",
       "      <th>7</th>\n",
       "      <td>Добавить форму подписки на все основные страни...</td>\n",
       "      <td>10</td>\n",
       "      <td>7</td>\n",
       "      <td>8</td>\n",
       "      <td>5</td>\n",
       "    </tr>\n",
       "    <tr>\n",
       "      <th>8</th>\n",
       "      <td>Запустить акцию, дающую скидку на товар в день...</td>\n",
       "      <td>1</td>\n",
       "      <td>9</td>\n",
       "      <td>9</td>\n",
       "      <td>5</td>\n",
       "    </tr>\n",
       "  </tbody>\n",
       "</table>\n",
       "</div>"
      ],
      "text/plain": [
       "                                          Hypothesis  Reach  Impact  \\\n",
       "0  Добавить два новых канала привлечения трафика,...      3      10   \n",
       "1  Запустить собственную службу доставки, что сок...      2       5   \n",
       "2  Добавить блоки рекомендаций товаров на сайт ин...      8       3   \n",
       "3  Изменить структура категорий, что увеличит кон...      8       3   \n",
       "4  Изменить цвет фона главной страницы, чтобы уве...      3       1   \n",
       "5  Добавить страницу отзывов клиентов о магазине,...      3       2   \n",
       "6  Показать на главной странице баннеры с актуаль...      5       3   \n",
       "7  Добавить форму подписки на все основные страни...     10       7   \n",
       "8  Запустить акцию, дающую скидку на товар в день...      1       9   \n",
       "\n",
       "   Confidence  Efforts  \n",
       "0           8        6  \n",
       "1           4       10  \n",
       "2           7        3  \n",
       "3           3        8  \n",
       "4           1        1  \n",
       "5           2        3  \n",
       "6           8        3  \n",
       "7           8        5  \n",
       "8           9        5  "
      ]
     },
     "execution_count": 5,
     "metadata": {},
     "output_type": "execute_result"
    }
   ],
   "source": [
    "hypothesis.head(9)"
   ]
  },
  {
   "cell_type": "markdown",
   "metadata": {},
   "source": [
    "Данные orders.csv:\n",
    "\n",
    "    •\ttransactionId — идентификатор заказа;\n",
    "    •\tvisitorId — идентификатор пользователя, совершившего заказ;\n",
    "    •\tdate — дата, когда был совершён заказ;\n",
    "    •\trevenue — выручка заказа;\n",
    "    •\tgroup — группа A/B-теста, в которую попал заказ.\n",
    "\n",
    "Данные visitors.csv:\n",
    "\n",
    "    •\tdate — дата;\n",
    "    •\tgroup — группа A/B-теста;\n",
    "    •\tvisitors — количество пользователей в указанную дату в указанной группе A/B-теста\n",
    " \n",
    "Данные hypothesis.csv:\n",
    "\n",
    "    •\tHypothesis — краткое описание гипотезы;\n",
    "    •\tReach — охват пользователей по 10-балльной шкале;\n",
    "    •\tImpact — влияние на пользователей по 10-балльной шкале;\n",
    "    •\tConfidence — уверенность в гипотезе по 10-балльной шкале;\n",
    "    •\tEfforts — затраты ресурсов на проверку гипотезы по 10-балльной шкале. Чем больше значение Efforts, тем дороже проверка гипотезы."
   ]
  },
  {
   "cell_type": "code",
   "execution_count": 6,
   "metadata": {},
   "outputs": [
    {
     "name": "stdout",
     "output_type": "stream",
     "text": [
      "<class 'pandas.core.frame.DataFrame'>\n",
      "RangeIndex: 1197 entries, 0 to 1196\n",
      "Data columns (total 5 columns):\n",
      " #   Column         Non-Null Count  Dtype         \n",
      "---  ------         --------------  -----         \n",
      " 0   transactionId  1197 non-null   int64         \n",
      " 1   visitorId      1197 non-null   int64         \n",
      " 2   date           1197 non-null   datetime64[ns]\n",
      " 3   revenue        1197 non-null   int64         \n",
      " 4   group          1197 non-null   object        \n",
      "dtypes: datetime64[ns](1), int64(3), object(1)\n",
      "memory usage: 46.9+ KB\n",
      "------------------------------------------------------\n",
      "<class 'pandas.core.frame.DataFrame'>\n",
      "RangeIndex: 62 entries, 0 to 61\n",
      "Data columns (total 3 columns):\n",
      " #   Column    Non-Null Count  Dtype         \n",
      "---  ------    --------------  -----         \n",
      " 0   date      62 non-null     datetime64[ns]\n",
      " 1   group     62 non-null     object        \n",
      " 2   visitors  62 non-null     int64         \n",
      "dtypes: datetime64[ns](1), int64(1), object(1)\n",
      "memory usage: 1.6+ KB\n"
     ]
    }
   ],
   "source": [
    "#Приведем дату в нужный формат и посмотрим пропуски\n",
    "orders['date'] = orders['date'].astype('datetime64[D]')\n",
    "visitors['date'] = visitors['date'].astype('datetime64[D]')\n",
    "orders.info()\n",
    "print('------------------------------------------------------')\n",
    "visitors.info()"
   ]
  },
  {
   "cell_type": "markdown",
   "metadata": {},
   "source": [
    "Пропуски отсутствуют."
   ]
  },
  {
   "cell_type": "code",
   "execution_count": 7,
   "metadata": {},
   "outputs": [
    {
     "name": "stdout",
     "output_type": "stream",
     "text": [
      "Дата min: 2019-08-01 00:00:00 Дата max: 2019-08-31 00:00:00\n"
     ]
    }
   ],
   "source": [
    "#Проверим совпадают ли периоды в датасетах, найдем мах и min даты\n",
    "orders_date_min = orders['date'].min()\n",
    "orders_date_max = orders['date'].max()\n",
    "print('Дата min:', orders_date_min, 'Дата max:', orders_date_max)"
   ]
  },
  {
   "cell_type": "code",
   "execution_count": 8,
   "metadata": {
    "scrolled": true
   },
   "outputs": [
    {
     "name": "stdout",
     "output_type": "stream",
     "text": [
      "Дата min: 2019-08-01 00:00:00 Дата max: 2019-08-31 00:00:00\n"
     ]
    }
   ],
   "source": [
    "visitors_date_min = orders['date'].min()\n",
    "visitors_date_max = orders['date'].max()\n",
    "print('Дата min:', visitors_date_min, 'Дата max:', visitors_date_max)"
   ]
  },
  {
   "cell_type": "markdown",
   "metadata": {},
   "source": [
    "Даты совпадают."
   ]
  },
  {
   "cell_type": "code",
   "execution_count": 9,
   "metadata": {},
   "outputs": [
    {
     "name": "stdout",
     "output_type": "stream",
     "text": [
      "Дубликаты отсутствуют\n"
     ]
    }
   ],
   "source": [
    "if orders.duplicated().sum() > 0:\n",
    "    print('Дубликатов: ', orders.duplicated().sum())\n",
    "else:\n",
    "    print('Дубликаты отсутствуют')"
   ]
  },
  {
   "cell_type": "code",
   "execution_count": 10,
   "metadata": {},
   "outputs": [
    {
     "name": "stdout",
     "output_type": "stream",
     "text": [
      "Дубликаты отсутствуют\n"
     ]
    }
   ],
   "source": [
    "if visitors.duplicated().sum() > 0:\n",
    "    print('Дубликатов: ', visitors.duplicated().sum())\n",
    "else:\n",
    "    print('Дубликаты отсутствуют')"
   ]
  },
  {
   "cell_type": "markdown",
   "metadata": {},
   "source": [
    "**Вывод:**\n",
    "\n",
    "Данные подготовлены к дальнейшему исследованию, пропуски и дубликаты отсутствуют, даты приведены к нужному типу, периоды в датасетах совпадают."
   ]
  },
  {
   "cell_type": "code",
   "execution_count": 11,
   "metadata": {},
   "outputs": [
    {
     "data": {
      "text/plain": [
       "58"
      ]
     },
     "execution_count": 11,
     "metadata": {},
     "output_type": "execute_result"
    }
   ],
   "source": [
    "# Проверим, не попадают ли какие-то пользователи в обе группы\n",
    "visitorsA = orders[orders['group']=='A']['visitorId'].sort_values().unique()\n",
    "visitorsB = orders[orders['group']=='B']['visitorId'].sort_values().unique()\n",
    "visitors_duplicate = list(set(visitorsA) & set(visitorsB))\n",
    "len(visitors_duplicate)"
   ]
  },
  {
   "cell_type": "code",
   "execution_count": 12,
   "metadata": {},
   "outputs": [],
   "source": [
    "# В обе группы попали 58 пользователей, т.к. их малое количество, удалим.\n",
    "orders = orders.query('visitorId not in @visitors_duplicate')"
   ]
  },
  {
   "cell_type": "markdown",
   "metadata": {},
   "source": [
    "## Приоритизация гипотез"
   ]
  },
  {
   "cell_type": "markdown",
   "metadata": {},
   "source": [
    "### [Примените фреймворк ICE для приоритизации гипотез. Отсортируйте их по убыванию приоритета.](#3)"
   ]
  },
  {
   "cell_type": "code",
   "execution_count": 13,
   "metadata": {},
   "outputs": [],
   "source": [
    "pd.set_option('max_colwidth', 200)"
   ]
  },
  {
   "cell_type": "code",
   "execution_count": 14,
   "metadata": {},
   "outputs": [
    {
     "data": {
      "text/html": [
       "<div>\n",
       "<style scoped>\n",
       "    .dataframe tbody tr th:only-of-type {\n",
       "        vertical-align: middle;\n",
       "    }\n",
       "\n",
       "    .dataframe tbody tr th {\n",
       "        vertical-align: top;\n",
       "    }\n",
       "\n",
       "    .dataframe thead th {\n",
       "        text-align: right;\n",
       "    }\n",
       "</style>\n",
       "<table border=\"1\" class=\"dataframe\">\n",
       "  <thead>\n",
       "    <tr style=\"text-align: right;\">\n",
       "      <th></th>\n",
       "      <th>Hypothesis</th>\n",
       "      <th>Reach</th>\n",
       "      <th>Impact</th>\n",
       "      <th>Confidence</th>\n",
       "      <th>Efforts</th>\n",
       "      <th>ice</th>\n",
       "    </tr>\n",
       "  </thead>\n",
       "  <tbody>\n",
       "    <tr>\n",
       "      <th>8</th>\n",
       "      <td>Запустить акцию, дающую скидку на товар в день рождения</td>\n",
       "      <td>1</td>\n",
       "      <td>9</td>\n",
       "      <td>9</td>\n",
       "      <td>5</td>\n",
       "      <td>16.20</td>\n",
       "    </tr>\n",
       "    <tr>\n",
       "      <th>0</th>\n",
       "      <td>Добавить два новых канала привлечения трафика, что позволит привлекать на 30% больше пользователей</td>\n",
       "      <td>3</td>\n",
       "      <td>10</td>\n",
       "      <td>8</td>\n",
       "      <td>6</td>\n",
       "      <td>13.33</td>\n",
       "    </tr>\n",
       "    <tr>\n",
       "      <th>7</th>\n",
       "      <td>Добавить форму подписки на все основные страницы, чтобы собрать базу клиентов для email-рассылок</td>\n",
       "      <td>10</td>\n",
       "      <td>7</td>\n",
       "      <td>8</td>\n",
       "      <td>5</td>\n",
       "      <td>11.20</td>\n",
       "    </tr>\n",
       "    <tr>\n",
       "      <th>6</th>\n",
       "      <td>Показать на главной странице баннеры с актуальными акциями и распродажами, чтобы увеличить конверсию</td>\n",
       "      <td>5</td>\n",
       "      <td>3</td>\n",
       "      <td>8</td>\n",
       "      <td>3</td>\n",
       "      <td>8.00</td>\n",
       "    </tr>\n",
       "    <tr>\n",
       "      <th>2</th>\n",
       "      <td>Добавить блоки рекомендаций товаров на сайт интернет магазина, чтобы повысить конверсию и средний чек заказа</td>\n",
       "      <td>8</td>\n",
       "      <td>3</td>\n",
       "      <td>7</td>\n",
       "      <td>3</td>\n",
       "      <td>7.00</td>\n",
       "    </tr>\n",
       "    <tr>\n",
       "      <th>1</th>\n",
       "      <td>Запустить собственную службу доставки, что сократит срок доставки заказов</td>\n",
       "      <td>2</td>\n",
       "      <td>5</td>\n",
       "      <td>4</td>\n",
       "      <td>10</td>\n",
       "      <td>2.00</td>\n",
       "    </tr>\n",
       "    <tr>\n",
       "      <th>5</th>\n",
       "      <td>Добавить страницу отзывов клиентов о магазине, что позволит увеличить количество заказов</td>\n",
       "      <td>3</td>\n",
       "      <td>2</td>\n",
       "      <td>2</td>\n",
       "      <td>3</td>\n",
       "      <td>1.33</td>\n",
       "    </tr>\n",
       "    <tr>\n",
       "      <th>3</th>\n",
       "      <td>Изменить структура категорий, что увеличит конверсию, т.к. пользователи быстрее найдут нужный товар</td>\n",
       "      <td>8</td>\n",
       "      <td>3</td>\n",
       "      <td>3</td>\n",
       "      <td>8</td>\n",
       "      <td>1.12</td>\n",
       "    </tr>\n",
       "    <tr>\n",
       "      <th>4</th>\n",
       "      <td>Изменить цвет фона главной страницы, чтобы увеличить вовлеченность пользователей</td>\n",
       "      <td>3</td>\n",
       "      <td>1</td>\n",
       "      <td>1</td>\n",
       "      <td>1</td>\n",
       "      <td>1.00</td>\n",
       "    </tr>\n",
       "  </tbody>\n",
       "</table>\n",
       "</div>"
      ],
      "text/plain": [
       "                                                                                                     Hypothesis  \\\n",
       "8                                                       Запустить акцию, дающую скидку на товар в день рождения   \n",
       "0            Добавить два новых канала привлечения трафика, что позволит привлекать на 30% больше пользователей   \n",
       "7              Добавить форму подписки на все основные страницы, чтобы собрать базу клиентов для email-рассылок   \n",
       "6          Показать на главной странице баннеры с актуальными акциями и распродажами, чтобы увеличить конверсию   \n",
       "2  Добавить блоки рекомендаций товаров на сайт интернет магазина, чтобы повысить конверсию и средний чек заказа   \n",
       "1                                     Запустить собственную службу доставки, что сократит срок доставки заказов   \n",
       "5                      Добавить страницу отзывов клиентов о магазине, что позволит увеличить количество заказов   \n",
       "3           Изменить структура категорий, что увеличит конверсию, т.к. пользователи быстрее найдут нужный товар   \n",
       "4                              Изменить цвет фона главной страницы, чтобы увеличить вовлеченность пользователей   \n",
       "\n",
       "   Reach  Impact  Confidence  Efforts    ice  \n",
       "8      1       9           9        5  16.20  \n",
       "0      3      10           8        6  13.33  \n",
       "7     10       7           8        5  11.20  \n",
       "6      5       3           8        3   8.00  \n",
       "2      8       3           7        3   7.00  \n",
       "1      2       5           4       10   2.00  \n",
       "5      3       2           2        3   1.33  \n",
       "3      8       3           3        8   1.12  \n",
       "4      3       1           1        1   1.00  "
      ]
     },
     "execution_count": 14,
     "metadata": {},
     "output_type": "execute_result"
    }
   ],
   "source": [
    "hypothesis['ice'] = hypothesis['Impact'] * hypothesis['Confidence'] / hypothesis['Efforts']\n",
    "hypothesis.sort_values(by='ice', ascending =False).round(2)"
   ]
  },
  {
   "cell_type": "markdown",
   "metadata": {},
   "source": [
    "### [Примените фреймворк RICE для приоритизации гипотез. Отсортируйте их по убыванию приоритета.](#4)"
   ]
  },
  {
   "cell_type": "code",
   "execution_count": 15,
   "metadata": {},
   "outputs": [
    {
     "data": {
      "text/html": [
       "<div>\n",
       "<style scoped>\n",
       "    .dataframe tbody tr th:only-of-type {\n",
       "        vertical-align: middle;\n",
       "    }\n",
       "\n",
       "    .dataframe tbody tr th {\n",
       "        vertical-align: top;\n",
       "    }\n",
       "\n",
       "    .dataframe thead th {\n",
       "        text-align: right;\n",
       "    }\n",
       "</style>\n",
       "<table border=\"1\" class=\"dataframe\">\n",
       "  <thead>\n",
       "    <tr style=\"text-align: right;\">\n",
       "      <th></th>\n",
       "      <th>Hypothesis</th>\n",
       "      <th>Reach</th>\n",
       "      <th>Impact</th>\n",
       "      <th>Confidence</th>\n",
       "      <th>Efforts</th>\n",
       "      <th>ice</th>\n",
       "      <th>rice</th>\n",
       "    </tr>\n",
       "  </thead>\n",
       "  <tbody>\n",
       "    <tr>\n",
       "      <th>7</th>\n",
       "      <td>Добавить форму подписки на все основные страницы, чтобы собрать базу клиентов для email-рассылок</td>\n",
       "      <td>10</td>\n",
       "      <td>7</td>\n",
       "      <td>8</td>\n",
       "      <td>5</td>\n",
       "      <td>11.20</td>\n",
       "      <td>112.0</td>\n",
       "    </tr>\n",
       "    <tr>\n",
       "      <th>2</th>\n",
       "      <td>Добавить блоки рекомендаций товаров на сайт интернет магазина, чтобы повысить конверсию и средний чек заказа</td>\n",
       "      <td>8</td>\n",
       "      <td>3</td>\n",
       "      <td>7</td>\n",
       "      <td>3</td>\n",
       "      <td>7.00</td>\n",
       "      <td>56.0</td>\n",
       "    </tr>\n",
       "    <tr>\n",
       "      <th>0</th>\n",
       "      <td>Добавить два новых канала привлечения трафика, что позволит привлекать на 30% больше пользователей</td>\n",
       "      <td>3</td>\n",
       "      <td>10</td>\n",
       "      <td>8</td>\n",
       "      <td>6</td>\n",
       "      <td>13.33</td>\n",
       "      <td>40.0</td>\n",
       "    </tr>\n",
       "    <tr>\n",
       "      <th>6</th>\n",
       "      <td>Показать на главной странице баннеры с актуальными акциями и распродажами, чтобы увеличить конверсию</td>\n",
       "      <td>5</td>\n",
       "      <td>3</td>\n",
       "      <td>8</td>\n",
       "      <td>3</td>\n",
       "      <td>8.00</td>\n",
       "      <td>40.0</td>\n",
       "    </tr>\n",
       "    <tr>\n",
       "      <th>8</th>\n",
       "      <td>Запустить акцию, дающую скидку на товар в день рождения</td>\n",
       "      <td>1</td>\n",
       "      <td>9</td>\n",
       "      <td>9</td>\n",
       "      <td>5</td>\n",
       "      <td>16.20</td>\n",
       "      <td>16.2</td>\n",
       "    </tr>\n",
       "    <tr>\n",
       "      <th>3</th>\n",
       "      <td>Изменить структура категорий, что увеличит конверсию, т.к. пользователи быстрее найдут нужный товар</td>\n",
       "      <td>8</td>\n",
       "      <td>3</td>\n",
       "      <td>3</td>\n",
       "      <td>8</td>\n",
       "      <td>1.12</td>\n",
       "      <td>9.0</td>\n",
       "    </tr>\n",
       "    <tr>\n",
       "      <th>1</th>\n",
       "      <td>Запустить собственную службу доставки, что сократит срок доставки заказов</td>\n",
       "      <td>2</td>\n",
       "      <td>5</td>\n",
       "      <td>4</td>\n",
       "      <td>10</td>\n",
       "      <td>2.00</td>\n",
       "      <td>4.0</td>\n",
       "    </tr>\n",
       "    <tr>\n",
       "      <th>5</th>\n",
       "      <td>Добавить страницу отзывов клиентов о магазине, что позволит увеличить количество заказов</td>\n",
       "      <td>3</td>\n",
       "      <td>2</td>\n",
       "      <td>2</td>\n",
       "      <td>3</td>\n",
       "      <td>1.33</td>\n",
       "      <td>4.0</td>\n",
       "    </tr>\n",
       "    <tr>\n",
       "      <th>4</th>\n",
       "      <td>Изменить цвет фона главной страницы, чтобы увеличить вовлеченность пользователей</td>\n",
       "      <td>3</td>\n",
       "      <td>1</td>\n",
       "      <td>1</td>\n",
       "      <td>1</td>\n",
       "      <td>1.00</td>\n",
       "      <td>3.0</td>\n",
       "    </tr>\n",
       "  </tbody>\n",
       "</table>\n",
       "</div>"
      ],
      "text/plain": [
       "                                                                                                     Hypothesis  \\\n",
       "7              Добавить форму подписки на все основные страницы, чтобы собрать базу клиентов для email-рассылок   \n",
       "2  Добавить блоки рекомендаций товаров на сайт интернет магазина, чтобы повысить конверсию и средний чек заказа   \n",
       "0            Добавить два новых канала привлечения трафика, что позволит привлекать на 30% больше пользователей   \n",
       "6          Показать на главной странице баннеры с актуальными акциями и распродажами, чтобы увеличить конверсию   \n",
       "8                                                       Запустить акцию, дающую скидку на товар в день рождения   \n",
       "3           Изменить структура категорий, что увеличит конверсию, т.к. пользователи быстрее найдут нужный товар   \n",
       "1                                     Запустить собственную службу доставки, что сократит срок доставки заказов   \n",
       "5                      Добавить страницу отзывов клиентов о магазине, что позволит увеличить количество заказов   \n",
       "4                              Изменить цвет фона главной страницы, чтобы увеличить вовлеченность пользователей   \n",
       "\n",
       "   Reach  Impact  Confidence  Efforts    ice   rice  \n",
       "7     10       7           8        5  11.20  112.0  \n",
       "2      8       3           7        3   7.00   56.0  \n",
       "0      3      10           8        6  13.33   40.0  \n",
       "6      5       3           8        3   8.00   40.0  \n",
       "8      1       9           9        5  16.20   16.2  \n",
       "3      8       3           3        8   1.12    9.0  \n",
       "1      2       5           4       10   2.00    4.0  \n",
       "5      3       2           2        3   1.33    4.0  \n",
       "4      3       1           1        1   1.00    3.0  "
      ]
     },
     "execution_count": 15,
     "metadata": {},
     "output_type": "execute_result"
    }
   ],
   "source": [
    "hypothesis['rice'] = hypothesis['Reach'] * hypothesis['Impact'] * hypothesis['Confidence'] / hypothesis['Efforts']\n",
    "hypothesis.sort_values(by='rice', ascending =False).round(2)"
   ]
  },
  {
   "cell_type": "markdown",
   "metadata": {},
   "source": [
    "### [Укажите, как изменилась приоритизация гипотез при применении RICE вместо ICE. Объясните, почему так произошло.](#5)"
   ]
  },
  {
   "cell_type": "markdown",
   "metadata": {},
   "source": [
    "**Вывод**\n",
    "\n",
    "При применении RICE вместо ICE изменилась приоритизация гипотез, если после применения ICE лидерами были гипотезы: \n",
    "\n",
    "    '8' - 'Запустить акцию, дающую скидку на товар в день рождения', \n",
    "    '0' - 'Добавить два новых канала привлечения трафика, что позволит привлекать на 30% больше пользователей', \n",
    "    '7' - 'Добавить форму подписки на все основные страницы, чтобы собрать базу клиентов для email-рассылок', \n",
    "    \n",
    "то при применениии RICE лидерами стали гипотезы \n",
    "\n",
    "    '7' - 'Добавить форму подписки на все основные страницы, чтобы собрать базу клиентов для email-рассылок',\n",
    "    '2' - 'Добавить блоки рекомендаций товаров на сайт интернет магазина, чтобы повысить конверсию и средний чек заказа', \n",
    "    '0' - 'Добавить два новых канала привлечения трафика, что позволит привлекать на 30% больше пользователей'. \n",
    "\n",
    "Думаю, что это связанно с тем, что при ICE не был учтен Reach — скольких пользователей затронет изменение, которое хотите внести.\n",
    "\n",
    "Гипотезу '7' - 'Добавить форму подписки на все основные страницы, чтобы собрать базу клиентов для email-рассылок', будем тестировать первой."
   ]
  },
  {
   "cell_type": "markdown",
   "metadata": {},
   "source": [
    "## Анализ A/B-теста"
   ]
  },
  {
   "cell_type": "markdown",
   "metadata": {},
   "source": [
    "#### [Постройте график кумулятивной выручки по группам. Сделайте выводы и предположения.](#6)"
   ]
  },
  {
   "cell_type": "code",
   "execution_count": 16,
   "metadata": {},
   "outputs": [
    {
     "data": {
      "text/html": [
       "<div>\n",
       "<style scoped>\n",
       "    .dataframe tbody tr th:only-of-type {\n",
       "        vertical-align: middle;\n",
       "    }\n",
       "\n",
       "    .dataframe tbody tr th {\n",
       "        vertical-align: top;\n",
       "    }\n",
       "\n",
       "    .dataframe thead th {\n",
       "        text-align: right;\n",
       "    }\n",
       "</style>\n",
       "<table border=\"1\" class=\"dataframe\">\n",
       "  <thead>\n",
       "    <tr style=\"text-align: right;\">\n",
       "      <th></th>\n",
       "      <th>date</th>\n",
       "      <th>group</th>\n",
       "      <th>orders</th>\n",
       "      <th>buyers</th>\n",
       "      <th>revenue</th>\n",
       "      <th>visitors</th>\n",
       "    </tr>\n",
       "  </thead>\n",
       "  <tbody>\n",
       "    <tr>\n",
       "      <th>0</th>\n",
       "      <td>2019-08-01</td>\n",
       "      <td>A</td>\n",
       "      <td>23</td>\n",
       "      <td>19</td>\n",
       "      <td>142779</td>\n",
       "      <td>719</td>\n",
       "    </tr>\n",
       "    <tr>\n",
       "      <th>1</th>\n",
       "      <td>2019-08-01</td>\n",
       "      <td>B</td>\n",
       "      <td>17</td>\n",
       "      <td>17</td>\n",
       "      <td>59758</td>\n",
       "      <td>713</td>\n",
       "    </tr>\n",
       "    <tr>\n",
       "      <th>2</th>\n",
       "      <td>2019-08-02</td>\n",
       "      <td>A</td>\n",
       "      <td>42</td>\n",
       "      <td>36</td>\n",
       "      <td>234381</td>\n",
       "      <td>1338</td>\n",
       "    </tr>\n",
       "    <tr>\n",
       "      <th>3</th>\n",
       "      <td>2019-08-02</td>\n",
       "      <td>B</td>\n",
       "      <td>40</td>\n",
       "      <td>39</td>\n",
       "      <td>221801</td>\n",
       "      <td>1294</td>\n",
       "    </tr>\n",
       "    <tr>\n",
       "      <th>4</th>\n",
       "      <td>2019-08-03</td>\n",
       "      <td>A</td>\n",
       "      <td>66</td>\n",
       "      <td>60</td>\n",
       "      <td>346854</td>\n",
       "      <td>1845</td>\n",
       "    </tr>\n",
       "  </tbody>\n",
       "</table>\n",
       "</div>"
      ],
      "text/plain": [
       "        date group  orders  buyers  revenue  visitors\n",
       "0 2019-08-01     A      23      19   142779       719\n",
       "1 2019-08-01     B      17      17    59758       713\n",
       "2 2019-08-02     A      42      36   234381      1338\n",
       "3 2019-08-02     B      40      39   221801      1294\n",
       "4 2019-08-03     A      66      60   346854      1845"
      ]
     },
     "execution_count": 16,
     "metadata": {},
     "output_type": "execute_result"
    }
   ],
   "source": [
    "# создаем массив уникальных пар значений дат и групп теста\n",
    "datesGroups = orders[['date','group']].drop_duplicates().sort_values(by=['date', 'group'])\n",
    "\n",
    "# получаем агрегированные кумулятивные по дням данные о заказах \n",
    "ordersAggregated = datesGroups.apply(lambda x: orders[np.logical_and(x['date'] >= orders['date'], x['group']==orders['group'])]\\\n",
    ".agg({'date':'max', 'group':'max', 'transactionId':'nunique', 'visitorId':'nunique', 'revenue':'sum'}), axis = 1)\n",
    "ordersAggregated.columns = ['date', 'group', 'orders', 'buyers', 'revenue']\n",
    "\n",
    "# получаем агрегированные кумулятивные по дням данные о посетителях интернет-магазина \n",
    "visitorsAggregated = datesGroups.apply(lambda x: visitors[np.logical_and(x['date'] >= visitors['date'], x['group']==visitors['group'])]\\\n",
    ".agg({'date':'max', 'group':'max', 'visitors':'sum'}), axis = 1)\n",
    "\n",
    "# объединяем кумулятивные данные в одной таблице и присваиваем ее столбцам понятные названия\n",
    "cumulativeData = ordersAggregated.merge(visitorsAggregated, left_on=['date', 'group'], right_on=['date', 'group'])\n",
    "cumulativeData.columns = ['date', 'group', 'orders', 'buyers', 'revenue', 'visitors']\n",
    "\n",
    "cumulativeData.head(5) "
   ]
  },
  {
   "cell_type": "code",
   "execution_count": 17,
   "metadata": {},
   "outputs": [
    {
     "name": "stdout",
     "output_type": "stream",
     "text": [
      "Дата min: 2019-08-01 00:00:00 Дата max: 2019-08-31 00:00:00\n"
     ]
    }
   ],
   "source": [
    "#Проверим совпадают ли период в датасете, найдем мах и min даты\n",
    "cumulativeData_min = cumulativeData['date'].min()\n",
    "cumulativeData_max = cumulativeData['date'].max()\n",
    "print('Дата min:', cumulativeData_min, 'Дата max:', cumulativeData_max)"
   ]
  },
  {
   "cell_type": "markdown",
   "metadata": {},
   "source": [
    "Минимальная и максимальная даты в исходных датасетах и в новом датасете совпадают. "
   ]
  },
  {
   "cell_type": "code",
   "execution_count": 18,
   "metadata": {},
   "outputs": [
    {
     "data": {
      "image/png": "[encoded data removed]",
      "text/plain": [
       "<Figure size 1200x500 with 1 Axes>"
      ]
     },
     "metadata": {},
     "output_type": "display_data"
    }
   ],
   "source": [
    "# Построим графики кумулятивной выручки по дням и группам A/B-тестирования: \n",
    "# датафрейм с кумулятивным количеством заказов и кумулятивной выручкой по дням в группе А\n",
    "cumulativeRevenueA = cumulativeData[cumulativeData['group']=='A'][['date','revenue', 'orders']]\n",
    "# датафрейм с кумулятивным количеством заказов и кумулятивной выручкой по дням в группе B\n",
    "cumulativeRevenueB = cumulativeData[cumulativeData['group']=='B'][['date','revenue', 'orders']]\n",
    "plt.figure(figsize=(12,5))\n",
    "# Строим график выручки группы А\n",
    "plt.plot(cumulativeRevenueA['date'], cumulativeRevenueA['revenue'], label='A')\n",
    "# Строим график выручки группы B\n",
    "plt.plot(cumulativeRevenueB['date'], cumulativeRevenueB['revenue'], label='B')\n",
    "\n",
    "plt.ylabel('Выручка')\n",
    "plt.xlabel('Дата')\n",
    "plt.title('Графики кумулятивной выручки по группам')\n",
    "plt.legend()\n",
    "plt.show()"
   ]
  },
  {
   "cell_type": "markdown",
   "metadata": {},
   "source": [
    "**Вывод:**\n",
    "\n",
    "По графику видим, что выручка равномерно увеличивается в течение всего теста у обеих групп, но группа В показывает стабильно лучшие результаты. 18 агуста был скачок в группе В, что может говорить об увеличении числа заказов, либо о появлении очень дорогих заказов."
   ]
  },
  {
   "cell_type": "markdown",
   "metadata": {},
   "source": [
    "#### [Постройте график кумулятивного среднего чека по группам. Сделайте выводы и предположения.](#7)"
   ]
  },
  {
   "cell_type": "code",
   "execution_count": 19,
   "metadata": {},
   "outputs": [
    {
     "data": {
      "image/png": "[encoded data removed]",
      "text/plain": [
       "<Figure size 1200x500 with 1 Axes>"
      ]
     },
     "metadata": {},
     "output_type": "display_data"
    }
   ],
   "source": [
    "plt.figure(figsize=(12,5))\n",
    "plt.plot(cumulativeRevenueA['date'], cumulativeRevenueA['revenue']/cumulativeRevenueA['orders'], label='A')\n",
    "plt.plot(cumulativeRevenueB['date'], cumulativeRevenueB['revenue']/cumulativeRevenueB['orders'], label='B')\n",
    "plt.title('Графики кумулятивного среднего чека по группам')\n",
    "plt.ylabel('Средний чек')\n",
    "plt.xlabel('Дата')\n",
    "plt.legend()\n",
    "plt.show()"
   ]
  },
  {
   "cell_type": "markdown",
   "metadata": {},
   "source": [
    "**Вывод:**\n",
    "\n",
    "Средний чек становится равномерным ближе к концу теста для группы А, для группы B после скачка идет снижение. Возможно, в группу B попали крупные заказы. Чтобы прийти к реальному среднему чеку и установиться на его уровне, возможно нужно больше данных."
   ]
  },
  {
   "cell_type": "markdown",
   "metadata": {},
   "source": [
    "#### [Постройте график относительного изменения кумулятивного среднего чека группы B к группе A. Сделайте выводы и предположения.](#8)"
   ]
  },
  {
   "cell_type": "code",
   "execution_count": 20,
   "metadata": {},
   "outputs": [
    {
     "data": {
      "image/png": "[encoded data removed]",
      "text/plain": [
       "<Figure size 1200x500 with 1 Axes>"
      ]
     },
     "metadata": {},
     "output_type": "display_data"
    }
   ],
   "source": [
    "# собираем данные в одном датафрейме\n",
    "mergedCumulativeRevenue = cumulativeRevenueA.merge(cumulativeRevenueB, left_on='date', right_on='date', how='left', suffixes=['A', 'B'])\n",
    "plt.figure(figsize=(12,5))\n",
    "# cтроим отношение средних чеков\n",
    "plt.plot(mergedCumulativeRevenue['date'], (mergedCumulativeRevenue['revenueB']/mergedCumulativeRevenue['ordersB'])/\n",
    "                                          (mergedCumulativeRevenue['revenueA']/mergedCumulativeRevenue['ordersA'])-1)\n",
    "# добавляем ось X\n",
    "plt.axhline(y=0, color='black', linestyle='--') \n",
    "plt.title('График относительного изменения кумулятивного среднего чека группы B к группе A')\n",
    "plt.ylabel('Средний чек')\n",
    "plt.xlabel('Дата')\n",
    "plt.show()"
   ]
  },
  {
   "cell_type": "markdown",
   "metadata": {},
   "source": [
    "**Вывод:**\n",
    "\n",
    "В нескольких точках график различия между сегментами резко «скачет». Возможно это крупные заказы и выбросы, необходимо будет проверить."
   ]
  },
  {
   "cell_type": "markdown",
   "metadata": {},
   "source": [
    "#### [Постройте график кумулятивного среднего количества заказов на посетителя по группам. Сделайте выводы и предположения.](#9)"
   ]
  },
  {
   "cell_type": "code",
   "execution_count": 21,
   "metadata": {},
   "outputs": [
    {
     "data": {
      "image/png": "[encoded data removed]",
      "text/plain": [
       "<Figure size 1200x500 with 1 Axes>"
      ]
     },
     "metadata": {},
     "output_type": "display_data"
    }
   ],
   "source": [
    "# считаем кумулятивную конверсию\n",
    "cumulativeData['conversion'] = cumulativeData['orders']/cumulativeData['visitors']\n",
    "plt.figure(figsize=(12,5))\n",
    "# отделяем данные по группе A\n",
    "cumulativeDataA = cumulativeData[cumulativeData['group']=='A']\n",
    "\n",
    "# отделяем данные по группе B\n",
    "cumulativeDataB = cumulativeData[cumulativeData['group']=='B']\n",
    "\n",
    "# строим графики\n",
    "plt.plot(cumulativeDataA['date'], cumulativeDataA['conversion'], label='A')\n",
    "plt.plot(cumulativeDataB['date'], cumulativeDataB['conversion'], label='B')\n",
    "plt.title('График кумулятивного среднего количества заказов по группам')\n",
    "plt.ylabel('Среднее количество заказов')\n",
    "plt.xlabel('Дата')\n",
    "# задаем масштаб осей\n",
    "plt.axis([dt.datetime(2019, 8, 1), dt.datetime(2019, 8, 31), 0, 0.05]);\n",
    "plt.legend()\n",
    "plt.show()"
   ]
  },
  {
   "cell_type": "markdown",
   "metadata": {},
   "source": [
    "**Вывод:**\n",
    "\n",
    "В начале теста среднее количество заказов колебалось у обоих групп, затем выровнялось и закрепилось практически на одном значении, среднее группы В стабильно выше среднего группы А."
   ]
  },
  {
   "cell_type": "markdown",
   "metadata": {},
   "source": [
    "#### [Постройте график относительного изменения кумулятивного среднего количества заказов на посетителя группы B к группе A. Сделайте выводы и предположения.](#10)"
   ]
  },
  {
   "cell_type": "code",
   "execution_count": 22,
   "metadata": {},
   "outputs": [
    {
     "data": {
      "image/png": "[encoded data removed]",
      "text/plain": [
       "<Figure size 1200x500 with 1 Axes>"
      ]
     },
     "metadata": {},
     "output_type": "display_data"
    }
   ],
   "source": [
    "plt.figure(figsize=(12,5))\n",
    "cumulativeDataA = cumulativeData[cumulativeData['group'] == 'A']\n",
    "cumulativeDataB = cumulativeData[cumulativeData['group'] == 'B']\n",
    "mergedCumulativeConversions = cumulativeDataA[['date','conversion']].merge(cumulativeDataB[['date','conversion']], left_on='date', right_on='date', how='left', suffixes=['A', 'B'])\n",
    "plt.plot(mergedCumulativeConversions['date'], mergedCumulativeConversions['conversionB']/\n",
    "         mergedCumulativeConversions['conversionA']-1, label=\"Относительный прирост конверсии группы B относительно группы A\")\n",
    "plt.title('График относительного изменения кумулятивного среднего количества заказов на посетителя группы B к группе A')\n",
    "plt.ylabel('Среднее количество заказов')\n",
    "plt.xlabel('Дата')\n",
    "plt.axhline(y=0, color='black', linestyle='--')\n",
    "plt.axhline(y=0.15, color='grey', linestyle='--')\n",
    "plt.axis([dt.datetime(2019, 8, 1), dt.datetime(2019, 8, 31), -0.5, 0.5]);"
   ]
  },
  {
   "cell_type": "markdown",
   "metadata": {},
   "source": [
    "**Вывод:**\n",
    "\n",
    "Среднее число заказов группы В по отношению к среднему группы А в начале теста колебалось, затем поднялось до 20 %, а более стабильно расположилось в районе 15%."
   ]
  },
  {
   "cell_type": "markdown",
   "metadata": {},
   "source": [
    "#### [Постройте точечный график количества заказов по пользователям. Сделайте выводы и предположения.](#11)"
   ]
  },
  {
   "cell_type": "code",
   "execution_count": 23,
   "metadata": {},
   "outputs": [
    {
     "name": "stdout",
     "output_type": "stream",
     "text": [
      "        visitor  orders\n",
      "908  3967698036       3\n",
      "55    249864742       3\n",
      "478  2108163459       3\n",
      "687  2988190573       3\n",
      "890  3908431265       3\n",
      "138   611059232       3\n",
      "632  2742574263       3\n",
      "157   678354126       2\n",
      "323  1404560065       2\n",
      "452  1985475298       2\n"
     ]
    },
    {
     "data": {
      "image/png": "[encoded data removed]",
      "text/plain": [
       "<Figure size 1200x500 with 1 Axes>"
      ]
     },
     "metadata": {},
     "output_type": "display_data"
    }
   ],
   "source": [
    "# Построим гистограмму распределения числа заказов по пользователям\n",
    "plt.figure(figsize=(12,5))\n",
    "ordersByUsers = (orders.groupby('visitorId', as_index=False).agg({'transactionId': 'nunique'}))\n",
    "ordersByUsers.columns = ['visitor', 'orders']\n",
    "print(ordersByUsers.sort_values(by='orders', ascending=False).head(10))\n",
    "plt.hist(ordersByUsers['orders'])\n",
    "plt.title('Гистограмма распределения числа заказов по пользователям')\n",
    "plt.ylabel('Количество пользователей')\n",
    "plt.xlabel('Количество заказов');"
   ]
  },
  {
   "cell_type": "code",
   "execution_count": 24,
   "metadata": {},
   "outputs": [
    {
     "data": {
      "image/png": "[encoded data removed]",
      "text/plain": [
       "<Figure size 1200x500 with 1 Axes>"
      ]
     },
     "metadata": {},
     "output_type": "display_data"
    }
   ],
   "source": [
    "# Построим точечный график количества заказов по пользователям\n",
    "plt.figure(figsize=(12,5))\n",
    "x_values = pd.Series(range(0, len(ordersByUsers)))\n",
    "plt.scatter(x_values, ordersByUsers['orders'])\n",
    "plt.title('Точечный график количества заказов по пользователям')\n",
    "plt.ylabel('Количество заказов')\n",
    "plt.xlabel('Количество пользователей');"
   ]
  },
  {
   "cell_type": "markdown",
   "metadata": {},
   "source": [
    "**Вывод:**\n",
    "\n",
    "Пользователей, сделавших заказ более 2 раз, очень мало, возможно это аномалии. "
   ]
  },
  {
   "cell_type": "markdown",
   "metadata": {},
   "source": [
    "#### [Посчитайте 95-й и 99-й перцентили количества заказов на пользователя. Выберите границу для определения аномальных пользователей.](#12)"
   ]
  },
  {
   "cell_type": "code",
   "execution_count": 25,
   "metadata": {},
   "outputs": [
    {
     "name": "stdout",
     "output_type": "stream",
     "text": [
      "      visitorId  orders\n",
      "908  3967698036       3\n",
      "55    249864742       3\n",
      "478  2108163459       3\n",
      "687  2988190573       3\n",
      "890  3908431265       3\n",
      "138   611059232       3\n",
      "632  2742574263       3\n",
      "157   678354126       2\n",
      "323  1404560065       2\n",
      "452  1985475298       2\n",
      "[1. 2.]\n"
     ]
    }
   ],
   "source": [
    "ordersByUsers = (orders.groupby('visitorId', as_index=False).agg({'transactionId': 'nunique'}))\n",
    "ordersByUsers.columns = ['visitorId', 'orders']\n",
    "print(ordersByUsers.sort_values(by='orders', ascending=False).head(10))\n",
    "percentiles = np.percentile(ordersByUsers['orders'], [95, 99])\n",
    "print(percentiles)\n",
    "percentil99 = int(np.percentile(ordersByUsers['orders'], [99]))\n",
    "#print(percentil99)"
   ]
  },
  {
   "cell_type": "markdown",
   "metadata": {},
   "source": [
    "**Вывод:**\n",
    "\n",
    "Как и говорилось ранее, пользователей, совершивших более 2 заказов не более 1%. За границу выбросов возьмем 99 перцентиль."
   ]
  },
  {
   "cell_type": "markdown",
   "metadata": {},
   "source": [
    "#### [Постройте точечный график стоимостей заказов. Сделайте выводы и предположения.](#13)"
   ]
  },
  {
   "cell_type": "code",
   "execution_count": 26,
   "metadata": {},
   "outputs": [
    {
     "data": {
      "image/png": "[encoded data removed]",
      "text/plain": [
       "<Figure size 1200x500 with 1 Axes>"
      ]
     },
     "metadata": {},
     "output_type": "display_data"
    }
   ],
   "source": [
    "# Построим гистограмму распределения стоимостей заказов\n",
    "plt.figure(figsize=(12,5))\n",
    "plt.hist(orders['revenue'], range=(0,100000), bins = 100)\n",
    "plt.title('Гистрограмма распределения стоимостей заказов')\n",
    "plt.ylabel('Количество пользователей')\n",
    "plt.xlabel('Стоимость заказов');\n",
    "plt.show()\n",
    "x_values = pd.Series(range(0, len(orders)))"
   ]
  },
  {
   "cell_type": "code",
   "execution_count": 27,
   "metadata": {},
   "outputs": [
    {
     "name": "stdout",
     "output_type": "stream",
     "text": [
      "      transactionId   visitorId       date  revenue group\n",
      "425       590470918  1920142716 2019-08-19  1294500     B\n",
      "1196     3936777065  2108080724 2019-08-15   202740     B\n",
      "1136      666610489  1307669133 2019-08-13    92550     A\n",
      "744      3668308183   888512513 2019-08-27    86620     B\n",
      "743      3603576309  4133034833 2019-08-09    67990     A\n",
      "1103     1348774318  1164614297 2019-08-12    66350     A\n",
      "1099      316924019   148427295 2019-08-12    65710     A\n",
      "949      1347999392   887908475 2019-08-21    60450     A\n",
      "940      2420050534  4003628586 2019-08-08    58550     B\n",
      "131      3163614039  2254586615 2019-08-22    53904     A\n"
     ]
    },
    {
     "data": {
      "image/png": "[encoded data removed]",
      "text/plain": [
       "<Figure size 1200x500 with 1 Axes>"
      ]
     },
     "metadata": {},
     "output_type": "display_data"
    }
   ],
   "source": [
    "# Построим точечный график количества заказов по пользователям\n",
    "plt.figure(figsize=(12,5))\n",
    "x_values = pd.Series(range(0, len(orders['revenue'])))\n",
    "plt.scatter(x_values, orders['revenue'])\n",
    "plt.axis([0, 1000, 0, 200000])\n",
    "plt.title('Точечный график стоимостей заказов')\n",
    "plt.ylabel('Стоимость заказов')\n",
    "plt.xlabel('Количество пользователей');\n",
    "print(orders.sort_values(by='revenue', ascending=False).head(10))"
   ]
  },
  {
   "cell_type": "code",
   "execution_count": 28,
   "metadata": {},
   "outputs": [
    {
     "data": {
      "image/png": "[encoded data removed]",
      "text/plain": [
       "<Figure size 1200x500 with 1 Axes>"
      ]
     },
     "metadata": {},
     "output_type": "display_data"
    }
   ],
   "source": [
    "# Построим точечный график количества заказов по пользователям без ограничения масштаба, чтобы картина была полной\n",
    "plt.figure(figsize=(12,5))\n",
    "x_values = pd.Series(range(0, len(orders['revenue'])))\n",
    "plt.scatter(x_values, orders['revenue'])\n",
    "plt.title('Точечный график стоимостей заказов')\n",
    "plt.ylabel('Стоимость заказов')\n",
    "plt.xlabel('Количество пользователей');"
   ]
  },
  {
   "cell_type": "markdown",
   "metadata": {},
   "source": [
    "**Вывод:**\n",
    "\n",
    "Большая часть пользователей делает покупки суммой не больше 20 т.р. "
   ]
  },
  {
   "cell_type": "markdown",
   "metadata": {},
   "source": [
    "#### [Посчитайте 95-й и 99-й перцентили стоимости заказов. Выберите границу для определения аномальных заказов.](#14)"
   ]
  },
  {
   "cell_type": "code",
   "execution_count": 29,
   "metadata": {},
   "outputs": [
    {
     "name": "stdout",
     "output_type": "stream",
     "text": [
      "26785\n"
     ]
    }
   ],
   "source": [
    "percentile95 = int(np.percentile(orders['revenue'], [95]))\n",
    "print(percentile95)"
   ]
  },
  {
   "cell_type": "code",
   "execution_count": 30,
   "metadata": {},
   "outputs": [
    {
     "name": "stdout",
     "output_type": "stream",
     "text": [
      "[53904.]\n"
     ]
    }
   ],
   "source": [
    "percentile99 = np.percentile(orders['revenue'], [99])\n",
    "print(percentile99)"
   ]
  },
  {
   "cell_type": "markdown",
   "metadata": {},
   "source": [
    "**Вывод:**\n",
    "\n",
    "Не более 5% заказов дороже 26 т.р. и всего 1% заказов дороже 53 т.р. За границу для определения аномальных заказов возьмем 26 т.р."
   ]
  },
  {
   "cell_type": "markdown",
   "metadata": {},
   "source": [
    "#### [Посчитайте статистическую значимость различий в среднем количестве заказов на посетителя между группами по «сырым» данным. Сделайте выводы и предположения.](#15)"
   ]
  },
  {
   "cell_type": "markdown",
   "metadata": {},
   "source": [
    "Нулевая гипотеза будет звучать так: \"статистически значимых различий в среднем количестве заказов на посетителя между группами по «сырым» данным нет\", а альтернативная гипотеза: \"статистически значимых различий в среднем количестве заказов на посетителя между группами по «сырым» данным есть\".\n",
    "\n",
    "Будем использовать значение alpha 0,05.\n",
    "\n",
    "Метод, который будем применять для A/B-тестирования, называется st.mannwhitneyu, т.к. мы будем сравнивать не параметы гипотез, а их ранги.  "
   ]
  },
  {
   "cell_type": "code",
   "execution_count": 31,
   "metadata": {
    "scrolled": false
   },
   "outputs": [
    {
     "name": "stdout",
     "output_type": "stream",
     "text": [
      "Р-value - 0.011\n",
      "Относительный прирост среднего - 0.160\n"
     ]
    }
   ],
   "source": [
    "visitorsADaily = visitors[visitors['group'] == 'A'][['date', 'visitors']]\n",
    "visitorsADaily.columns = ['date', 'visitorsPerDateA']\n",
    "\n",
    "visitorsACummulative = visitorsADaily.apply(\n",
    "    lambda x: visitorsADaily[visitorsADaily['date'] <= x['date']].agg(\n",
    "        {'date': 'max', 'visitorsPerDateA': 'sum'}\n",
    "    ),\n",
    "    axis=1,\n",
    ")\n",
    "visitorsACummulative.columns = ['date', 'visitorsCummulativeA']\n",
    "\n",
    "visitorsBDaily = visitors[visitors['group'] == 'B'][['date', 'visitors']]\n",
    "visitorsBDaily.columns = ['date', 'visitorsPerDateB']\n",
    "\n",
    "visitorsBCummulative = visitorsBDaily.apply(\n",
    "    lambda x: visitorsBDaily[visitorsBDaily['date'] <= x['date']].agg(\n",
    "        {'date': 'max', 'visitorsPerDateB': 'sum'}\n",
    "    ),\n",
    "    axis=1,\n",
    ")\n",
    "visitorsBCummulative.columns = ['date', 'visitorsCummulativeB']\n",
    "\n",
    "ordersADaily = (\n",
    "    orders[orders['group'] == 'A'][['date', 'transactionId', 'visitorId', 'revenue']]\n",
    "    .groupby('date', as_index=False)\n",
    "    .agg({'transactionId': pd.Series.nunique, 'revenue': 'sum'})\n",
    ")\n",
    "ordersADaily.columns = ['date', 'ordersPerDateA', 'revenuePerDateA']\n",
    "\n",
    "ordersACummulative = ordersADaily.apply(\n",
    "    lambda x: ordersADaily[ordersADaily['date'] <= x['date']].agg(\n",
    "        {'date': 'max', 'ordersPerDateA': 'sum', 'revenuePerDateA': 'sum'}\n",
    "    ),\n",
    "    axis=1,\n",
    ").sort_values(by=['date'])\n",
    "ordersACummulative.columns = [\n",
    "    'date',\n",
    "    'ordersCummulativeA',\n",
    "    'revenueCummulativeA',\n",
    "]\n",
    "\n",
    "ordersBDaily = (\n",
    "    orders[orders['group'] == 'B'][['date', 'transactionId', 'visitorId', 'revenue']]\n",
    "    .groupby('date', as_index=False)\n",
    "    .agg({'transactionId': pd.Series.nunique, 'revenue': 'sum'})\n",
    ")\n",
    "ordersBDaily.columns = ['date', 'ordersPerDateB', 'revenuePerDateB']\n",
    "\n",
    "ordersBCummulative = ordersBDaily.apply(\n",
    "    lambda x: ordersBDaily[ordersBDaily['date'] <= x['date']].agg(\n",
    "        {'date': 'max', 'ordersPerDateB': 'sum', 'revenuePerDateB': 'sum'}\n",
    "    ),\n",
    "    axis=1,\n",
    ").sort_values(by=['date'])\n",
    "ordersBCummulative.columns = [\n",
    "    'date',\n",
    "    'ordersCummulativeB',\n",
    "    'revenueCummulativeB',\n",
    "]\n",
    "\n",
    "data = (\n",
    "    ordersADaily.merge(\n",
    "        ordersBDaily, left_on='date', right_on='date', how='left'\n",
    "    )\n",
    "    .merge(ordersACummulative, left_on='date', right_on='date', how='left')\n",
    "    .merge(ordersBCummulative, left_on='date', right_on='date', how='left')\n",
    "    .merge(visitorsADaily, left_on='date', right_on='date', how='left')\n",
    "    .merge(visitorsBDaily, left_on='date', right_on='date', how='left')\n",
    "    .merge(visitorsACummulative, left_on='date', right_on='date', how='left')\n",
    "    .merge(visitorsBCummulative, left_on='date', right_on='date', how='left')\n",
    ")\n",
    "\n",
    "ordersByUsersA = (\n",
    "    orders[orders['group'] == 'A']\n",
    "    .groupby('visitorId', as_index=False)\n",
    "    .agg({'transactionId': pd.Series.nunique})\n",
    ")\n",
    "ordersByUsersA.columns = ['visitorId', 'transactionId']\n",
    "\n",
    "ordersByUsersB = (\n",
    "    orders[orders['group'] == 'B']\n",
    "    .groupby('visitorId', as_index=False)\n",
    "    .agg({'transactionId': pd.Series.nunique})\n",
    ")\n",
    "ordersByUsersB.columns = ['visitorId', 'transactionId'] \n",
    "sampleA = pd.concat([ordersByUsersA['transactionId'],pd.Series(0, index=np.arange(data['visitorsPerDateA'].sum() - len(ordersByUsersA['transactionId'])), name='transactionId')],axis=0)\n",
    "sampleB = pd.concat([ordersByUsersB['transactionId'],pd.Series(0, index=np.arange(data['visitorsPerDateB'].sum() - len(ordersByUsersB['transactionId'])), name='transactionId')],axis=0)      \n",
    "print(\"Р-value - {0:.3f}\".format(stats.mannwhitneyu(sampleA, sampleB)[1]))\n",
    "print(\"Относительный прирост среднего - {0:.3f}\".format((data['ordersPerDateB'].sum()/data['visitorsPerDateB'].sum())/(data['ordersPerDateA'].sum()/data['visitorsPerDateA'].sum())-1))"
   ]
  },
  {
   "cell_type": "markdown",
   "metadata": {},
   "source": [
    "**Вывод:**\n",
    "\n",
    "P-value меньше 0.05, значит статистически значимые различия в среднем количестве заказов на посетителя между группами по «сырым» данным присутствуют, значит можем отвергнуть нулевую гипотезу. Относительный прирост среднего группы B по отношению к группе A равен 16%."
   ]
  },
  {
   "cell_type": "markdown",
   "metadata": {},
   "source": [
    "#### [Посчитайте статистическую значимость различий в среднем чеке заказа между группами по «сырым» данным. Сделайте выводы и предположения.](#16)"
   ]
  },
  {
   "cell_type": "markdown",
   "metadata": {},
   "source": [
    "Нулевая гипотеза будет звучать так: \"статистически значимых различий в среднем чеке заказа между группами по «сырым» данным нет\", а альтернативная гипотеза: \"статистически значимых различий в среднем количестве заказов на посетителя между группами по «сырым» данным есть\".\n",
    "\n",
    "Будем использовать значение alpha 0,05."
   ]
  },
  {
   "cell_type": "code",
   "execution_count": 32,
   "metadata": {},
   "outputs": [
    {
     "name": "stdout",
     "output_type": "stream",
     "text": [
      "Р-value = 0.829\n",
      "Относительное различие среднего чека = 0.287\n"
     ]
    }
   ],
   "source": [
    "print('Р-value = {0:.3f}'.format(stats.mannwhitneyu(orders[orders['group']=='A']['revenue'], orders[orders['group']=='B']['revenue'])[1]))\n",
    "print('Относительное различие среднего чека = {0:.3f}'.format(orders[orders['group']=='B']['revenue'].mean()/orders[orders['group']=='A']['revenue'].mean()-1))"
   ]
  },
  {
   "cell_type": "markdown",
   "metadata": {},
   "source": [
    "**Вывод:**\n",
    "\n",
    "P-value больше 0.05, значит статистически значимых различий в среднем чеке заказа между группами по «сырым» данным нет, значит отвергнуть нулевую гипотезу нельзя. Относительное различие среднего чека между группами всего 28.7%."
   ]
  },
  {
   "cell_type": "markdown",
   "metadata": {},
   "source": [
    "#### [Посчитайте статистическую значимость различий в среднем количестве заказов на посетителя между группами  по «очищенным» данным. Сделайте выводы и предположения.](#17)"
   ]
  },
  {
   "cell_type": "markdown",
   "metadata": {},
   "source": [
    "Нулевая гипотеза будет звучать так: \"статистически значимых различий в среднем количестве заказов на посетителя между группами по «очищенным» данным нет\", а альтернативная гипотеза: \"статистически значимых различий в среднем количестве заказов на посетителя между группами по «очищенным» данным есть\".\n",
    "\n",
    "Будем использовать значение alpha 0,05."
   ]
  },
  {
   "cell_type": "code",
   "execution_count": 33,
   "metadata": {},
   "outputs": [
    {
     "name": "stdout",
     "output_type": "stream",
     "text": [
      "P-value = 0.012\n",
      "Относительный прирост среднего = 0.182\n"
     ]
    }
   ],
   "source": [
    "ordersByUsersA = (\n",
    "    orders[orders['group'] == 'A']\n",
    "    .groupby('visitorId', as_index=False)\n",
    "    .agg({'transactionId': pd.Series.nunique})\n",
    ")\n",
    "ordersByUsersA.columns = ['visitorId', 'transactionId']\n",
    "\n",
    "ordersByUsersB = (\n",
    "    orders[orders['group'] == 'B']\n",
    "    .groupby('visitorId', as_index=False)\n",
    "    .agg({'transactionId': pd.Series.nunique})\n",
    ")\n",
    "ordersByUsersB.columns = ['visitorId', 'transactionId']\n",
    "\n",
    "\n",
    "usersWithManyOrders = pd.concat(\n",
    "    [\n",
    "        ordersByUsersA[ordersByUsersA['transactionId'] > percentil99]['visitorId'],\n",
    "        ordersByUsersB[ordersByUsersB['transactionId'] > percentil99]['visitorId'],\n",
    "    ],\n",
    "    axis=0,\n",
    ")\n",
    "usersWithExpensiveOrders = orders[orders['revenue'] > percentile95]['visitorId']\n",
    "abnormalUsers = (\n",
    "    pd.concat([usersWithManyOrders, usersWithExpensiveOrders], axis=0)\n",
    "    .drop_duplicates()\n",
    "    .sort_values()\n",
    ")\n",
    "sampleAFiltered = pd.concat(\n",
    "    [\n",
    "        ordersByUsersA[\n",
    "            np.logical_not(ordersByUsersA['visitorId'].isin(abnormalUsers))\n",
    "        ]['transactionId'],\n",
    "        pd.Series(\n",
    "            0,\n",
    "            index=np.arange(\n",
    "                data['visitorsPerDateA'].sum() - len(ordersByUsersA['transactionId'])\n",
    "            ),\n",
    "            name='transactionId',\n",
    "        ),\n",
    "    ],\n",
    "    axis=0,\n",
    ")\n",
    "\n",
    "sampleBFiltered = pd.concat(\n",
    "    [\n",
    "        ordersByUsersB[\n",
    "            np.logical_not(ordersByUsersB['visitorId'].isin(abnormalUsers))\n",
    "        ]['transactionId'],\n",
    "        pd.Series(\n",
    "            0,\n",
    "            index=np.arange(\n",
    "                data['visitorsPerDateB'].sum() - len(ordersByUsersB['transactionId'])\n",
    "            ),\n",
    "            name='transactionId',\n",
    "        ),\n",
    "    ],\n",
    "    axis=0,\n",
    ") \n",
    "print('P-value = {0:.3f}'.format(stats.mannwhitneyu(sampleAFiltered, sampleBFiltered)[1]))\n",
    "print('Относительный прирост среднего = {0:.3f}'.format(sampleBFiltered.mean()/sampleAFiltered.mean()-1))\n"
   ]
  },
  {
   "cell_type": "markdown",
   "metadata": {},
   "source": [
    "**Вывод:**\n",
    "\n",
    "После очистки данных от аномалий, как и по «сырым» данным P-value меньше 0.05, значит статистически значимые различия в среднем количестве заказов на посетителя между группами присутствуют, значит отвергаем нулевую гипотезу. Относительный прирост среднего группы B по отношению к группе A равен 18,2%. "
   ]
  },
  {
   "cell_type": "markdown",
   "metadata": {},
   "source": [
    "#### [Посчитайте статистическую значимость различий в среднем чеке заказа между группами по «очищенным» данным. Сделайте выводы и предположения.](#18)"
   ]
  },
  {
   "cell_type": "markdown",
   "metadata": {},
   "source": [
    "Нулевая гипотеза будет звучать так: \"статистически значимых различий в среднем чеке заказа между группами по «очищенным» данным нет\", а альтернативная гипотеза: \"статистически значимых различий в среднем чеке заказа между группами по «очищенным» данным есть\".\n",
    "\n",
    "Будем использовать значение alpha 0,05."
   ]
  },
  {
   "cell_type": "code",
   "execution_count": 34,
   "metadata": {},
   "outputs": [
    {
     "name": "stdout",
     "output_type": "stream",
     "text": [
      "P-value = 0.646\n",
      "Относительный прирост среднего = -0.048\n"
     ]
    }
   ],
   "source": [
    "print('P-value = {0:.3f}'.format(stats.mannwhitneyu(orders[np.logical_and(orders['group'] == 'A',np.logical_not(orders['visitorId']\n",
    ".isin(abnormalUsers)),)]['revenue'], orders[np.logical_and(orders['group'] == 'B', np.logical_not(orders['visitorId'].isin(abnormalUsers)),)]['revenue'],)[1]))\n",
    "print(\"Относительный прирост среднего = {0:.3f}\".format(orders[np.logical_and(orders['group'] == 'B', np.logical_not(orders['visitorId'].isin(abnormalUsers)),)]['revenue'].mean()\n",
    "/ orders[np.logical_and(orders['group'] == 'A', np.logical_not(orders['visitorId'].isin(abnormalUsers)),)]['revenue'].mean() - 1))"
   ]
  },
  {
   "cell_type": "markdown",
   "metadata": {},
   "source": [
    "**Вывод:**\n",
    "\n",
    "После очистки данных от аномалий, как и по «сырым» данным P-value больше 0.05, значит статистически значимые различия в среднем количестве заказов на посетителя между группами отсутствуют, значит нулевую гипотезу отвергнуть нельзя. Относительный прирост среднего группы B по отношению к группе A равен -0,048."
   ]
  },
  {
   "cell_type": "markdown",
   "metadata": {},
   "source": [
    "#### [Примите решение по результатам теста и объясните его. Варианты решений: 1. Остановить тест, зафиксировать победу одной из групп. 2. Остановить тест, зафиксировать отсутствие различий между группами. 3. Продолжить тест.](#19)"
   ]
  },
  {
   "cell_type": "markdown",
   "metadata": {},
   "source": [
    "**Вывод:**\n",
    "\n",
    "-По \"сырым\" и по \"очищенным\" данным различия в среднем количестве заказов на посетителя между группами есть, до очистки 12%, после 11%.\n",
    "\n",
    "-По \"сырым\" и по \"очищенным\" данным различия в средних чеках заказа между группами отсутствуют, средний чек группы B оказался ниже среднего чека группы A на 4% по \"очищенным\" данным, а по \"сырым\" данным, он был больше на 28%.\n",
    "\n",
    "-Кумулятивные метрики по выручке, среднему чеку и конверсии почти все время лидировали в группе B.\n",
    "\n",
    "Исходя из вышеизложенного можно принять решение остановить тестирование и констатировать успех и победу группы B."
   ]
  },
  {
   "cell_type": "code",
   "execution_count": null,
   "metadata": {},
   "outputs": [],
   "source": []
  }
 ],
 "metadata": {
  "ExecuteTimeLog": [
   {
    "duration": 1304,
    "start_time": "2023-05-17T10:45:36.240Z"
   },
   {
    "duration": 151,
    "start_time": "2023-05-17T10:46:20.864Z"
   },
   {
    "duration": 1902,
    "start_time": "2023-05-17T10:47:32.879Z"
   },
   {
    "duration": 183,
    "start_time": "2023-05-17T10:47:51.177Z"
   },
   {
    "duration": 80,
    "start_time": "2023-05-17T10:49:29.220Z"
   },
   {
    "duration": 44,
    "start_time": "2023-05-17T10:50:40.967Z"
   },
   {
    "duration": 86,
    "start_time": "2023-05-17T10:53:31.117Z"
   },
   {
    "duration": 35,
    "start_time": "2023-05-17T10:53:33.143Z"
   },
   {
    "duration": 25,
    "start_time": "2023-05-17T10:55:30.203Z"
   },
   {
    "duration": 37,
    "start_time": "2023-05-17T10:55:46.922Z"
   },
   {
    "duration": 401,
    "start_time": "2023-05-17T10:56:16.216Z"
   },
   {
    "duration": 533,
    "start_time": "2023-05-17T10:56:24.894Z"
   },
   {
    "duration": 34,
    "start_time": "2023-05-17T10:56:58.752Z"
   },
   {
    "duration": 25,
    "start_time": "2023-05-17T10:57:14.523Z"
   },
   {
    "duration": 37,
    "start_time": "2023-05-17T10:57:22.594Z"
   },
   {
    "duration": 26,
    "start_time": "2023-05-17T10:57:48.686Z"
   },
   {
    "duration": 39,
    "start_time": "2023-05-17T10:57:49.721Z"
   },
   {
    "duration": 21,
    "start_time": "2023-05-17T10:57:50.393Z"
   },
   {
    "duration": 266,
    "start_time": "2023-05-17T11:07:00.375Z"
   },
   {
    "duration": 81,
    "start_time": "2023-05-17T11:07:03.735Z"
   },
   {
    "duration": 77,
    "start_time": "2023-05-17T11:07:48.341Z"
   },
   {
    "duration": 3,
    "start_time": "2023-05-17T11:08:00.990Z"
   },
   {
    "duration": 1065,
    "start_time": "2023-05-17T11:08:04.655Z"
   },
   {
    "duration": 82,
    "start_time": "2023-05-17T11:08:05.722Z"
   },
   {
    "duration": 15,
    "start_time": "2023-05-17T11:08:05.806Z"
   },
   {
    "duration": 269,
    "start_time": "2023-05-17T11:08:05.823Z"
   },
   {
    "duration": 0,
    "start_time": "2023-05-17T11:08:06.094Z"
   },
   {
    "duration": 0,
    "start_time": "2023-05-17T11:08:06.095Z"
   },
   {
    "duration": 7,
    "start_time": "2023-05-17T11:09:26.185Z"
   },
   {
    "duration": 82,
    "start_time": "2023-05-17T11:09:26.881Z"
   },
   {
    "duration": 112,
    "start_time": "2023-05-17T11:10:19.713Z"
   },
   {
    "duration": 16,
    "start_time": "2023-05-17T11:10:31.250Z"
   },
   {
    "duration": 14,
    "start_time": "2023-05-17T11:10:43.898Z"
   },
   {
    "duration": 20,
    "start_time": "2023-05-17T11:11:01.610Z"
   },
   {
    "duration": 19,
    "start_time": "2023-05-17T11:11:37.953Z"
   },
   {
    "duration": 10,
    "start_time": "2023-05-17T11:12:00.560Z"
   },
   {
    "duration": 19,
    "start_time": "2023-05-17T11:12:08.631Z"
   },
   {
    "duration": 20,
    "start_time": "2023-05-17T11:12:21.482Z"
   },
   {
    "duration": 21,
    "start_time": "2023-05-17T11:13:06.876Z"
   },
   {
    "duration": 419,
    "start_time": "2023-05-17T11:13:38.421Z"
   },
   {
    "duration": 20,
    "start_time": "2023-05-17T11:13:50.126Z"
   },
   {
    "duration": 20,
    "start_time": "2023-05-17T11:13:56.428Z"
   },
   {
    "duration": 138,
    "start_time": "2023-05-17T11:15:15.043Z"
   },
   {
    "duration": 1376,
    "start_time": "2023-05-17T11:15:27.376Z"
   },
   {
    "duration": 107,
    "start_time": "2023-05-17T11:15:28.754Z"
   },
   {
    "duration": 15,
    "start_time": "2023-05-17T11:15:28.863Z"
   },
   {
    "duration": 25,
    "start_time": "2023-05-17T11:15:28.880Z"
   },
   {
    "duration": 308,
    "start_time": "2023-05-17T11:15:28.950Z"
   },
   {
    "duration": 0,
    "start_time": "2023-05-17T11:15:29.259Z"
   },
   {
    "duration": 0,
    "start_time": "2023-05-17T11:15:29.261Z"
   },
   {
    "duration": 113,
    "start_time": "2023-05-17T11:16:28.732Z"
   },
   {
    "duration": 20,
    "start_time": "2023-05-17T11:16:40.460Z"
   },
   {
    "duration": 21,
    "start_time": "2023-05-17T11:17:01.355Z"
   },
   {
    "duration": 38,
    "start_time": "2023-05-17T11:17:37.804Z"
   },
   {
    "duration": 9,
    "start_time": "2023-05-17T11:18:06.182Z"
   },
   {
    "duration": 21,
    "start_time": "2023-05-17T11:18:21.469Z"
   },
   {
    "duration": 9,
    "start_time": "2023-05-17T11:18:51.645Z"
   },
   {
    "duration": 96,
    "start_time": "2023-05-17T11:19:15.003Z"
   },
   {
    "duration": 34,
    "start_time": "2023-05-17T11:20:40.331Z"
   },
   {
    "duration": 1475,
    "start_time": "2023-05-17T11:21:15.599Z"
   },
   {
    "duration": 103,
    "start_time": "2023-05-17T11:21:17.076Z"
   },
   {
    "duration": 15,
    "start_time": "2023-05-17T11:21:17.181Z"
   },
   {
    "duration": 55,
    "start_time": "2023-05-17T11:21:17.198Z"
   },
   {
    "duration": 15,
    "start_time": "2023-05-17T11:21:17.254Z"
   },
   {
    "duration": 9,
    "start_time": "2023-05-17T11:21:17.271Z"
   },
   {
    "duration": 6,
    "start_time": "2023-05-17T11:21:17.282Z"
   },
   {
    "duration": 161,
    "start_time": "2023-05-17T11:21:17.290Z"
   },
   {
    "duration": 20,
    "start_time": "2023-05-17T11:21:17.453Z"
   },
   {
    "duration": 167,
    "start_time": "2023-05-17T11:21:27.300Z"
   },
   {
    "duration": 78,
    "start_time": "2023-05-17T11:21:43.142Z"
   },
   {
    "duration": 32,
    "start_time": "2023-05-17T11:22:08.933Z"
   },
   {
    "duration": 121,
    "start_time": "2023-05-17T11:22:21.246Z"
   },
   {
    "duration": 22,
    "start_time": "2023-05-17T11:22:31.295Z"
   },
   {
    "duration": 5,
    "start_time": "2023-05-17T11:23:04.619Z"
   },
   {
    "duration": 1219,
    "start_time": "2023-05-17T11:36:03.881Z"
   },
   {
    "duration": 96,
    "start_time": "2023-05-17T11:36:05.102Z"
   },
   {
    "duration": 16,
    "start_time": "2023-05-17T11:36:05.200Z"
   },
   {
    "duration": 18,
    "start_time": "2023-05-17T11:36:05.218Z"
   },
   {
    "duration": 9,
    "start_time": "2023-05-17T11:36:05.237Z"
   },
   {
    "duration": 35,
    "start_time": "2023-05-17T11:36:05.248Z"
   },
   {
    "duration": 4,
    "start_time": "2023-05-17T11:36:05.285Z"
   },
   {
    "duration": 191,
    "start_time": "2023-05-17T11:39:08.015Z"
   },
   {
    "duration": 66,
    "start_time": "2023-05-17T11:39:23.635Z"
   },
   {
    "duration": 10,
    "start_time": "2023-05-17T11:39:43.929Z"
   },
   {
    "duration": 26,
    "start_time": "2023-05-17T11:40:02.821Z"
   },
   {
    "duration": 11,
    "start_time": "2023-05-17T11:40:03.463Z"
   },
   {
    "duration": 10,
    "start_time": "2023-05-17T11:40:04.013Z"
   },
   {
    "duration": 10,
    "start_time": "2023-05-17T11:40:04.489Z"
   },
   {
    "duration": 157,
    "start_time": "2023-05-17T11:40:15.852Z"
   },
   {
    "duration": 15,
    "start_time": "2023-05-17T11:40:16.301Z"
   },
   {
    "duration": 16,
    "start_time": "2023-05-17T11:40:16.870Z"
   },
   {
    "duration": 8,
    "start_time": "2023-05-17T11:40:17.389Z"
   },
   {
    "duration": 8,
    "start_time": "2023-05-17T11:40:18.026Z"
   },
   {
    "duration": 9,
    "start_time": "2023-05-17T11:40:18.843Z"
   },
   {
    "duration": 9,
    "start_time": "2023-05-17T11:41:03.346Z"
   },
   {
    "duration": 7,
    "start_time": "2023-05-17T11:41:12.819Z"
   },
   {
    "duration": 12,
    "start_time": "2023-05-17T11:41:21.755Z"
   },
   {
    "duration": 8,
    "start_time": "2023-05-17T11:41:36.244Z"
   },
   {
    "duration": 13,
    "start_time": "2023-05-17T11:41:41.442Z"
   },
   {
    "duration": 9,
    "start_time": "2023-05-17T11:41:45.936Z"
   },
   {
    "duration": 9,
    "start_time": "2023-05-17T11:41:50.940Z"
   },
   {
    "duration": 9,
    "start_time": "2023-05-17T11:41:56.291Z"
   },
   {
    "duration": 11,
    "start_time": "2023-05-17T11:43:07.645Z"
   },
   {
    "duration": 130,
    "start_time": "2023-05-17T11:43:15.606Z"
   },
   {
    "duration": 1051,
    "start_time": "2023-05-17T12:01:20.599Z"
   },
   {
    "duration": 116,
    "start_time": "2023-05-17T12:01:21.652Z"
   },
   {
    "duration": 15,
    "start_time": "2023-05-17T12:01:21.770Z"
   },
   {
    "duration": 15,
    "start_time": "2023-05-17T12:01:21.787Z"
   },
   {
    "duration": 11,
    "start_time": "2023-05-17T12:01:21.804Z"
   },
   {
    "duration": 7,
    "start_time": "2023-05-17T12:01:21.817Z"
   },
   {
    "duration": 7,
    "start_time": "2023-05-17T12:01:21.826Z"
   },
   {
    "duration": 23,
    "start_time": "2023-05-17T12:01:21.835Z"
   },
   {
    "duration": 5,
    "start_time": "2023-05-17T12:01:21.860Z"
   },
   {
    "duration": 6,
    "start_time": "2023-05-17T12:06:33.203Z"
   },
   {
    "duration": 5,
    "start_time": "2023-05-17T12:06:46.738Z"
   },
   {
    "duration": 5,
    "start_time": "2023-05-17T12:07:25.796Z"
   },
   {
    "duration": 5,
    "start_time": "2023-05-17T12:08:00.343Z"
   },
   {
    "duration": 90,
    "start_time": "2023-05-17T12:09:07.218Z"
   },
   {
    "duration": 16,
    "start_time": "2023-05-17T12:10:14.828Z"
   },
   {
    "duration": 12,
    "start_time": "2023-05-17T12:12:08.504Z"
   },
   {
    "duration": 1084,
    "start_time": "2023-05-17T12:12:21.216Z"
   },
   {
    "duration": 88,
    "start_time": "2023-05-17T12:12:22.302Z"
   },
   {
    "duration": 15,
    "start_time": "2023-05-17T12:12:22.393Z"
   },
   {
    "duration": 20,
    "start_time": "2023-05-17T12:12:22.409Z"
   },
   {
    "duration": 19,
    "start_time": "2023-05-17T12:12:22.431Z"
   },
   {
    "duration": 11,
    "start_time": "2023-05-17T12:12:22.452Z"
   },
   {
    "duration": 13,
    "start_time": "2023-05-17T12:12:22.465Z"
   },
   {
    "duration": 38,
    "start_time": "2023-05-17T12:12:22.480Z"
   },
   {
    "duration": 6,
    "start_time": "2023-05-17T12:12:22.520Z"
   },
   {
    "duration": 5,
    "start_time": "2023-05-17T12:12:22.549Z"
   },
   {
    "duration": 14,
    "start_time": "2023-05-17T12:12:22.555Z"
   },
   {
    "duration": 14,
    "start_time": "2023-05-17T12:12:47.904Z"
   },
   {
    "duration": 63,
    "start_time": "2023-05-18T05:10:58.829Z"
   },
   {
    "duration": 1246,
    "start_time": "2023-05-18T05:11:21.620Z"
   },
   {
    "duration": 194,
    "start_time": "2023-05-18T05:11:22.868Z"
   },
   {
    "duration": 73,
    "start_time": "2023-05-18T05:11:23.063Z"
   },
   {
    "duration": 51,
    "start_time": "2023-05-18T05:11:23.138Z"
   },
   {
    "duration": 19,
    "start_time": "2023-05-18T05:11:23.190Z"
   },
   {
    "duration": 25,
    "start_time": "2023-05-18T05:11:23.210Z"
   },
   {
    "duration": 9,
    "start_time": "2023-05-18T05:11:23.236Z"
   },
   {
    "duration": 30,
    "start_time": "2023-05-18T05:11:23.246Z"
   },
   {
    "duration": 389,
    "start_time": "2023-05-18T05:11:23.277Z"
   },
   {
    "duration": 0,
    "start_time": "2023-05-18T05:11:23.668Z"
   },
   {
    "duration": 0,
    "start_time": "2023-05-18T05:11:23.669Z"
   },
   {
    "duration": 0,
    "start_time": "2023-05-18T05:11:23.671Z"
   },
   {
    "duration": 89,
    "start_time": "2023-05-18T05:12:27.103Z"
   },
   {
    "duration": 201,
    "start_time": "2023-05-18T05:12:42.978Z"
   },
   {
    "duration": 30,
    "start_time": "2023-05-18T05:12:48.996Z"
   },
   {
    "duration": 214,
    "start_time": "2023-05-18T05:13:01.459Z"
   },
   {
    "duration": 5,
    "start_time": "2023-05-18T05:13:28.547Z"
   },
   {
    "duration": 328,
    "start_time": "2023-05-18T05:13:30.062Z"
   },
   {
    "duration": 4,
    "start_time": "2023-05-18T05:13:41.680Z"
   },
   {
    "duration": 1207,
    "start_time": "2023-05-18T05:16:54.277Z"
   },
   {
    "duration": 89,
    "start_time": "2023-05-18T05:16:55.487Z"
   },
   {
    "duration": 27,
    "start_time": "2023-05-18T05:16:55.578Z"
   },
   {
    "duration": 24,
    "start_time": "2023-05-18T05:16:55.608Z"
   },
   {
    "duration": 12,
    "start_time": "2023-05-18T05:16:55.633Z"
   },
   {
    "duration": 51,
    "start_time": "2023-05-18T05:16:55.647Z"
   },
   {
    "duration": 12,
    "start_time": "2023-05-18T05:16:55.701Z"
   },
   {
    "duration": 90,
    "start_time": "2023-05-18T05:16:55.715Z"
   },
   {
    "duration": 7,
    "start_time": "2023-05-18T05:16:55.807Z"
   },
   {
    "duration": 13,
    "start_time": "2023-05-18T05:16:55.817Z"
   },
   {
    "duration": 67,
    "start_time": "2023-05-18T05:16:55.832Z"
   },
   {
    "duration": 18,
    "start_time": "2023-05-18T05:16:55.901Z"
   },
   {
    "duration": 112,
    "start_time": "2023-05-18T05:18:16.411Z"
   },
   {
    "duration": 227,
    "start_time": "2023-05-18T05:21:28.291Z"
   },
   {
    "duration": 259,
    "start_time": "2023-05-18T05:21:51.556Z"
   },
   {
    "duration": 19,
    "start_time": "2023-05-18T05:22:25.974Z"
   },
   {
    "duration": 30,
    "start_time": "2023-05-18T05:23:10.366Z"
   },
   {
    "duration": 277,
    "start_time": "2023-05-18T05:28:44.407Z"
   },
   {
    "duration": 267,
    "start_time": "2023-05-18T05:29:18.057Z"
   },
   {
    "duration": 4,
    "start_time": "2023-05-18T05:29:42.506Z"
   },
   {
    "duration": 278,
    "start_time": "2023-05-18T05:29:45.165Z"
   },
   {
    "duration": 1290,
    "start_time": "2023-05-18T05:30:02.068Z"
   },
   {
    "duration": 199,
    "start_time": "2023-05-18T05:30:03.359Z"
   },
   {
    "duration": 16,
    "start_time": "2023-05-18T05:30:03.559Z"
   },
   {
    "duration": 17,
    "start_time": "2023-05-18T05:30:03.577Z"
   },
   {
    "duration": 26,
    "start_time": "2023-05-18T05:30:03.596Z"
   },
   {
    "duration": 10,
    "start_time": "2023-05-18T05:30:03.624Z"
   },
   {
    "duration": 27,
    "start_time": "2023-05-18T05:30:03.635Z"
   },
   {
    "duration": 25,
    "start_time": "2023-05-18T05:30:03.664Z"
   },
   {
    "duration": 39,
    "start_time": "2023-05-18T05:30:03.690Z"
   },
   {
    "duration": 24,
    "start_time": "2023-05-18T05:30:03.731Z"
   },
   {
    "duration": 19,
    "start_time": "2023-05-18T05:30:03.757Z"
   },
   {
    "duration": 38,
    "start_time": "2023-05-18T05:30:03.778Z"
   },
   {
    "duration": 12,
    "start_time": "2023-05-18T05:30:03.817Z"
   },
   {
    "duration": 331,
    "start_time": "2023-05-18T05:30:57.547Z"
   },
   {
    "duration": 5,
    "start_time": "2023-05-18T05:31:11.672Z"
   },
   {
    "duration": 5,
    "start_time": "2023-05-18T05:31:12.794Z"
   },
   {
    "duration": 20,
    "start_time": "2023-05-18T05:32:38.253Z"
   },
   {
    "duration": 25,
    "start_time": "2023-05-18T05:32:50.890Z"
   },
   {
    "duration": 5,
    "start_time": "2023-05-18T05:32:54.645Z"
   },
   {
    "duration": 13,
    "start_time": "2023-05-18T05:33:37.414Z"
   },
   {
    "duration": 9,
    "start_time": "2023-05-18T05:34:12.887Z"
   },
   {
    "duration": 1119,
    "start_time": "2023-05-18T05:36:01.473Z"
   },
   {
    "duration": 86,
    "start_time": "2023-05-18T05:36:02.594Z"
   },
   {
    "duration": 31,
    "start_time": "2023-05-18T05:36:02.681Z"
   },
   {
    "duration": 31,
    "start_time": "2023-05-18T05:36:02.715Z"
   },
   {
    "duration": 39,
    "start_time": "2023-05-18T05:36:02.748Z"
   },
   {
    "duration": 51,
    "start_time": "2023-05-18T05:36:02.789Z"
   },
   {
    "duration": 61,
    "start_time": "2023-05-18T05:36:02.841Z"
   },
   {
    "duration": 31,
    "start_time": "2023-05-18T05:36:02.905Z"
   },
   {
    "duration": 46,
    "start_time": "2023-05-18T05:36:02.938Z"
   },
   {
    "duration": 31,
    "start_time": "2023-05-18T05:36:02.987Z"
   },
   {
    "duration": 32,
    "start_time": "2023-05-18T05:36:03.020Z"
   },
   {
    "duration": 18,
    "start_time": "2023-05-18T05:36:03.053Z"
   },
   {
    "duration": 28,
    "start_time": "2023-05-18T05:36:03.073Z"
   },
   {
    "duration": 17,
    "start_time": "2023-05-18T05:36:03.104Z"
   },
   {
    "duration": 10,
    "start_time": "2023-05-18T05:36:19.866Z"
   },
   {
    "duration": 14,
    "start_time": "2023-05-18T05:36:20.815Z"
   },
   {
    "duration": 1299,
    "start_time": "2023-05-18T05:36:26.580Z"
   },
   {
    "duration": 83,
    "start_time": "2023-05-18T05:36:27.881Z"
   },
   {
    "duration": 17,
    "start_time": "2023-05-18T05:36:27.966Z"
   },
   {
    "duration": 21,
    "start_time": "2023-05-18T05:36:27.985Z"
   },
   {
    "duration": 15,
    "start_time": "2023-05-18T05:36:28.009Z"
   },
   {
    "duration": 9,
    "start_time": "2023-05-18T05:36:28.026Z"
   },
   {
    "duration": 21,
    "start_time": "2023-05-18T05:36:28.036Z"
   },
   {
    "duration": 7,
    "start_time": "2023-05-18T05:36:28.058Z"
   },
   {
    "duration": 347,
    "start_time": "2023-05-18T05:36:28.066Z"
   },
   {
    "duration": 1,
    "start_time": "2023-05-18T05:36:28.415Z"
   },
   {
    "duration": 0,
    "start_time": "2023-05-18T05:36:28.417Z"
   },
   {
    "duration": 0,
    "start_time": "2023-05-18T05:36:28.418Z"
   },
   {
    "duration": 0,
    "start_time": "2023-05-18T05:36:28.419Z"
   },
   {
    "duration": 0,
    "start_time": "2023-05-18T05:36:28.420Z"
   },
   {
    "duration": 13,
    "start_time": "2023-05-18T05:36:43.210Z"
   },
   {
    "duration": 14,
    "start_time": "2023-05-18T05:36:46.261Z"
   },
   {
    "duration": 11,
    "start_time": "2023-05-18T05:36:50.803Z"
   },
   {
    "duration": 5,
    "start_time": "2023-05-18T05:36:51.910Z"
   },
   {
    "duration": 10,
    "start_time": "2023-05-18T05:37:20.815Z"
   },
   {
    "duration": 1325,
    "start_time": "2023-05-18T05:37:26.510Z"
   },
   {
    "duration": 76,
    "start_time": "2023-05-18T05:37:27.837Z"
   },
   {
    "duration": 16,
    "start_time": "2023-05-18T05:37:27.916Z"
   },
   {
    "duration": 17,
    "start_time": "2023-05-18T05:37:27.934Z"
   },
   {
    "duration": 12,
    "start_time": "2023-05-18T05:37:27.953Z"
   },
   {
    "duration": 11,
    "start_time": "2023-05-18T05:37:27.998Z"
   },
   {
    "duration": 18,
    "start_time": "2023-05-18T05:37:28.011Z"
   },
   {
    "duration": 5,
    "start_time": "2023-05-18T05:37:28.031Z"
   },
   {
    "duration": 63,
    "start_time": "2023-05-18T05:37:28.038Z"
   },
   {
    "duration": 15,
    "start_time": "2023-05-18T05:37:28.105Z"
   },
   {
    "duration": 11,
    "start_time": "2023-05-18T05:37:28.122Z"
   },
   {
    "duration": 6,
    "start_time": "2023-05-18T05:37:28.135Z"
   },
   {
    "duration": 72,
    "start_time": "2023-05-18T05:37:28.143Z"
   },
   {
    "duration": 12,
    "start_time": "2023-05-18T05:37:28.217Z"
   },
   {
    "duration": 13,
    "start_time": "2023-05-18T05:38:51.613Z"
   },
   {
    "duration": 1120,
    "start_time": "2023-05-18T05:39:44.701Z"
   },
   {
    "duration": 70,
    "start_time": "2023-05-18T05:39:45.823Z"
   },
   {
    "duration": 21,
    "start_time": "2023-05-18T05:39:45.895Z"
   },
   {
    "duration": 18,
    "start_time": "2023-05-18T05:39:45.919Z"
   },
   {
    "duration": 12,
    "start_time": "2023-05-18T05:39:45.939Z"
   },
   {
    "duration": 8,
    "start_time": "2023-05-18T05:39:45.952Z"
   },
   {
    "duration": 17,
    "start_time": "2023-05-18T05:39:45.961Z"
   },
   {
    "duration": 39,
    "start_time": "2023-05-18T05:39:45.980Z"
   },
   {
    "duration": 6,
    "start_time": "2023-05-18T05:39:46.021Z"
   },
   {
    "duration": 7,
    "start_time": "2023-05-18T05:39:46.030Z"
   },
   {
    "duration": 23,
    "start_time": "2023-05-18T05:39:46.039Z"
   },
   {
    "duration": 12,
    "start_time": "2023-05-18T05:39:46.063Z"
   },
   {
    "duration": 334,
    "start_time": "2023-05-18T05:40:44.416Z"
   },
   {
    "duration": 197,
    "start_time": "2023-05-18T05:40:58.397Z"
   },
   {
    "duration": 250,
    "start_time": "2023-05-18T05:41:07.356Z"
   },
   {
    "duration": 6,
    "start_time": "2023-05-18T05:41:30.957Z"
   },
   {
    "duration": 4,
    "start_time": "2023-05-18T05:42:08.409Z"
   },
   {
    "duration": 5,
    "start_time": "2023-05-18T05:42:08.965Z"
   },
   {
    "duration": 1403,
    "start_time": "2023-05-18T05:42:12.830Z"
   },
   {
    "duration": 166,
    "start_time": "2023-05-18T05:42:14.235Z"
   },
   {
    "duration": 23,
    "start_time": "2023-05-18T05:42:14.404Z"
   },
   {
    "duration": 17,
    "start_time": "2023-05-18T05:42:14.429Z"
   },
   {
    "duration": 66,
    "start_time": "2023-05-18T05:42:14.447Z"
   },
   {
    "duration": 9,
    "start_time": "2023-05-18T05:42:14.516Z"
   },
   {
    "duration": 13,
    "start_time": "2023-05-18T05:42:14.526Z"
   },
   {
    "duration": 73,
    "start_time": "2023-05-18T05:42:14.541Z"
   },
   {
    "duration": 5,
    "start_time": "2023-05-18T05:42:14.616Z"
   },
   {
    "duration": 8,
    "start_time": "2023-05-18T05:42:14.623Z"
   },
   {
    "duration": 20,
    "start_time": "2023-05-18T05:42:14.632Z"
   },
   {
    "duration": 33,
    "start_time": "2023-05-18T05:42:14.698Z"
   },
   {
    "duration": 91,
    "start_time": "2023-05-18T05:45:06.557Z"
   },
   {
    "duration": 1131,
    "start_time": "2023-05-18T05:45:15.760Z"
   },
   {
    "duration": 86,
    "start_time": "2023-05-18T05:45:16.893Z"
   },
   {
    "duration": 10,
    "start_time": "2023-05-18T05:45:16.980Z"
   },
   {
    "duration": 17,
    "start_time": "2023-05-18T05:45:16.991Z"
   },
   {
    "duration": 17,
    "start_time": "2023-05-18T05:45:17.011Z"
   },
   {
    "duration": 24,
    "start_time": "2023-05-18T05:45:17.029Z"
   },
   {
    "duration": 4,
    "start_time": "2023-05-18T05:45:17.055Z"
   },
   {
    "duration": 13,
    "start_time": "2023-05-18T05:45:17.061Z"
   },
   {
    "duration": 37,
    "start_time": "2023-05-18T05:45:17.076Z"
   },
   {
    "duration": 23,
    "start_time": "2023-05-18T05:45:17.115Z"
   },
   {
    "duration": 19,
    "start_time": "2023-05-18T05:46:57.129Z"
   },
   {
    "duration": 352,
    "start_time": "2023-05-18T05:48:14.419Z"
   },
   {
    "duration": 8,
    "start_time": "2023-05-18T05:50:17.769Z"
   },
   {
    "duration": 152,
    "start_time": "2023-05-18T05:50:18.699Z"
   },
   {
    "duration": 36,
    "start_time": "2023-05-18T05:50:36.961Z"
   },
   {
    "duration": 353,
    "start_time": "2023-05-18T06:33:20.410Z"
   },
   {
    "duration": 350,
    "start_time": "2023-05-18T06:33:42.956Z"
   },
   {
    "duration": 449,
    "start_time": "2023-05-18T06:34:16.867Z"
   },
   {
    "duration": 308,
    "start_time": "2023-05-18T06:35:38.352Z"
   },
   {
    "duration": 276,
    "start_time": "2023-05-18T06:36:24.557Z"
   },
   {
    "duration": 258,
    "start_time": "2023-05-18T06:37:10.015Z"
   },
   {
    "duration": 407,
    "start_time": "2023-05-18T06:37:24.280Z"
   },
   {
    "duration": 285,
    "start_time": "2023-05-18T06:37:34.670Z"
   },
   {
    "duration": 196,
    "start_time": "2023-05-18T06:38:05.958Z"
   },
   {
    "duration": 593,
    "start_time": "2023-05-18T06:38:24.628Z"
   },
   {
    "duration": 409,
    "start_time": "2023-05-18T06:38:47.537Z"
   },
   {
    "duration": 420,
    "start_time": "2023-05-18T06:39:00.125Z"
   },
   {
    "duration": 222,
    "start_time": "2023-05-18T06:39:06.529Z"
   },
   {
    "duration": 239,
    "start_time": "2023-05-18T06:39:17.527Z"
   },
   {
    "duration": 542,
    "start_time": "2023-05-18T06:39:45.926Z"
   },
   {
    "duration": 233,
    "start_time": "2023-05-18T06:40:09.548Z"
   },
   {
    "duration": 259,
    "start_time": "2023-05-18T06:40:30.769Z"
   },
   {
    "duration": 250,
    "start_time": "2023-05-18T06:40:45.095Z"
   },
   {
    "duration": 243,
    "start_time": "2023-05-18T06:40:49.329Z"
   },
   {
    "duration": 421,
    "start_time": "2023-05-18T06:40:52.874Z"
   },
   {
    "duration": 279,
    "start_time": "2023-05-18T06:40:55.649Z"
   },
   {
    "duration": 264,
    "start_time": "2023-05-18T06:40:58.077Z"
   },
   {
    "duration": 250,
    "start_time": "2023-05-18T06:41:03.728Z"
   },
   {
    "duration": 264,
    "start_time": "2023-05-18T06:41:07.584Z"
   },
   {
    "duration": 249,
    "start_time": "2023-05-18T06:41:11.322Z"
   },
   {
    "duration": 237,
    "start_time": "2023-05-18T06:41:35.955Z"
   },
   {
    "duration": 264,
    "start_time": "2023-05-18T06:41:48.886Z"
   },
   {
    "duration": 286,
    "start_time": "2023-05-18T06:42:16.233Z"
   },
   {
    "duration": 349,
    "start_time": "2023-05-18T06:42:26.869Z"
   },
   {
    "duration": 1339,
    "start_time": "2023-05-18T06:43:40.181Z"
   },
   {
    "duration": 105,
    "start_time": "2023-05-18T06:43:41.530Z"
   },
   {
    "duration": 14,
    "start_time": "2023-05-18T06:43:41.640Z"
   },
   {
    "duration": 8,
    "start_time": "2023-05-18T06:43:41.657Z"
   },
   {
    "duration": 13,
    "start_time": "2023-05-18T06:43:41.668Z"
   },
   {
    "duration": 30,
    "start_time": "2023-05-18T06:43:41.683Z"
   },
   {
    "duration": 55,
    "start_time": "2023-05-18T06:43:41.715Z"
   },
   {
    "duration": 20,
    "start_time": "2023-05-18T06:43:41.772Z"
   },
   {
    "duration": 37,
    "start_time": "2023-05-18T06:43:41.793Z"
   },
   {
    "duration": 19,
    "start_time": "2023-05-18T06:43:41.833Z"
   },
   {
    "duration": 376,
    "start_time": "2023-05-18T06:43:41.854Z"
   },
   {
    "duration": 123,
    "start_time": "2023-05-18T06:43:42.231Z"
   },
   {
    "duration": 0,
    "start_time": "2023-05-18T06:43:42.356Z"
   },
   {
    "duration": 355,
    "start_time": "2023-05-18T06:43:59.384Z"
   },
   {
    "duration": 215,
    "start_time": "2023-05-18T06:54:19.425Z"
   },
   {
    "duration": 366,
    "start_time": "2023-05-18T06:54:36.573Z"
   },
   {
    "duration": 216,
    "start_time": "2023-05-18T06:55:31.569Z"
   },
   {
    "duration": 242,
    "start_time": "2023-05-18T06:55:49.401Z"
   },
   {
    "duration": 15,
    "start_time": "2023-05-18T06:56:24.876Z"
   },
   {
    "duration": 266,
    "start_time": "2023-05-18T07:03:22.746Z"
   },
   {
    "duration": 366,
    "start_time": "2023-05-18T07:04:29.471Z"
   },
   {
    "duration": 499,
    "start_time": "2023-05-18T07:04:57.454Z"
   },
   {
    "duration": 365,
    "start_time": "2023-05-18T07:05:20.512Z"
   },
   {
    "duration": 16,
    "start_time": "2023-05-18T07:05:35.320Z"
   },
   {
    "duration": 250,
    "start_time": "2023-05-18T07:09:19.770Z"
   },
   {
    "duration": 323,
    "start_time": "2023-05-18T07:10:34.219Z"
   },
   {
    "duration": 352,
    "start_time": "2023-05-18T07:11:26.885Z"
   },
   {
    "duration": 300,
    "start_time": "2023-05-18T07:12:16.021Z"
   },
   {
    "duration": 342,
    "start_time": "2023-05-18T07:12:24.461Z"
   },
   {
    "duration": 320,
    "start_time": "2023-05-18T07:12:35.109Z"
   },
   {
    "duration": 346,
    "start_time": "2023-05-18T07:12:46.948Z"
   },
   {
    "duration": 403,
    "start_time": "2023-05-18T07:13:22.261Z"
   },
   {
    "duration": 215,
    "start_time": "2023-05-18T07:18:30.874Z"
   },
   {
    "duration": 131,
    "start_time": "2023-05-18T07:25:20.387Z"
   },
   {
    "duration": 18,
    "start_time": "2023-05-18T07:26:03.395Z"
   },
   {
    "duration": 180,
    "start_time": "2023-05-18T07:27:58.293Z"
   },
   {
    "duration": 365,
    "start_time": "2023-05-18T07:53:36.798Z"
   },
   {
    "duration": 191,
    "start_time": "2023-05-18T07:54:07.626Z"
   },
   {
    "duration": 195,
    "start_time": "2023-05-18T07:54:25.222Z"
   },
   {
    "duration": 189,
    "start_time": "2023-05-18T08:02:43.184Z"
   },
   {
    "duration": 193,
    "start_time": "2023-05-18T08:03:17.579Z"
   },
   {
    "duration": 466,
    "start_time": "2023-05-18T08:03:56.723Z"
   },
   {
    "duration": 272,
    "start_time": "2023-05-18T08:04:44.835Z"
   },
   {
    "duration": 297,
    "start_time": "2023-05-18T08:05:45.873Z"
   },
   {
    "duration": 63,
    "start_time": "2023-05-18T08:06:45.434Z"
   },
   {
    "duration": 323,
    "start_time": "2023-05-18T08:06:53.818Z"
   },
   {
    "duration": 307,
    "start_time": "2023-05-18T08:07:01.378Z"
   },
   {
    "duration": 256,
    "start_time": "2023-05-18T08:07:39.491Z"
   },
   {
    "duration": 248,
    "start_time": "2023-05-18T08:08:40.269Z"
   },
   {
    "duration": 882,
    "start_time": "2023-05-18T08:12:56.178Z"
   },
   {
    "duration": 1510,
    "start_time": "2023-05-18T08:15:12.966Z"
   },
   {
    "duration": 2122,
    "start_time": "2023-05-18T08:15:31.014Z"
   },
   {
    "duration": 1421,
    "start_time": "2023-05-18T08:15:38.190Z"
   },
   {
    "duration": 278,
    "start_time": "2023-05-18T08:22:50.329Z"
   },
   {
    "duration": 182,
    "start_time": "2023-05-18T08:23:30.114Z"
   },
   {
    "duration": 224,
    "start_time": "2023-05-18T08:24:10.670Z"
   },
   {
    "duration": 239,
    "start_time": "2023-05-18T08:24:20.812Z"
   },
   {
    "duration": 203,
    "start_time": "2023-05-18T08:24:29.420Z"
   },
   {
    "duration": 430,
    "start_time": "2023-05-18T08:24:45.416Z"
   },
   {
    "duration": 186,
    "start_time": "2023-05-18T08:25:07.810Z"
   },
   {
    "duration": 200,
    "start_time": "2023-05-18T08:25:30.314Z"
   },
   {
    "duration": 198,
    "start_time": "2023-05-18T08:25:51.420Z"
   },
   {
    "duration": 193,
    "start_time": "2023-05-18T08:26:10.082Z"
   },
   {
    "duration": 188,
    "start_time": "2023-05-18T08:27:22.982Z"
   },
   {
    "duration": 193,
    "start_time": "2023-05-18T08:27:29.072Z"
   },
   {
    "duration": 351,
    "start_time": "2023-05-18T08:56:11.578Z"
   },
   {
    "duration": 245,
    "start_time": "2023-05-18T08:59:50.227Z"
   },
   {
    "duration": 253,
    "start_time": "2023-05-18T09:00:04.325Z"
   },
   {
    "duration": 307,
    "start_time": "2023-05-18T09:02:10.079Z"
   },
   {
    "duration": 290,
    "start_time": "2023-05-18T09:02:24.448Z"
   },
   {
    "duration": 306,
    "start_time": "2023-05-18T09:03:29.366Z"
   },
   {
    "duration": 334,
    "start_time": "2023-05-18T09:03:51.372Z"
   },
   {
    "duration": 419,
    "start_time": "2023-05-18T09:04:08.677Z"
   },
   {
    "duration": 495,
    "start_time": "2023-05-18T09:04:23.778Z"
   },
   {
    "duration": 379,
    "start_time": "2023-05-18T09:05:01.933Z"
   },
   {
    "duration": 413,
    "start_time": "2023-05-18T09:05:06.579Z"
   },
   {
    "duration": 381,
    "start_time": "2023-05-18T09:05:21.985Z"
   },
   {
    "duration": 560,
    "start_time": "2023-05-18T09:05:46.717Z"
   },
   {
    "duration": 481,
    "start_time": "2023-05-18T09:06:08.683Z"
   },
   {
    "duration": 365,
    "start_time": "2023-05-18T09:06:12.502Z"
   },
   {
    "duration": 369,
    "start_time": "2023-05-18T09:06:18.692Z"
   },
   {
    "duration": 429,
    "start_time": "2023-05-18T09:06:48.482Z"
   },
   {
    "duration": 383,
    "start_time": "2023-05-18T09:07:00.125Z"
   },
   {
    "duration": 401,
    "start_time": "2023-05-18T09:07:41.172Z"
   },
   {
    "duration": 364,
    "start_time": "2023-05-18T09:08:08.681Z"
   },
   {
    "duration": 312,
    "start_time": "2023-05-18T09:08:43.374Z"
   },
   {
    "duration": 421,
    "start_time": "2023-05-18T09:10:24.290Z"
   },
   {
    "duration": 310,
    "start_time": "2023-05-18T09:10:33.450Z"
   },
   {
    "duration": 297,
    "start_time": "2023-05-18T09:10:47.086Z"
   },
   {
    "duration": 10,
    "start_time": "2023-05-18T09:15:54.234Z"
   },
   {
    "duration": 11,
    "start_time": "2023-05-18T09:16:13.831Z"
   },
   {
    "duration": 10,
    "start_time": "2023-05-18T09:17:24.357Z"
   },
   {
    "duration": 9,
    "start_time": "2023-05-18T09:17:50.824Z"
   },
   {
    "duration": 15,
    "start_time": "2023-05-18T09:18:52.625Z"
   },
   {
    "duration": 140,
    "start_time": "2023-05-18T09:19:05.930Z"
   },
   {
    "duration": 10,
    "start_time": "2023-05-18T09:22:49.854Z"
   },
   {
    "duration": 361,
    "start_time": "2023-05-18T09:24:07.527Z"
   },
   {
    "duration": 276,
    "start_time": "2023-05-18T09:24:51.461Z"
   },
   {
    "duration": 21,
    "start_time": "2023-05-18T09:25:09.197Z"
   },
   {
    "duration": 157,
    "start_time": "2023-05-18T09:25:24.689Z"
   },
   {
    "duration": 161,
    "start_time": "2023-05-18T09:25:37.602Z"
   },
   {
    "duration": 165,
    "start_time": "2023-05-18T09:26:57.726Z"
   },
   {
    "duration": 153,
    "start_time": "2023-05-18T09:27:27.873Z"
   },
   {
    "duration": 182,
    "start_time": "2023-05-18T09:27:53.430Z"
   },
   {
    "duration": 153,
    "start_time": "2023-05-18T09:28:05.881Z"
   },
   {
    "duration": 135,
    "start_time": "2023-05-18T09:28:11.721Z"
   },
   {
    "duration": 145,
    "start_time": "2023-05-18T09:28:20.988Z"
   },
   {
    "duration": 177,
    "start_time": "2023-05-18T09:28:52.911Z"
   },
   {
    "duration": 187,
    "start_time": "2023-05-18T09:30:36.369Z"
   },
   {
    "duration": 130,
    "start_time": "2023-05-18T09:31:57.618Z"
   },
   {
    "duration": 148,
    "start_time": "2023-05-18T09:32:07.721Z"
   },
   {
    "duration": 166,
    "start_time": "2023-05-18T09:33:17.988Z"
   },
   {
    "duration": 251,
    "start_time": "2023-05-18T09:33:22.973Z"
   },
   {
    "duration": 177,
    "start_time": "2023-05-18T09:33:54.780Z"
   },
   {
    "duration": 224,
    "start_time": "2023-05-18T09:34:27.618Z"
   },
   {
    "duration": 177,
    "start_time": "2023-05-18T09:34:48.200Z"
   },
   {
    "duration": 173,
    "start_time": "2023-05-18T09:36:33.478Z"
   },
   {
    "duration": 185,
    "start_time": "2023-05-18T09:36:44.996Z"
   },
   {
    "duration": 193,
    "start_time": "2023-05-18T09:37:00.178Z"
   },
   {
    "duration": 88,
    "start_time": "2023-05-19T04:25:20.198Z"
   },
   {
    "duration": 7,
    "start_time": "2023-05-19T04:25:43.628Z"
   },
   {
    "duration": 12,
    "start_time": "2023-05-19T04:26:02.999Z"
   },
   {
    "duration": 1548,
    "start_time": "2023-05-19T04:26:19.319Z"
   },
   {
    "duration": 329,
    "start_time": "2023-05-19T04:26:20.869Z"
   },
   {
    "duration": 25,
    "start_time": "2023-05-19T04:26:21.200Z"
   },
   {
    "duration": 22,
    "start_time": "2023-05-19T04:26:21.228Z"
   },
   {
    "duration": 12,
    "start_time": "2023-05-19T04:26:21.253Z"
   },
   {
    "duration": 80,
    "start_time": "2023-05-19T04:26:21.267Z"
   },
   {
    "duration": 8,
    "start_time": "2023-05-19T04:26:21.349Z"
   },
   {
    "duration": 11,
    "start_time": "2023-05-19T04:26:21.359Z"
   },
   {
    "duration": 71,
    "start_time": "2023-05-19T04:26:21.388Z"
   },
   {
    "duration": 25,
    "start_time": "2023-05-19T04:26:21.462Z"
   },
   {
    "duration": 435,
    "start_time": "2023-05-19T04:26:21.490Z"
   },
   {
    "duration": 391,
    "start_time": "2023-05-19T04:26:21.927Z"
   },
   {
    "duration": 292,
    "start_time": "2023-05-19T04:26:22.320Z"
   },
   {
    "duration": 402,
    "start_time": "2023-05-19T04:26:22.614Z"
   },
   {
    "duration": 273,
    "start_time": "2023-05-19T04:26:23.020Z"
   },
   {
    "duration": 325,
    "start_time": "2023-05-19T04:26:23.300Z"
   },
   {
    "duration": 206,
    "start_time": "2023-05-19T04:26:23.631Z"
   },
   {
    "duration": 205,
    "start_time": "2023-05-19T04:26:23.843Z"
   },
   {
    "duration": 10,
    "start_time": "2023-05-19T04:26:24.050Z"
   },
   {
    "duration": 193,
    "start_time": "2023-05-19T04:26:24.062Z"
   },
   {
    "duration": 31,
    "start_time": "2023-05-19T04:26:56.005Z"
   },
   {
    "duration": 19,
    "start_time": "2023-05-19T04:27:05.496Z"
   },
   {
    "duration": 26,
    "start_time": "2023-05-19T04:27:48.909Z"
   },
   {
    "duration": 30,
    "start_time": "2023-05-19T04:29:52.067Z"
   },
   {
    "duration": 36,
    "start_time": "2023-05-19T04:33:24.417Z"
   },
   {
    "duration": 21,
    "start_time": "2023-05-19T04:34:26.239Z"
   },
   {
    "duration": 20,
    "start_time": "2023-05-19T04:34:33.234Z"
   },
   {
    "duration": 259,
    "start_time": "2023-05-19T04:34:45.645Z"
   },
   {
    "duration": 372,
    "start_time": "2023-05-19T04:36:02.529Z"
   },
   {
    "duration": 318,
    "start_time": "2023-05-19T04:38:46.520Z"
   },
   {
    "duration": 229,
    "start_time": "2023-05-19T04:39:34.569Z"
   },
   {
    "duration": 226,
    "start_time": "2023-05-19T04:39:47.152Z"
   },
   {
    "duration": 612,
    "start_time": "2023-05-19T04:41:12.856Z"
   },
   {
    "duration": 263,
    "start_time": "2023-05-19T04:41:32.744Z"
   },
   {
    "duration": 237,
    "start_time": "2023-05-19T04:42:27.198Z"
   },
   {
    "duration": 273,
    "start_time": "2023-05-19T04:42:37.845Z"
   },
   {
    "duration": 727,
    "start_time": "2023-05-19T04:43:52.585Z"
   },
   {
    "duration": 564,
    "start_time": "2023-05-19T04:44:28.318Z"
   },
   {
    "duration": 393,
    "start_time": "2023-05-19T04:44:58.446Z"
   },
   {
    "duration": 488,
    "start_time": "2023-05-19T04:46:24.663Z"
   },
   {
    "duration": 602,
    "start_time": "2023-05-19T04:47:14.853Z"
   },
   {
    "duration": 671,
    "start_time": "2023-05-19T04:47:26.436Z"
   },
   {
    "duration": 2271,
    "start_time": "2023-05-19T04:47:48.861Z"
   },
   {
    "duration": 2371,
    "start_time": "2023-05-19T04:47:56.604Z"
   },
   {
    "duration": 409,
    "start_time": "2023-05-19T04:48:38.830Z"
   },
   {
    "duration": 446,
    "start_time": "2023-05-19T04:48:48.540Z"
   },
   {
    "duration": 2616,
    "start_time": "2023-05-19T04:48:56.167Z"
   },
   {
    "duration": 534,
    "start_time": "2023-05-19T04:50:01.723Z"
   },
   {
    "duration": 18,
    "start_time": "2023-05-19T04:53:15.721Z"
   },
   {
    "duration": 24,
    "start_time": "2023-05-19T05:07:14.331Z"
   },
   {
    "duration": 263,
    "start_time": "2023-05-19T05:08:28.104Z"
   },
   {
    "duration": 240,
    "start_time": "2023-05-19T05:08:55.769Z"
   },
   {
    "duration": 174,
    "start_time": "2023-05-19T05:09:12.149Z"
   },
   {
    "duration": 21,
    "start_time": "2023-05-19T05:09:57.313Z"
   },
   {
    "duration": 32,
    "start_time": "2023-05-19T05:11:09.391Z"
   },
   {
    "duration": 249,
    "start_time": "2023-05-19T05:11:42.841Z"
   },
   {
    "duration": 222,
    "start_time": "2023-05-19T05:12:01.424Z"
   },
   {
    "duration": 291,
    "start_time": "2023-05-19T05:12:36.270Z"
   },
   {
    "duration": 2796,
    "start_time": "2023-05-19T05:13:22.804Z"
   },
   {
    "duration": 804,
    "start_time": "2023-05-19T05:14:50.674Z"
   },
   {
    "duration": 662,
    "start_time": "2023-05-19T05:18:32.583Z"
   },
   {
    "duration": 1230,
    "start_time": "2023-05-19T05:21:53.833Z"
   },
   {
    "duration": 814,
    "start_time": "2023-05-19T05:22:04.865Z"
   },
   {
    "duration": 42,
    "start_time": "2023-05-19T05:28:24.177Z"
   },
   {
    "duration": 39,
    "start_time": "2023-05-19T05:37:38.521Z"
   },
   {
    "duration": 3382,
    "start_time": "2023-05-19T05:38:41.076Z"
   },
   {
    "duration": 3448,
    "start_time": "2023-05-19T05:39:12.837Z"
   },
   {
    "duration": 3419,
    "start_time": "2023-05-19T05:40:46.448Z"
   },
   {
    "duration": 258,
    "start_time": "2023-05-19T05:41:24.565Z"
   },
   {
    "duration": 307,
    "start_time": "2023-05-19T05:41:58.647Z"
   },
   {
    "duration": 1833,
    "start_time": "2023-05-19T06:26:29.328Z"
   },
   {
    "duration": 130,
    "start_time": "2023-05-19T06:26:31.164Z"
   },
   {
    "duration": 67,
    "start_time": "2023-05-19T06:26:31.302Z"
   },
   {
    "duration": 187,
    "start_time": "2023-05-19T06:26:31.376Z"
   },
   {
    "duration": 329,
    "start_time": "2023-05-19T06:26:31.566Z"
   },
   {
    "duration": 201,
    "start_time": "2023-05-19T06:26:31.901Z"
   },
   {
    "duration": 101,
    "start_time": "2023-05-19T06:26:32.105Z"
   },
   {
    "duration": 254,
    "start_time": "2023-05-19T06:26:32.214Z"
   },
   {
    "duration": 193,
    "start_time": "2023-05-19T06:26:32.474Z"
   },
   {
    "duration": 83,
    "start_time": "2023-05-19T06:26:32.683Z"
   },
   {
    "duration": 670,
    "start_time": "2023-05-19T06:26:32.768Z"
   },
   {
    "duration": 756,
    "start_time": "2023-05-19T06:26:33.440Z"
   },
   {
    "duration": 544,
    "start_time": "2023-05-19T06:26:34.198Z"
   },
   {
    "duration": 573,
    "start_time": "2023-05-19T06:26:34.746Z"
   },
   {
    "duration": 525,
    "start_time": "2023-05-19T06:26:35.340Z"
   },
   {
    "duration": 905,
    "start_time": "2023-05-19T06:26:35.882Z"
   },
   {
    "duration": 497,
    "start_time": "2023-05-19T06:26:36.798Z"
   },
   {
    "duration": 686,
    "start_time": "2023-05-19T06:26:37.307Z"
   },
   {
    "duration": 21,
    "start_time": "2023-05-19T06:26:38.000Z"
   },
   {
    "duration": 1099,
    "start_time": "2023-05-19T06:26:38.024Z"
   },
   {
    "duration": 453,
    "start_time": "2023-05-19T06:26:39.126Z"
   },
   {
    "duration": 22,
    "start_time": "2023-05-19T06:26:39.593Z"
   },
   {
    "duration": 1194,
    "start_time": "2023-05-19T06:26:39.628Z"
   },
   {
    "duration": 31,
    "start_time": "2023-05-19T06:26:40.828Z"
   },
   {
    "duration": 79,
    "start_time": "2023-05-19T06:26:40.872Z"
   },
   {
    "duration": 393,
    "start_time": "2023-05-19T06:26:40.962Z"
   },
   {
    "duration": 73,
    "start_time": "2023-05-19T06:27:13.169Z"
   },
   {
    "duration": 1756,
    "start_time": "2023-05-19T06:27:30.896Z"
   },
   {
    "duration": 129,
    "start_time": "2023-05-19T06:27:32.660Z"
   },
   {
    "duration": 22,
    "start_time": "2023-05-19T06:27:32.798Z"
   },
   {
    "duration": 133,
    "start_time": "2023-05-19T06:27:32.829Z"
   },
   {
    "duration": 152,
    "start_time": "2023-05-19T06:27:32.969Z"
   },
   {
    "duration": 156,
    "start_time": "2023-05-19T06:27:33.129Z"
   },
   {
    "duration": 145,
    "start_time": "2023-05-19T06:27:33.298Z"
   },
   {
    "duration": 172,
    "start_time": "2023-05-19T06:27:33.451Z"
   },
   {
    "duration": 120,
    "start_time": "2023-05-19T06:27:33.658Z"
   },
   {
    "duration": 106,
    "start_time": "2023-05-19T06:27:33.792Z"
   },
   {
    "duration": 660,
    "start_time": "2023-05-19T06:27:33.901Z"
   },
   {
    "duration": 524,
    "start_time": "2023-05-19T06:27:34.564Z"
   },
   {
    "duration": 375,
    "start_time": "2023-05-19T06:27:35.095Z"
   },
   {
    "duration": 502,
    "start_time": "2023-05-19T06:27:35.473Z"
   },
   {
    "duration": 314,
    "start_time": "2023-05-19T06:27:35.980Z"
   },
   {
    "duration": 526,
    "start_time": "2023-05-19T06:27:36.305Z"
   },
   {
    "duration": 310,
    "start_time": "2023-05-19T06:27:36.846Z"
   },
   {
    "duration": 349,
    "start_time": "2023-05-19T06:27:37.158Z"
   },
   {
    "duration": 34,
    "start_time": "2023-05-19T06:27:37.510Z"
   },
   {
    "duration": 876,
    "start_time": "2023-05-19T06:27:37.547Z"
   },
   {
    "duration": 311,
    "start_time": "2023-05-19T06:27:38.436Z"
   },
   {
    "duration": 21,
    "start_time": "2023-05-19T06:27:38.756Z"
   },
   {
    "duration": 245,
    "start_time": "2023-05-19T06:27:38.784Z"
   },
   {
    "duration": 0,
    "start_time": "2023-05-19T06:27:39.037Z"
   },
   {
    "duration": 0,
    "start_time": "2023-05-19T06:27:39.042Z"
   },
   {
    "duration": 0,
    "start_time": "2023-05-19T06:27:39.048Z"
   },
   {
    "duration": 690,
    "start_time": "2023-05-19T06:29:26.445Z"
   },
   {
    "duration": 27,
    "start_time": "2023-05-19T06:29:35.132Z"
   },
   {
    "duration": 37,
    "start_time": "2023-05-19T06:30:11.022Z"
   },
   {
    "duration": 348,
    "start_time": "2023-05-19T06:30:11.470Z"
   },
   {
    "duration": 189,
    "start_time": "2023-05-19T06:32:18.916Z"
   },
   {
    "duration": 91,
    "start_time": "2023-05-19T06:36:29.982Z"
   },
   {
    "duration": 75,
    "start_time": "2023-05-19T06:36:49.852Z"
   },
   {
    "duration": 65,
    "start_time": "2023-05-19T06:37:45.129Z"
   },
   {
    "duration": 88,
    "start_time": "2023-05-19T06:38:32.863Z"
   },
   {
    "duration": 82,
    "start_time": "2023-05-19T06:39:36.681Z"
   },
   {
    "duration": 79,
    "start_time": "2023-05-19T06:40:40.117Z"
   },
   {
    "duration": 62,
    "start_time": "2023-05-19T06:40:51.507Z"
   },
   {
    "duration": 419,
    "start_time": "2023-05-19T06:41:26.164Z"
   },
   {
    "duration": 1931,
    "start_time": "2023-05-19T06:41:35.592Z"
   },
   {
    "duration": 205,
    "start_time": "2023-05-19T06:41:37.526Z"
   },
   {
    "duration": 43,
    "start_time": "2023-05-19T06:41:37.733Z"
   },
   {
    "duration": 132,
    "start_time": "2023-05-19T06:41:37.779Z"
   },
   {
    "duration": 31,
    "start_time": "2023-05-19T06:41:37.914Z"
   },
   {
    "duration": 259,
    "start_time": "2023-05-19T06:41:37.948Z"
   },
   {
    "duration": 63,
    "start_time": "2023-05-19T06:41:38.220Z"
   },
   {
    "duration": 233,
    "start_time": "2023-05-19T06:41:38.287Z"
   },
   {
    "duration": 184,
    "start_time": "2023-05-19T06:41:38.522Z"
   },
   {
    "duration": 133,
    "start_time": "2023-05-19T06:41:38.708Z"
   },
   {
    "duration": 658,
    "start_time": "2023-05-19T06:41:38.845Z"
   },
   {
    "duration": 477,
    "start_time": "2023-05-19T06:41:39.506Z"
   },
   {
    "duration": 355,
    "start_time": "2023-05-19T06:41:39.986Z"
   },
   {
    "duration": 513,
    "start_time": "2023-05-19T06:41:40.345Z"
   },
   {
    "duration": 342,
    "start_time": "2023-05-19T06:41:40.869Z"
   },
   {
    "duration": 478,
    "start_time": "2023-05-19T06:41:41.222Z"
   },
   {
    "duration": 320,
    "start_time": "2023-05-19T06:41:41.707Z"
   },
   {
    "duration": 254,
    "start_time": "2023-05-19T06:41:42.036Z"
   },
   {
    "duration": 31,
    "start_time": "2023-05-19T06:41:42.302Z"
   },
   {
    "duration": 632,
    "start_time": "2023-05-19T06:41:42.335Z"
   },
   {
    "duration": 309,
    "start_time": "2023-05-19T06:41:42.994Z"
   },
   {
    "duration": 8,
    "start_time": "2023-05-19T06:41:43.305Z"
   },
   {
    "duration": 393,
    "start_time": "2023-05-19T06:41:43.319Z"
   },
   {
    "duration": 0,
    "start_time": "2023-05-19T06:41:43.721Z"
   },
   {
    "duration": 0,
    "start_time": "2023-05-19T06:41:43.722Z"
   },
   {
    "duration": 570,
    "start_time": "2023-05-19T06:42:37.057Z"
   },
   {
    "duration": 587,
    "start_time": "2023-05-19T06:42:51.935Z"
   },
   {
    "duration": 516,
    "start_time": "2023-05-19T06:43:24.135Z"
   },
   {
    "duration": 1711,
    "start_time": "2023-05-19T06:43:31.554Z"
   },
   {
    "duration": 167,
    "start_time": "2023-05-19T06:43:33.267Z"
   },
   {
    "duration": 124,
    "start_time": "2023-05-19T06:43:33.436Z"
   },
   {
    "duration": 188,
    "start_time": "2023-05-19T06:43:33.576Z"
   },
   {
    "duration": 177,
    "start_time": "2023-05-19T06:43:33.778Z"
   },
   {
    "duration": 242,
    "start_time": "2023-05-19T06:43:33.964Z"
   },
   {
    "duration": 108,
    "start_time": "2023-05-19T06:43:34.211Z"
   },
   {
    "duration": 218,
    "start_time": "2023-05-19T06:43:34.326Z"
   },
   {
    "duration": 210,
    "start_time": "2023-05-19T06:43:34.557Z"
   },
   {
    "duration": 161,
    "start_time": "2023-05-19T06:43:34.770Z"
   },
   {
    "duration": 1151,
    "start_time": "2023-05-19T06:43:34.945Z"
   },
   {
    "duration": 645,
    "start_time": "2023-05-19T06:43:36.100Z"
   },
   {
    "duration": 383,
    "start_time": "2023-05-19T06:43:36.753Z"
   },
   {
    "duration": 503,
    "start_time": "2023-05-19T06:43:37.152Z"
   },
   {
    "duration": 352,
    "start_time": "2023-05-19T06:43:37.662Z"
   },
   {
    "duration": 710,
    "start_time": "2023-05-19T06:43:38.025Z"
   },
   {
    "duration": 371,
    "start_time": "2023-05-19T06:43:38.742Z"
   },
   {
    "duration": 364,
    "start_time": "2023-05-19T06:43:39.120Z"
   },
   {
    "duration": 26,
    "start_time": "2023-05-19T06:43:39.490Z"
   },
   {
    "duration": 1153,
    "start_time": "2023-05-19T06:43:39.523Z"
   },
   {
    "duration": 243,
    "start_time": "2023-05-19T06:43:40.681Z"
   },
   {
    "duration": 15,
    "start_time": "2023-05-19T06:43:40.926Z"
   },
   {
    "duration": 381,
    "start_time": "2023-05-19T06:43:40.945Z"
   },
   {
    "duration": 0,
    "start_time": "2023-05-19T06:43:41.332Z"
   },
   {
    "duration": 0,
    "start_time": "2023-05-19T06:43:41.333Z"
   },
   {
    "duration": 604,
    "start_time": "2023-05-19T06:43:51.163Z"
   },
   {
    "duration": 13,
    "start_time": "2023-05-19T06:44:12.062Z"
   },
   {
    "duration": 21,
    "start_time": "2023-05-19T06:44:22.730Z"
   },
   {
    "duration": 44,
    "start_time": "2023-05-19T06:44:41.122Z"
   },
   {
    "duration": 1854,
    "start_time": "2023-05-19T06:45:06.149Z"
   },
   {
    "duration": 176,
    "start_time": "2023-05-19T06:45:08.012Z"
   },
   {
    "duration": 40,
    "start_time": "2023-05-19T06:45:08.198Z"
   },
   {
    "duration": 191,
    "start_time": "2023-05-19T06:45:08.246Z"
   },
   {
    "duration": 195,
    "start_time": "2023-05-19T06:45:08.446Z"
   },
   {
    "duration": 176,
    "start_time": "2023-05-19T06:45:08.654Z"
   },
   {
    "duration": 131,
    "start_time": "2023-05-19T06:45:08.838Z"
   },
   {
    "duration": 97,
    "start_time": "2023-05-19T06:45:08.971Z"
   },
   {
    "duration": 116,
    "start_time": "2023-05-19T06:45:09.071Z"
   },
   {
    "duration": 39,
    "start_time": "2023-05-19T06:45:09.191Z"
   },
   {
    "duration": 1174,
    "start_time": "2023-05-19T06:45:09.233Z"
   },
   {
    "duration": 1101,
    "start_time": "2023-05-19T06:45:10.412Z"
   },
   {
    "duration": 506,
    "start_time": "2023-05-19T06:45:11.516Z"
   },
   {
    "duration": 460,
    "start_time": "2023-05-19T06:45:12.025Z"
   },
   {
    "duration": 302,
    "start_time": "2023-05-19T06:45:12.487Z"
   },
   {
    "duration": 394,
    "start_time": "2023-05-19T06:45:12.791Z"
   },
   {
    "duration": 254,
    "start_time": "2023-05-19T06:45:13.188Z"
   },
   {
    "duration": 216,
    "start_time": "2023-05-19T06:45:13.444Z"
   },
   {
    "duration": 15,
    "start_time": "2023-05-19T06:45:13.662Z"
   },
   {
    "duration": 968,
    "start_time": "2023-05-19T06:45:13.679Z"
   },
   {
    "duration": 299,
    "start_time": "2023-05-19T06:45:14.649Z"
   },
   {
    "duration": 5,
    "start_time": "2023-05-19T06:45:14.950Z"
   },
   {
    "duration": 914,
    "start_time": "2023-05-19T06:45:14.957Z"
   },
   {
    "duration": 34,
    "start_time": "2023-05-19T06:45:15.879Z"
   },
   {
    "duration": 339,
    "start_time": "2023-05-19T06:45:15.921Z"
   },
   {
    "duration": 281,
    "start_time": "2023-05-19T06:51:55.759Z"
   },
   {
    "duration": 301,
    "start_time": "2023-05-19T06:52:04.297Z"
   },
   {
    "duration": 3172,
    "start_time": "2023-05-19T06:58:12.916Z"
   },
   {
    "duration": 42,
    "start_time": "2023-05-19T06:58:53.002Z"
   },
   {
    "duration": 50,
    "start_time": "2023-05-19T06:59:21.605Z"
   },
   {
    "duration": 249,
    "start_time": "2023-05-19T07:00:01.139Z"
   },
   {
    "duration": 22,
    "start_time": "2023-05-19T07:00:03.552Z"
   },
   {
    "duration": 1008,
    "start_time": "2023-05-20T05:26:21.278Z"
   },
   {
    "duration": 73,
    "start_time": "2023-05-20T05:26:22.288Z"
   },
   {
    "duration": 9,
    "start_time": "2023-05-20T05:26:22.363Z"
   },
   {
    "duration": 6,
    "start_time": "2023-05-20T05:26:22.374Z"
   },
   {
    "duration": 7,
    "start_time": "2023-05-20T05:26:22.382Z"
   },
   {
    "duration": 23,
    "start_time": "2023-05-20T05:26:22.391Z"
   },
   {
    "duration": 5,
    "start_time": "2023-05-20T05:26:22.416Z"
   },
   {
    "duration": 5,
    "start_time": "2023-05-20T05:26:22.422Z"
   },
   {
    "duration": 30,
    "start_time": "2023-05-20T05:26:22.428Z"
   },
   {
    "duration": 13,
    "start_time": "2023-05-20T05:26:22.460Z"
   },
   {
    "duration": 299,
    "start_time": "2023-05-20T05:26:22.475Z"
   },
   {
    "duration": 277,
    "start_time": "2023-05-20T05:26:22.776Z"
   },
   {
    "duration": 188,
    "start_time": "2023-05-20T05:26:23.054Z"
   },
   {
    "duration": 301,
    "start_time": "2023-05-20T05:26:23.244Z"
   },
   {
    "duration": 189,
    "start_time": "2023-05-20T05:26:23.549Z"
   },
   {
    "duration": 301,
    "start_time": "2023-05-20T05:26:23.739Z"
   },
   {
    "duration": 188,
    "start_time": "2023-05-20T05:26:24.042Z"
   },
   {
    "duration": 160,
    "start_time": "2023-05-20T05:26:24.232Z"
   },
   {
    "duration": 10,
    "start_time": "2023-05-20T05:26:24.393Z"
   },
   {
    "duration": 324,
    "start_time": "2023-05-20T05:26:24.404Z"
   },
   {
    "duration": 160,
    "start_time": "2023-05-20T05:26:24.729Z"
   },
   {
    "duration": 5,
    "start_time": "2023-05-20T05:26:24.890Z"
   },
   {
    "duration": 377,
    "start_time": "2023-05-20T05:26:24.896Z"
   },
   {
    "duration": 9,
    "start_time": "2023-05-20T05:26:25.274Z"
   },
   {
    "duration": 168,
    "start_time": "2023-05-20T05:26:25.285Z"
   },
   {
    "duration": 12,
    "start_time": "2023-05-20T05:26:25.454Z"
   },
   {
    "duration": 4,
    "start_time": "2023-05-20T05:28:59.752Z"
   },
   {
    "duration": 66,
    "start_time": "2023-05-22T04:43:09.795Z"
   },
   {
    "duration": 1424,
    "start_time": "2023-05-22T04:43:15.011Z"
   },
   {
    "duration": 288,
    "start_time": "2023-05-22T04:43:16.438Z"
   },
   {
    "duration": 16,
    "start_time": "2023-05-22T04:43:16.728Z"
   },
   {
    "duration": 14,
    "start_time": "2023-05-22T04:43:16.747Z"
   },
   {
    "duration": 22,
    "start_time": "2023-05-22T04:43:16.763Z"
   },
   {
    "duration": 37,
    "start_time": "2023-05-22T04:43:16.787Z"
   },
   {
    "duration": 8,
    "start_time": "2023-05-22T04:43:16.826Z"
   },
   {
    "duration": 14,
    "start_time": "2023-05-22T04:43:16.836Z"
   },
   {
    "duration": 19,
    "start_time": "2023-05-22T04:43:16.852Z"
   },
   {
    "duration": 74,
    "start_time": "2023-05-22T04:43:16.875Z"
   },
   {
    "duration": 58,
    "start_time": "2023-05-22T04:43:16.952Z"
   },
   {
    "duration": 688,
    "start_time": "2023-05-22T04:43:17.014Z"
   },
   {
    "duration": 896,
    "start_time": "2023-05-22T04:43:17.704Z"
   },
   {
    "duration": 423,
    "start_time": "2023-05-22T04:43:18.602Z"
   },
   {
    "duration": 458,
    "start_time": "2023-05-22T04:43:19.027Z"
   },
   {
    "duration": 198,
    "start_time": "2023-05-22T04:43:19.487Z"
   },
   {
    "duration": 330,
    "start_time": "2023-05-22T04:43:19.687Z"
   },
   {
    "duration": 159,
    "start_time": "2023-05-22T04:43:20.019Z"
   },
   {
    "duration": 154,
    "start_time": "2023-05-22T04:43:20.180Z"
   },
   {
    "duration": 10,
    "start_time": "2023-05-22T04:43:20.337Z"
   },
   {
    "duration": 383,
    "start_time": "2023-05-22T04:43:20.349Z"
   },
   {
    "duration": 180,
    "start_time": "2023-05-22T04:43:20.734Z"
   },
   {
    "duration": 5,
    "start_time": "2023-05-22T04:43:20.916Z"
   },
   {
    "duration": 367,
    "start_time": "2023-05-22T04:43:20.922Z"
   },
   {
    "duration": 23,
    "start_time": "2023-05-22T04:43:21.291Z"
   },
   {
    "duration": 177,
    "start_time": "2023-05-22T04:43:21.317Z"
   },
   {
    "duration": 20,
    "start_time": "2023-05-22T04:43:21.497Z"
   },
   {
    "duration": 6,
    "start_time": "2023-05-22T04:43:32.345Z"
   },
   {
    "duration": 6,
    "start_time": "2023-05-22T04:43:54.376Z"
   },
   {
    "duration": 6,
    "start_time": "2023-05-22T04:44:14.887Z"
   },
   {
    "duration": 6,
    "start_time": "2023-05-22T04:44:23.878Z"
   },
   {
    "duration": 5,
    "start_time": "2023-05-22T04:45:48.082Z"
   },
   {
    "duration": 6,
    "start_time": "2023-05-22T04:46:06.254Z"
   },
   {
    "duration": 15,
    "start_time": "2023-05-22T04:50:10.287Z"
   },
   {
    "duration": 10,
    "start_time": "2023-05-22T04:57:25.854Z"
   },
   {
    "duration": 6,
    "start_time": "2023-05-22T04:58:58.461Z"
   },
   {
    "duration": 2260,
    "start_time": "2023-05-22T05:01:31.066Z"
   },
   {
    "duration": 119,
    "start_time": "2023-05-22T05:01:33.328Z"
   },
   {
    "duration": 50,
    "start_time": "2023-05-22T05:01:33.449Z"
   },
   {
    "duration": 10,
    "start_time": "2023-05-22T05:01:33.509Z"
   },
   {
    "duration": 38,
    "start_time": "2023-05-22T05:01:33.521Z"
   },
   {
    "duration": 69,
    "start_time": "2023-05-22T05:01:33.561Z"
   },
   {
    "duration": 7,
    "start_time": "2023-05-22T05:01:33.632Z"
   },
   {
    "duration": 93,
    "start_time": "2023-05-22T05:01:33.641Z"
   },
   {
    "duration": 25,
    "start_time": "2023-05-22T05:01:33.737Z"
   },
   {
    "duration": 38,
    "start_time": "2023-05-22T05:01:33.765Z"
   },
   {
    "duration": 47,
    "start_time": "2023-05-22T05:01:33.806Z"
   },
   {
    "duration": 48,
    "start_time": "2023-05-22T05:01:33.855Z"
   },
   {
    "duration": 48,
    "start_time": "2023-05-22T05:01:33.905Z"
   },
   {
    "duration": 57,
    "start_time": "2023-05-22T05:01:33.956Z"
   },
   {
    "duration": 16,
    "start_time": "2023-05-22T05:01:34.020Z"
   },
   {
    "duration": 64,
    "start_time": "2023-05-22T05:01:34.037Z"
   },
   {
    "duration": 558,
    "start_time": "2023-05-22T05:01:34.105Z"
   },
   {
    "duration": 357,
    "start_time": "2023-05-22T05:01:34.665Z"
   },
   {
    "duration": 259,
    "start_time": "2023-05-22T05:01:35.024Z"
   },
   {
    "duration": 363,
    "start_time": "2023-05-22T05:01:35.285Z"
   },
   {
    "duration": 263,
    "start_time": "2023-05-22T05:01:35.650Z"
   },
   {
    "duration": 329,
    "start_time": "2023-05-22T05:01:35.915Z"
   },
   {
    "duration": 205,
    "start_time": "2023-05-22T05:01:36.246Z"
   },
   {
    "duration": 224,
    "start_time": "2023-05-22T05:01:36.453Z"
   },
   {
    "duration": 25,
    "start_time": "2023-05-22T05:01:36.680Z"
   },
   {
    "duration": 427,
    "start_time": "2023-05-22T05:01:36.707Z"
   },
   {
    "duration": 211,
    "start_time": "2023-05-22T05:01:37.137Z"
   },
   {
    "duration": 5,
    "start_time": "2023-05-22T05:01:37.352Z"
   },
   {
    "duration": 524,
    "start_time": "2023-05-22T05:01:37.360Z"
   },
   {
    "duration": 27,
    "start_time": "2023-05-22T05:01:37.886Z"
   },
   {
    "duration": 216,
    "start_time": "2023-05-22T05:01:37.918Z"
   },
   {
    "duration": 15,
    "start_time": "2023-05-22T05:01:38.137Z"
   },
   {
    "duration": 2099,
    "start_time": "2023-05-22T05:03:16.820Z"
   },
   {
    "duration": 111,
    "start_time": "2023-05-22T05:03:18.921Z"
   },
   {
    "duration": 17,
    "start_time": "2023-05-22T05:03:19.034Z"
   },
   {
    "duration": 20,
    "start_time": "2023-05-22T05:03:19.100Z"
   },
   {
    "duration": 28,
    "start_time": "2023-05-22T05:03:19.121Z"
   },
   {
    "duration": 71,
    "start_time": "2023-05-22T05:03:19.151Z"
   },
   {
    "duration": 5,
    "start_time": "2023-05-22T05:03:19.223Z"
   },
   {
    "duration": 12,
    "start_time": "2023-05-22T05:03:19.229Z"
   },
   {
    "duration": 54,
    "start_time": "2023-05-22T05:03:19.243Z"
   },
   {
    "duration": 36,
    "start_time": "2023-05-22T05:03:19.300Z"
   },
   {
    "duration": 19,
    "start_time": "2023-05-22T05:03:19.338Z"
   },
   {
    "duration": 46,
    "start_time": "2023-05-22T05:03:19.359Z"
   },
   {
    "duration": 25,
    "start_time": "2023-05-22T05:03:19.407Z"
   },
   {
    "duration": 16,
    "start_time": "2023-05-22T05:03:19.434Z"
   },
   {
    "duration": 374,
    "start_time": "2023-05-22T05:03:19.452Z"
   },
   {
    "duration": 779,
    "start_time": "2023-05-22T05:03:19.828Z"
   },
   {
    "duration": 501,
    "start_time": "2023-05-22T05:03:20.614Z"
   },
   {
    "duration": 624,
    "start_time": "2023-05-22T05:03:21.119Z"
   },
   {
    "duration": 439,
    "start_time": "2023-05-22T05:03:21.800Z"
   },
   {
    "duration": 320,
    "start_time": "2023-05-22T05:03:22.241Z"
   },
   {
    "duration": 203,
    "start_time": "2023-05-22T05:03:22.563Z"
   },
   {
    "duration": 231,
    "start_time": "2023-05-22T05:03:22.768Z"
   },
   {
    "duration": 19,
    "start_time": "2023-05-22T05:03:23.001Z"
   },
   {
    "duration": 404,
    "start_time": "2023-05-22T05:03:23.022Z"
   },
   {
    "duration": 203,
    "start_time": "2023-05-22T05:03:23.429Z"
   },
   {
    "duration": 6,
    "start_time": "2023-05-22T05:03:23.634Z"
   },
   {
    "duration": 433,
    "start_time": "2023-05-22T05:03:23.641Z"
   },
   {
    "duration": 31,
    "start_time": "2023-05-22T05:03:24.076Z"
   },
   {
    "duration": 179,
    "start_time": "2023-05-22T05:03:24.109Z"
   },
   {
    "duration": 27,
    "start_time": "2023-05-22T05:03:24.289Z"
   },
   {
    "duration": 4,
    "start_time": "2023-05-22T05:04:39.787Z"
   },
   {
    "duration": 3,
    "start_time": "2023-05-22T05:04:48.770Z"
   },
   {
    "duration": 4,
    "start_time": "2023-05-22T05:05:00.058Z"
   },
   {
    "duration": 101,
    "start_time": "2023-05-22T05:05:15.689Z"
   },
   {
    "duration": 11,
    "start_time": "2023-05-22T05:05:23.241Z"
   },
   {
    "duration": 14,
    "start_time": "2023-05-22T05:05:31.639Z"
   },
   {
    "duration": 12,
    "start_time": "2023-05-22T05:05:53.065Z"
   },
   {
    "duration": 4,
    "start_time": "2023-05-22T05:06:14.626Z"
   },
   {
    "duration": 14,
    "start_time": "2023-05-22T05:06:38.910Z"
   },
   {
    "duration": 1121,
    "start_time": "2023-05-22T05:07:08.357Z"
   },
   {
    "duration": 82,
    "start_time": "2023-05-22T05:07:09.479Z"
   },
   {
    "duration": 13,
    "start_time": "2023-05-22T05:07:09.562Z"
   },
   {
    "duration": 7,
    "start_time": "2023-05-22T05:07:09.578Z"
   },
   {
    "duration": 29,
    "start_time": "2023-05-22T05:07:09.587Z"
   },
   {
    "duration": 25,
    "start_time": "2023-05-22T05:07:09.618Z"
   },
   {
    "duration": 4,
    "start_time": "2023-05-22T05:07:09.645Z"
   },
   {
    "duration": 15,
    "start_time": "2023-05-22T05:07:09.650Z"
   },
   {
    "duration": 13,
    "start_time": "2023-05-22T05:07:09.667Z"
   },
   {
    "duration": 12,
    "start_time": "2023-05-22T05:07:09.683Z"
   },
   {
    "duration": 26,
    "start_time": "2023-05-22T05:07:09.696Z"
   },
   {
    "duration": 16,
    "start_time": "2023-05-22T05:07:09.724Z"
   },
   {
    "duration": 22,
    "start_time": "2023-05-22T05:07:09.741Z"
   },
   {
    "duration": 17,
    "start_time": "2023-05-22T05:07:09.765Z"
   },
   {
    "duration": 524,
    "start_time": "2023-05-22T05:07:09.784Z"
   },
   {
    "duration": 726,
    "start_time": "2023-05-22T05:07:10.309Z"
   },
   {
    "duration": 503,
    "start_time": "2023-05-22T05:07:11.037Z"
   },
   {
    "duration": 558,
    "start_time": "2023-05-22T05:07:11.542Z"
   },
   {
    "duration": 287,
    "start_time": "2023-05-22T05:07:12.102Z"
   },
   {
    "duration": 344,
    "start_time": "2023-05-22T05:07:12.391Z"
   },
   {
    "duration": 185,
    "start_time": "2023-05-22T05:07:12.737Z"
   },
   {
    "duration": 190,
    "start_time": "2023-05-22T05:07:12.923Z"
   },
   {
    "duration": 10,
    "start_time": "2023-05-22T05:07:13.115Z"
   },
   {
    "duration": 362,
    "start_time": "2023-05-22T05:07:13.127Z"
   },
   {
    "duration": 203,
    "start_time": "2023-05-22T05:07:13.491Z"
   },
   {
    "duration": 4,
    "start_time": "2023-05-22T05:07:13.697Z"
   },
   {
    "duration": 430,
    "start_time": "2023-05-22T05:07:13.709Z"
   },
   {
    "duration": 11,
    "start_time": "2023-05-22T05:07:14.142Z"
   },
   {
    "duration": 187,
    "start_time": "2023-05-22T05:07:14.155Z"
   },
   {
    "duration": 13,
    "start_time": "2023-05-22T05:07:14.344Z"
   },
   {
    "duration": 1170,
    "start_time": "2023-05-22T05:07:53.208Z"
   },
   {
    "duration": 80,
    "start_time": "2023-05-22T05:07:54.381Z"
   },
   {
    "duration": 13,
    "start_time": "2023-05-22T05:07:54.463Z"
   },
   {
    "duration": 14,
    "start_time": "2023-05-22T05:07:54.478Z"
   },
   {
    "duration": 26,
    "start_time": "2023-05-22T05:07:54.495Z"
   },
   {
    "duration": 47,
    "start_time": "2023-05-22T05:07:54.522Z"
   },
   {
    "duration": 14,
    "start_time": "2023-05-22T05:07:54.571Z"
   },
   {
    "duration": 9,
    "start_time": "2023-05-22T05:07:54.587Z"
   },
   {
    "duration": 21,
    "start_time": "2023-05-22T05:07:54.600Z"
   },
   {
    "duration": 8,
    "start_time": "2023-05-22T05:07:54.623Z"
   },
   {
    "duration": 17,
    "start_time": "2023-05-22T05:07:54.633Z"
   },
   {
    "duration": 8,
    "start_time": "2023-05-22T05:07:54.652Z"
   },
   {
    "duration": 6,
    "start_time": "2023-05-22T05:07:54.662Z"
   },
   {
    "duration": 17,
    "start_time": "2023-05-22T05:07:54.669Z"
   },
   {
    "duration": 25,
    "start_time": "2023-05-22T05:07:54.688Z"
   },
   {
    "duration": 317,
    "start_time": "2023-05-22T05:07:54.715Z"
   },
   {
    "duration": 317,
    "start_time": "2023-05-22T05:07:55.034Z"
   },
   {
    "duration": 467,
    "start_time": "2023-05-22T05:07:55.352Z"
   },
   {
    "duration": 591,
    "start_time": "2023-05-22T05:07:55.821Z"
   },
   {
    "duration": 512,
    "start_time": "2023-05-22T05:07:56.414Z"
   },
   {
    "duration": 510,
    "start_time": "2023-05-22T05:07:56.928Z"
   },
   {
    "duration": 463,
    "start_time": "2023-05-22T05:07:57.440Z"
   },
   {
    "duration": 211,
    "start_time": "2023-05-22T05:07:57.906Z"
   },
   {
    "duration": 11,
    "start_time": "2023-05-22T05:07:58.119Z"
   },
   {
    "duration": 363,
    "start_time": "2023-05-22T05:07:58.132Z"
   },
   {
    "duration": 183,
    "start_time": "2023-05-22T05:07:58.497Z"
   },
   {
    "duration": 3,
    "start_time": "2023-05-22T05:07:58.682Z"
   },
   {
    "duration": 403,
    "start_time": "2023-05-22T05:07:58.688Z"
   },
   {
    "duration": 22,
    "start_time": "2023-05-22T05:07:59.097Z"
   },
   {
    "duration": 189,
    "start_time": "2023-05-22T05:07:59.121Z"
   },
   {
    "duration": 15,
    "start_time": "2023-05-22T05:07:59.312Z"
   },
   {
    "duration": 16,
    "start_time": "2023-05-22T05:09:04.011Z"
   },
   {
    "duration": 5,
    "start_time": "2023-05-22T05:18:09.305Z"
   },
   {
    "duration": 5,
    "start_time": "2023-05-22T05:18:31.413Z"
   },
   {
    "duration": 8,
    "start_time": "2023-05-22T05:19:41.225Z"
   },
   {
    "duration": 1343,
    "start_time": "2023-05-22T05:20:14.432Z"
   },
   {
    "duration": 89,
    "start_time": "2023-05-22T05:20:15.778Z"
   },
   {
    "duration": 17,
    "start_time": "2023-05-22T05:20:15.869Z"
   },
   {
    "duration": 43,
    "start_time": "2023-05-22T05:20:15.888Z"
   },
   {
    "duration": 48,
    "start_time": "2023-05-22T05:20:15.934Z"
   },
   {
    "duration": 51,
    "start_time": "2023-05-22T05:20:15.984Z"
   },
   {
    "duration": 19,
    "start_time": "2023-05-22T05:20:16.037Z"
   },
   {
    "duration": 32,
    "start_time": "2023-05-22T05:20:16.058Z"
   },
   {
    "duration": 41,
    "start_time": "2023-05-22T05:20:16.092Z"
   },
   {
    "duration": 30,
    "start_time": "2023-05-22T05:20:16.136Z"
   },
   {
    "duration": 27,
    "start_time": "2023-05-22T05:20:16.168Z"
   },
   {
    "duration": 38,
    "start_time": "2023-05-22T05:20:16.197Z"
   },
   {
    "duration": 31,
    "start_time": "2023-05-22T05:20:16.236Z"
   },
   {
    "duration": 52,
    "start_time": "2023-05-22T05:20:16.268Z"
   },
   {
    "duration": 31,
    "start_time": "2023-05-22T05:20:16.322Z"
   },
   {
    "duration": 407,
    "start_time": "2023-05-22T05:20:16.354Z"
   },
   {
    "duration": 6,
    "start_time": "2023-05-22T05:20:16.763Z"
   },
   {
    "duration": 12,
    "start_time": "2023-05-22T05:20:16.771Z"
   },
   {
    "duration": 319,
    "start_time": "2023-05-22T05:20:16.798Z"
   },
   {
    "duration": 235,
    "start_time": "2023-05-22T05:20:17.118Z"
   },
   {
    "duration": 380,
    "start_time": "2023-05-22T05:20:17.355Z"
   },
   {
    "duration": 228,
    "start_time": "2023-05-22T05:20:17.738Z"
   },
   {
    "duration": 353,
    "start_time": "2023-05-22T05:20:17.969Z"
   },
   {
    "duration": 188,
    "start_time": "2023-05-22T05:20:18.324Z"
   },
   {
    "duration": 179,
    "start_time": "2023-05-22T05:20:18.514Z"
   },
   {
    "duration": 11,
    "start_time": "2023-05-22T05:20:18.696Z"
   },
   {
    "duration": 388,
    "start_time": "2023-05-22T05:20:18.709Z"
   },
   {
    "duration": 185,
    "start_time": "2023-05-22T05:20:19.101Z"
   },
   {
    "duration": 10,
    "start_time": "2023-05-22T05:20:19.288Z"
   },
   {
    "duration": 414,
    "start_time": "2023-05-22T05:20:19.300Z"
   },
   {
    "duration": 10,
    "start_time": "2023-05-22T05:20:19.716Z"
   },
   {
    "duration": 183,
    "start_time": "2023-05-22T05:20:19.728Z"
   },
   {
    "duration": 14,
    "start_time": "2023-05-22T05:20:19.912Z"
   },
   {
    "duration": 6,
    "start_time": "2023-05-22T05:21:06.820Z"
   },
   {
    "duration": 5,
    "start_time": "2023-05-22T05:22:01.779Z"
   },
   {
    "duration": 1195,
    "start_time": "2023-05-22T05:22:18.080Z"
   },
   {
    "duration": 80,
    "start_time": "2023-05-22T05:22:19.276Z"
   },
   {
    "duration": 15,
    "start_time": "2023-05-22T05:22:19.357Z"
   },
   {
    "duration": 16,
    "start_time": "2023-05-22T05:22:19.374Z"
   },
   {
    "duration": 17,
    "start_time": "2023-05-22T05:22:19.392Z"
   },
   {
    "duration": 28,
    "start_time": "2023-05-22T05:22:19.411Z"
   },
   {
    "duration": 5,
    "start_time": "2023-05-22T05:22:19.441Z"
   },
   {
    "duration": 7,
    "start_time": "2023-05-22T05:22:19.448Z"
   },
   {
    "duration": 9,
    "start_time": "2023-05-22T05:22:19.457Z"
   },
   {
    "duration": 6,
    "start_time": "2023-05-22T05:22:19.469Z"
   },
   {
    "duration": 10,
    "start_time": "2023-05-22T05:22:19.498Z"
   },
   {
    "duration": 7,
    "start_time": "2023-05-22T05:22:19.510Z"
   },
   {
    "duration": 7,
    "start_time": "2023-05-22T05:22:19.518Z"
   },
   {
    "duration": 20,
    "start_time": "2023-05-22T05:22:19.527Z"
   },
   {
    "duration": 51,
    "start_time": "2023-05-22T05:22:19.549Z"
   },
   {
    "duration": 330,
    "start_time": "2023-05-22T05:22:19.602Z"
   },
   {
    "duration": 6,
    "start_time": "2023-05-22T05:22:19.934Z"
   },
   {
    "duration": 356,
    "start_time": "2023-05-22T05:22:19.942Z"
   },
   {
    "duration": 297,
    "start_time": "2023-05-22T05:22:20.300Z"
   },
   {
    "duration": 443,
    "start_time": "2023-05-22T05:22:20.599Z"
   },
   {
    "duration": 468,
    "start_time": "2023-05-22T05:22:21.044Z"
   },
   {
    "duration": 533,
    "start_time": "2023-05-22T05:22:21.514Z"
   },
   {
    "duration": 345,
    "start_time": "2023-05-22T05:22:22.098Z"
   },
   {
    "duration": 364,
    "start_time": "2023-05-22T05:22:22.444Z"
   },
   {
    "duration": 16,
    "start_time": "2023-05-22T05:22:22.810Z"
   },
   {
    "duration": 799,
    "start_time": "2023-05-22T05:22:22.828Z"
   },
   {
    "duration": 383,
    "start_time": "2023-05-22T05:22:23.629Z"
   },
   {
    "duration": 5,
    "start_time": "2023-05-22T05:22:24.015Z"
   },
   {
    "duration": 792,
    "start_time": "2023-05-22T05:22:24.021Z"
   },
   {
    "duration": 11,
    "start_time": "2023-05-22T05:22:24.815Z"
   },
   {
    "duration": 472,
    "start_time": "2023-05-22T05:22:24.827Z"
   },
   {
    "duration": 15,
    "start_time": "2023-05-22T05:22:25.301Z"
   },
   {
    "duration": 289,
    "start_time": "2023-05-22T05:25:58.217Z"
   },
   {
    "duration": 342,
    "start_time": "2023-05-22T05:27:14.552Z"
   },
   {
    "duration": 169,
    "start_time": "2023-05-22T05:35:39.880Z"
   },
   {
    "duration": 165,
    "start_time": "2023-05-22T05:36:21.901Z"
   },
   {
    "duration": 1133,
    "start_time": "2023-05-22T05:37:02.907Z"
   },
   {
    "duration": 77,
    "start_time": "2023-05-22T05:37:04.042Z"
   },
   {
    "duration": 11,
    "start_time": "2023-05-22T05:37:04.121Z"
   },
   {
    "duration": 17,
    "start_time": "2023-05-22T05:37:04.134Z"
   },
   {
    "duration": 13,
    "start_time": "2023-05-22T05:37:04.153Z"
   },
   {
    "duration": 30,
    "start_time": "2023-05-22T05:37:04.168Z"
   },
   {
    "duration": 4,
    "start_time": "2023-05-22T05:37:04.200Z"
   },
   {
    "duration": 7,
    "start_time": "2023-05-22T05:37:04.206Z"
   },
   {
    "duration": 7,
    "start_time": "2023-05-22T05:37:04.214Z"
   },
   {
    "duration": 6,
    "start_time": "2023-05-22T05:37:04.224Z"
   },
   {
    "duration": 18,
    "start_time": "2023-05-22T05:37:04.231Z"
   },
   {
    "duration": 12,
    "start_time": "2023-05-22T05:37:04.251Z"
   },
   {
    "duration": 10,
    "start_time": "2023-05-22T05:37:04.265Z"
   },
   {
    "duration": 26,
    "start_time": "2023-05-22T05:37:04.277Z"
   },
   {
    "duration": 14,
    "start_time": "2023-05-22T05:37:04.305Z"
   },
   {
    "duration": 314,
    "start_time": "2023-05-22T05:37:04.320Z"
   },
   {
    "duration": 5,
    "start_time": "2023-05-22T05:37:04.636Z"
   },
   {
    "duration": 297,
    "start_time": "2023-05-22T05:37:04.642Z"
   },
   {
    "duration": 223,
    "start_time": "2023-05-22T05:37:04.941Z"
   },
   {
    "duration": 352,
    "start_time": "2023-05-22T05:37:05.166Z"
   },
   {
    "duration": 202,
    "start_time": "2023-05-22T05:37:05.520Z"
   },
   {
    "duration": 281,
    "start_time": "2023-05-22T05:37:05.724Z"
   },
   {
    "duration": 171,
    "start_time": "2023-05-22T05:37:06.007Z"
   },
   {
    "duration": 169,
    "start_time": "2023-05-22T05:37:06.179Z"
   },
   {
    "duration": 10,
    "start_time": "2023-05-22T05:37:06.350Z"
   },
   {
    "duration": 640,
    "start_time": "2023-05-22T05:37:06.362Z"
   },
   {
    "duration": 325,
    "start_time": "2023-05-22T05:37:07.004Z"
   },
   {
    "duration": 369,
    "start_time": "2023-05-22T05:37:07.332Z"
   },
   {
    "duration": 5,
    "start_time": "2023-05-22T05:37:07.702Z"
   },
   {
    "duration": 692,
    "start_time": "2023-05-22T05:37:07.708Z"
   },
   {
    "duration": 10,
    "start_time": "2023-05-22T05:37:08.401Z"
   },
   {
    "duration": 290,
    "start_time": "2023-05-22T05:37:08.413Z"
   },
   {
    "duration": 14,
    "start_time": "2023-05-22T05:37:08.704Z"
   },
   {
    "duration": 162,
    "start_time": "2023-05-22T05:38:08.884Z"
   },
   {
    "duration": 1273,
    "start_time": "2023-05-22T05:38:16.477Z"
   },
   {
    "duration": 79,
    "start_time": "2023-05-22T05:38:17.752Z"
   },
   {
    "duration": 13,
    "start_time": "2023-05-22T05:38:17.833Z"
   },
   {
    "duration": 11,
    "start_time": "2023-05-22T05:38:17.848Z"
   },
   {
    "duration": 16,
    "start_time": "2023-05-22T05:38:17.861Z"
   },
   {
    "duration": 31,
    "start_time": "2023-05-22T05:38:17.879Z"
   },
   {
    "duration": 5,
    "start_time": "2023-05-22T05:38:17.912Z"
   },
   {
    "duration": 7,
    "start_time": "2023-05-22T05:38:17.919Z"
   },
   {
    "duration": 13,
    "start_time": "2023-05-22T05:38:17.928Z"
   },
   {
    "duration": 5,
    "start_time": "2023-05-22T05:38:17.945Z"
   },
   {
    "duration": 10,
    "start_time": "2023-05-22T05:38:17.953Z"
   },
   {
    "duration": 7,
    "start_time": "2023-05-22T05:38:18.004Z"
   },
   {
    "duration": 8,
    "start_time": "2023-05-22T05:38:18.013Z"
   },
   {
    "duration": 38,
    "start_time": "2023-05-22T05:38:18.022Z"
   },
   {
    "duration": 16,
    "start_time": "2023-05-22T05:38:18.062Z"
   },
   {
    "duration": 341,
    "start_time": "2023-05-22T05:38:18.080Z"
   },
   {
    "duration": 5,
    "start_time": "2023-05-22T05:38:18.423Z"
   },
   {
    "duration": 589,
    "start_time": "2023-05-22T05:38:18.430Z"
   },
   {
    "duration": 406,
    "start_time": "2023-05-22T05:38:19.021Z"
   },
   {
    "duration": 477,
    "start_time": "2023-05-22T05:38:19.429Z"
   },
   {
    "duration": 336,
    "start_time": "2023-05-22T05:38:19.908Z"
   },
   {
    "duration": 277,
    "start_time": "2023-05-22T05:38:20.245Z"
   },
   {
    "duration": 169,
    "start_time": "2023-05-22T05:38:20.524Z"
   },
   {
    "duration": 180,
    "start_time": "2023-05-22T05:38:20.697Z"
   },
   {
    "duration": 18,
    "start_time": "2023-05-22T05:38:20.879Z"
   },
   {
    "duration": 366,
    "start_time": "2023-05-22T05:38:20.899Z"
   },
   {
    "duration": 190,
    "start_time": "2023-05-22T05:38:21.267Z"
   },
   {
    "duration": 4,
    "start_time": "2023-05-22T05:38:21.460Z"
   },
   {
    "duration": 391,
    "start_time": "2023-05-22T05:38:21.466Z"
   },
   {
    "duration": 11,
    "start_time": "2023-05-22T05:38:21.858Z"
   },
   {
    "duration": 178,
    "start_time": "2023-05-22T05:38:21.870Z"
   },
   {
    "duration": 14,
    "start_time": "2023-05-22T05:38:22.050Z"
   },
   {
    "duration": 174,
    "start_time": "2023-05-22T05:38:43.416Z"
   },
   {
    "duration": 157,
    "start_time": "2023-05-22T05:38:52.546Z"
   },
   {
    "duration": 1105,
    "start_time": "2023-05-22T05:39:19.326Z"
   },
   {
    "duration": 76,
    "start_time": "2023-05-22T05:39:20.432Z"
   },
   {
    "duration": 11,
    "start_time": "2023-05-22T05:39:20.510Z"
   },
   {
    "duration": 34,
    "start_time": "2023-05-22T05:39:20.523Z"
   },
   {
    "duration": 17,
    "start_time": "2023-05-22T05:39:20.558Z"
   },
   {
    "duration": 44,
    "start_time": "2023-05-22T05:39:20.576Z"
   },
   {
    "duration": 6,
    "start_time": "2023-05-22T05:39:20.621Z"
   },
   {
    "duration": 28,
    "start_time": "2023-05-22T05:39:20.629Z"
   },
   {
    "duration": 38,
    "start_time": "2023-05-22T05:39:20.658Z"
   },
   {
    "duration": 24,
    "start_time": "2023-05-22T05:39:20.699Z"
   },
   {
    "duration": 27,
    "start_time": "2023-05-22T05:39:20.724Z"
   },
   {
    "duration": 28,
    "start_time": "2023-05-22T05:39:20.753Z"
   },
   {
    "duration": 36,
    "start_time": "2023-05-22T05:39:20.782Z"
   },
   {
    "duration": 58,
    "start_time": "2023-05-22T05:39:20.820Z"
   },
   {
    "duration": 49,
    "start_time": "2023-05-22T05:39:20.880Z"
   },
   {
    "duration": 284,
    "start_time": "2023-05-22T05:39:20.930Z"
   },
   {
    "duration": 4,
    "start_time": "2023-05-22T05:39:21.216Z"
   },
   {
    "duration": 293,
    "start_time": "2023-05-22T05:39:21.222Z"
   },
   {
    "duration": 195,
    "start_time": "2023-05-22T05:39:21.516Z"
   },
   {
    "duration": 331,
    "start_time": "2023-05-22T05:39:21.712Z"
   },
   {
    "duration": 399,
    "start_time": "2023-05-22T05:39:22.098Z"
   },
   {
    "duration": 406,
    "start_time": "2023-05-22T05:39:22.499Z"
   },
   {
    "duration": 313,
    "start_time": "2023-05-22T05:39:22.907Z"
   },
   {
    "duration": 312,
    "start_time": "2023-05-22T05:39:23.221Z"
   },
   {
    "duration": 65,
    "start_time": "2023-05-22T05:39:23.534Z"
   },
   {
    "duration": 312,
    "start_time": "2023-05-22T05:39:23.600Z"
   },
   {
    "duration": 162,
    "start_time": "2023-05-22T05:39:23.913Z"
   },
   {
    "duration": 145,
    "start_time": "2023-05-22T05:39:24.078Z"
   },
   {
    "duration": 4,
    "start_time": "2023-05-22T05:39:24.224Z"
   },
   {
    "duration": 369,
    "start_time": "2023-05-22T05:39:24.230Z"
   },
   {
    "duration": 10,
    "start_time": "2023-05-22T05:39:24.601Z"
   },
   {
    "duration": 156,
    "start_time": "2023-05-22T05:39:24.613Z"
   },
   {
    "duration": 13,
    "start_time": "2023-05-22T05:39:24.771Z"
   },
   {
    "duration": 1010,
    "start_time": "2023-05-22T05:41:25.039Z"
   },
   {
    "duration": 78,
    "start_time": "2023-05-22T05:41:26.051Z"
   },
   {
    "duration": 13,
    "start_time": "2023-05-22T05:41:26.131Z"
   },
   {
    "duration": 12,
    "start_time": "2023-05-22T05:41:26.146Z"
   },
   {
    "duration": 19,
    "start_time": "2023-05-22T05:41:26.161Z"
   },
   {
    "duration": 24,
    "start_time": "2023-05-22T05:41:26.182Z"
   },
   {
    "duration": 4,
    "start_time": "2023-05-22T05:41:26.208Z"
   },
   {
    "duration": 7,
    "start_time": "2023-05-22T05:41:26.214Z"
   },
   {
    "duration": 12,
    "start_time": "2023-05-22T05:41:26.223Z"
   },
   {
    "duration": 10,
    "start_time": "2023-05-22T05:41:26.239Z"
   },
   {
    "duration": 24,
    "start_time": "2023-05-22T05:41:26.251Z"
   },
   {
    "duration": 21,
    "start_time": "2023-05-22T05:41:26.276Z"
   },
   {
    "duration": 5,
    "start_time": "2023-05-22T05:41:26.299Z"
   },
   {
    "duration": 18,
    "start_time": "2023-05-22T05:41:26.306Z"
   },
   {
    "duration": 21,
    "start_time": "2023-05-22T05:41:26.326Z"
   },
   {
    "duration": 368,
    "start_time": "2023-05-22T05:41:26.348Z"
   },
   {
    "duration": 7,
    "start_time": "2023-05-22T05:41:26.718Z"
   },
   {
    "duration": 329,
    "start_time": "2023-05-22T05:41:26.727Z"
   },
   {
    "duration": 223,
    "start_time": "2023-05-22T05:41:27.057Z"
   },
   {
    "duration": 320,
    "start_time": "2023-05-22T05:41:27.282Z"
   },
   {
    "duration": 199,
    "start_time": "2023-05-22T05:41:27.604Z"
   },
   {
    "duration": 298,
    "start_time": "2023-05-22T05:41:27.805Z"
   },
   {
    "duration": 172,
    "start_time": "2023-05-22T05:41:28.104Z"
   },
   {
    "duration": 241,
    "start_time": "2023-05-22T05:41:28.278Z"
   },
   {
    "duration": 10,
    "start_time": "2023-05-22T05:41:28.521Z"
   },
   {
    "duration": 683,
    "start_time": "2023-05-22T05:41:28.533Z"
   },
   {
    "duration": 318,
    "start_time": "2023-05-22T05:41:29.217Z"
   },
   {
    "duration": 302,
    "start_time": "2023-05-22T05:41:29.538Z"
   },
   {
    "duration": 4,
    "start_time": "2023-05-22T05:41:29.897Z"
   },
   {
    "duration": 194,
    "start_time": "2023-05-22T05:41:29.904Z"
   },
   {
    "duration": 0,
    "start_time": "2023-05-22T05:41:30.100Z"
   },
   {
    "duration": 0,
    "start_time": "2023-05-22T05:41:30.102Z"
   },
   {
    "duration": 0,
    "start_time": "2023-05-22T05:41:30.103Z"
   },
   {
    "duration": 156,
    "start_time": "2023-05-22T05:41:45.368Z"
   },
   {
    "duration": 352,
    "start_time": "2023-05-22T05:41:51.659Z"
   },
   {
    "duration": 1116,
    "start_time": "2023-05-22T05:42:05.571Z"
   },
   {
    "duration": 88,
    "start_time": "2023-05-22T05:42:06.689Z"
   },
   {
    "duration": 11,
    "start_time": "2023-05-22T05:42:06.778Z"
   },
   {
    "duration": 75,
    "start_time": "2023-05-22T05:42:06.791Z"
   },
   {
    "duration": 40,
    "start_time": "2023-05-22T05:42:06.868Z"
   },
   {
    "duration": 47,
    "start_time": "2023-05-22T05:42:06.909Z"
   },
   {
    "duration": 15,
    "start_time": "2023-05-22T05:42:06.958Z"
   },
   {
    "duration": 19,
    "start_time": "2023-05-22T05:42:06.975Z"
   },
   {
    "duration": 28,
    "start_time": "2023-05-22T05:42:06.995Z"
   },
   {
    "duration": 19,
    "start_time": "2023-05-22T05:42:07.025Z"
   },
   {
    "duration": 32,
    "start_time": "2023-05-22T05:42:07.045Z"
   },
   {
    "duration": 22,
    "start_time": "2023-05-22T05:42:07.079Z"
   },
   {
    "duration": 27,
    "start_time": "2023-05-22T05:42:07.103Z"
   },
   {
    "duration": 35,
    "start_time": "2023-05-22T05:42:07.132Z"
   },
   {
    "duration": 54,
    "start_time": "2023-05-22T05:42:07.168Z"
   },
   {
    "duration": 307,
    "start_time": "2023-05-22T05:42:07.223Z"
   },
   {
    "duration": 4,
    "start_time": "2023-05-22T05:42:07.532Z"
   },
   {
    "duration": 282,
    "start_time": "2023-05-22T05:42:07.537Z"
   },
   {
    "duration": 194,
    "start_time": "2023-05-22T05:42:07.820Z"
   },
   {
    "duration": 269,
    "start_time": "2023-05-22T05:42:08.015Z"
   },
   {
    "duration": 191,
    "start_time": "2023-05-22T05:42:08.285Z"
   },
   {
    "duration": 314,
    "start_time": "2023-05-22T05:42:08.477Z"
   },
   {
    "duration": 173,
    "start_time": "2023-05-22T05:42:08.797Z"
   },
   {
    "duration": 165,
    "start_time": "2023-05-22T05:42:08.972Z"
   },
   {
    "duration": 10,
    "start_time": "2023-05-22T05:42:09.138Z"
   },
   {
    "duration": 552,
    "start_time": "2023-05-22T05:42:09.149Z"
   },
   {
    "duration": 339,
    "start_time": "2023-05-22T05:42:09.702Z"
   },
   {
    "duration": 319,
    "start_time": "2023-05-22T05:42:10.097Z"
   },
   {
    "duration": 5,
    "start_time": "2023-05-22T05:42:10.417Z"
   },
   {
    "duration": 785,
    "start_time": "2023-05-22T05:42:10.424Z"
   },
   {
    "duration": 10,
    "start_time": "2023-05-22T05:42:11.211Z"
   },
   {
    "duration": 244,
    "start_time": "2023-05-22T05:42:11.223Z"
   },
   {
    "duration": 12,
    "start_time": "2023-05-22T05:42:11.469Z"
   },
   {
    "duration": 150,
    "start_time": "2023-05-22T05:42:55.861Z"
   },
   {
    "duration": 1284,
    "start_time": "2023-05-22T05:43:03.745Z"
   },
   {
    "duration": 96,
    "start_time": "2023-05-22T05:43:05.031Z"
   },
   {
    "duration": 18,
    "start_time": "2023-05-22T05:43:05.129Z"
   },
   {
    "duration": 52,
    "start_time": "2023-05-22T05:43:05.150Z"
   },
   {
    "duration": 18,
    "start_time": "2023-05-22T05:43:05.204Z"
   },
   {
    "duration": 81,
    "start_time": "2023-05-22T05:43:05.224Z"
   },
   {
    "duration": 11,
    "start_time": "2023-05-22T05:43:05.307Z"
   },
   {
    "duration": 10,
    "start_time": "2023-05-22T05:43:05.319Z"
   },
   {
    "duration": 14,
    "start_time": "2023-05-22T05:43:05.331Z"
   },
   {
    "duration": 51,
    "start_time": "2023-05-22T05:43:05.347Z"
   },
   {
    "duration": 8,
    "start_time": "2023-05-22T05:43:05.401Z"
   },
   {
    "duration": 30,
    "start_time": "2023-05-22T05:43:05.411Z"
   },
   {
    "duration": 54,
    "start_time": "2023-05-22T05:43:05.443Z"
   },
   {
    "duration": 51,
    "start_time": "2023-05-22T05:43:05.499Z"
   },
   {
    "duration": 53,
    "start_time": "2023-05-22T05:43:05.552Z"
   },
   {
    "duration": 694,
    "start_time": "2023-05-22T05:43:05.607Z"
   },
   {
    "duration": 4,
    "start_time": "2023-05-22T05:43:06.303Z"
   },
   {
    "duration": 512,
    "start_time": "2023-05-22T05:43:06.309Z"
   },
   {
    "duration": 211,
    "start_time": "2023-05-22T05:43:06.823Z"
   },
   {
    "duration": 318,
    "start_time": "2023-05-22T05:43:07.035Z"
   },
   {
    "duration": 226,
    "start_time": "2023-05-22T05:43:07.355Z"
   },
   {
    "duration": 303,
    "start_time": "2023-05-22T05:43:07.583Z"
   },
   {
    "duration": 164,
    "start_time": "2023-05-22T05:43:07.888Z"
   },
   {
    "duration": 168,
    "start_time": "2023-05-22T05:43:08.054Z"
   },
   {
    "duration": 10,
    "start_time": "2023-05-22T05:43:08.224Z"
   },
   {
    "duration": 334,
    "start_time": "2023-05-22T05:43:08.235Z"
   },
   {
    "duration": 179,
    "start_time": "2023-05-22T05:43:08.570Z"
   },
   {
    "duration": 166,
    "start_time": "2023-05-22T05:43:08.752Z"
   },
   {
    "duration": 4,
    "start_time": "2023-05-22T05:43:08.919Z"
   },
   {
    "duration": 116,
    "start_time": "2023-05-22T05:43:08.924Z"
   },
   {
    "duration": 0,
    "start_time": "2023-05-22T05:43:09.041Z"
   },
   {
    "duration": 0,
    "start_time": "2023-05-22T05:43:09.042Z"
   },
   {
    "duration": 0,
    "start_time": "2023-05-22T05:43:09.044Z"
   },
   {
    "duration": 10,
    "start_time": "2023-05-22T05:44:01.208Z"
   },
   {
    "duration": 13,
    "start_time": "2023-05-22T05:44:15.551Z"
   },
   {
    "duration": 170,
    "start_time": "2023-05-22T05:44:29.452Z"
   },
   {
    "duration": 353,
    "start_time": "2023-05-22T05:46:08.171Z"
   },
   {
    "duration": 1305,
    "start_time": "2023-05-22T05:46:34.998Z"
   },
   {
    "duration": 80,
    "start_time": "2023-05-22T05:46:36.305Z"
   },
   {
    "duration": 13,
    "start_time": "2023-05-22T05:46:36.387Z"
   },
   {
    "duration": 23,
    "start_time": "2023-05-22T05:46:36.403Z"
   },
   {
    "duration": 19,
    "start_time": "2023-05-22T05:46:36.429Z"
   },
   {
    "duration": 32,
    "start_time": "2023-05-22T05:46:36.449Z"
   },
   {
    "duration": 15,
    "start_time": "2023-05-22T05:46:36.482Z"
   },
   {
    "duration": 5,
    "start_time": "2023-05-22T05:46:36.499Z"
   },
   {
    "duration": 10,
    "start_time": "2023-05-22T05:46:36.506Z"
   },
   {
    "duration": 17,
    "start_time": "2023-05-22T05:46:36.519Z"
   },
   {
    "duration": 33,
    "start_time": "2023-05-22T05:46:36.539Z"
   },
   {
    "duration": 27,
    "start_time": "2023-05-22T05:46:36.574Z"
   },
   {
    "duration": 9,
    "start_time": "2023-05-22T05:46:36.605Z"
   },
   {
    "duration": 29,
    "start_time": "2023-05-22T05:46:36.617Z"
   },
   {
    "duration": 29,
    "start_time": "2023-05-22T05:46:36.649Z"
   },
   {
    "duration": 627,
    "start_time": "2023-05-22T05:46:36.680Z"
   },
   {
    "duration": 7,
    "start_time": "2023-05-22T05:46:37.309Z"
   },
   {
    "duration": 686,
    "start_time": "2023-05-22T05:46:37.318Z"
   },
   {
    "duration": 491,
    "start_time": "2023-05-22T05:46:38.006Z"
   },
   {
    "duration": 517,
    "start_time": "2023-05-22T05:46:38.499Z"
   },
   {
    "duration": 253,
    "start_time": "2023-05-22T05:46:39.018Z"
   },
   {
    "duration": 347,
    "start_time": "2023-05-22T05:46:39.273Z"
   },
   {
    "duration": 193,
    "start_time": "2023-05-22T05:46:39.622Z"
   },
   {
    "duration": 205,
    "start_time": "2023-05-22T05:46:39.818Z"
   },
   {
    "duration": 11,
    "start_time": "2023-05-22T05:46:40.025Z"
   },
   {
    "duration": 392,
    "start_time": "2023-05-22T05:46:40.038Z"
   },
   {
    "duration": 194,
    "start_time": "2023-05-22T05:46:40.432Z"
   },
   {
    "duration": 188,
    "start_time": "2023-05-22T05:46:40.629Z"
   },
   {
    "duration": 5,
    "start_time": "2023-05-22T05:46:40.819Z"
   },
   {
    "duration": 124,
    "start_time": "2023-05-22T05:46:40.826Z"
   },
   {
    "duration": 0,
    "start_time": "2023-05-22T05:46:40.952Z"
   },
   {
    "duration": 0,
    "start_time": "2023-05-22T05:46:40.953Z"
   },
   {
    "duration": 0,
    "start_time": "2023-05-22T05:46:40.954Z"
   },
   {
    "duration": 0,
    "start_time": "2023-05-22T05:46:40.956Z"
   },
   {
    "duration": 0,
    "start_time": "2023-05-22T05:46:40.957Z"
   },
   {
    "duration": 337,
    "start_time": "2023-05-22T05:48:12.668Z"
   },
   {
    "duration": 1143,
    "start_time": "2023-05-22T05:48:18.652Z"
   },
   {
    "duration": 79,
    "start_time": "2023-05-22T05:48:19.797Z"
   },
   {
    "duration": 12,
    "start_time": "2023-05-22T05:48:19.878Z"
   },
   {
    "duration": 20,
    "start_time": "2023-05-22T05:48:19.892Z"
   },
   {
    "duration": 15,
    "start_time": "2023-05-22T05:48:19.914Z"
   },
   {
    "duration": 28,
    "start_time": "2023-05-22T05:48:19.931Z"
   },
   {
    "duration": 7,
    "start_time": "2023-05-22T05:48:19.961Z"
   },
   {
    "duration": 7,
    "start_time": "2023-05-22T05:48:19.969Z"
   },
   {
    "duration": 23,
    "start_time": "2023-05-22T05:48:19.978Z"
   },
   {
    "duration": 6,
    "start_time": "2023-05-22T05:48:20.005Z"
   },
   {
    "duration": 23,
    "start_time": "2023-05-22T05:48:20.014Z"
   },
   {
    "duration": 11,
    "start_time": "2023-05-22T05:48:20.038Z"
   },
   {
    "duration": 4,
    "start_time": "2023-05-22T05:48:20.050Z"
   },
   {
    "duration": 18,
    "start_time": "2023-05-22T05:48:20.056Z"
   },
   {
    "duration": 35,
    "start_time": "2023-05-22T05:48:20.075Z"
   },
   {
    "duration": 510,
    "start_time": "2023-05-22T05:48:20.112Z"
   },
   {
    "duration": 6,
    "start_time": "2023-05-22T05:48:20.623Z"
   },
   {
    "duration": 667,
    "start_time": "2023-05-22T05:48:20.631Z"
   },
   {
    "duration": 432,
    "start_time": "2023-05-22T05:48:21.300Z"
   },
   {
    "duration": 485,
    "start_time": "2023-05-22T05:48:21.733Z"
   },
   {
    "duration": 327,
    "start_time": "2023-05-22T05:48:22.220Z"
   },
   {
    "duration": 297,
    "start_time": "2023-05-22T05:48:22.549Z"
   },
   {
    "duration": 177,
    "start_time": "2023-05-22T05:48:22.848Z"
   },
   {
    "duration": 174,
    "start_time": "2023-05-22T05:48:23.026Z"
   },
   {
    "duration": 10,
    "start_time": "2023-05-22T05:48:23.202Z"
   },
   {
    "duration": 365,
    "start_time": "2023-05-22T05:48:23.213Z"
   },
   {
    "duration": 196,
    "start_time": "2023-05-22T05:48:23.580Z"
   },
   {
    "duration": 195,
    "start_time": "2023-05-22T05:48:23.781Z"
   },
   {
    "duration": 4,
    "start_time": "2023-05-22T05:48:23.978Z"
   },
   {
    "duration": 383,
    "start_time": "2023-05-22T05:48:23.984Z"
   },
   {
    "duration": 10,
    "start_time": "2023-05-22T05:48:24.369Z"
   },
   {
    "duration": 185,
    "start_time": "2023-05-22T05:48:24.381Z"
   },
   {
    "duration": 14,
    "start_time": "2023-05-22T05:48:24.568Z"
   },
   {
    "duration": 58,
    "start_time": "2023-05-22T05:52:32.139Z"
   },
   {
    "duration": 389,
    "start_time": "2023-05-22T05:52:46.723Z"
   },
   {
    "duration": 332,
    "start_time": "2023-05-22T05:52:56.138Z"
   },
   {
    "duration": 12,
    "start_time": "2023-05-22T05:54:13.674Z"
   },
   {
    "duration": 11,
    "start_time": "2023-05-22T05:54:20.944Z"
   },
   {
    "duration": 11,
    "start_time": "2023-05-22T05:54:27.734Z"
   },
   {
    "duration": 10,
    "start_time": "2023-05-22T05:54:50.856Z"
   },
   {
    "duration": 153,
    "start_time": "2023-05-22T05:57:00.314Z"
   },
   {
    "duration": 367,
    "start_time": "2023-05-22T05:58:38.171Z"
   },
   {
    "duration": 1192,
    "start_time": "2023-05-22T06:29:37.783Z"
   },
   {
    "duration": 75,
    "start_time": "2023-05-22T06:29:38.977Z"
   },
   {
    "duration": 11,
    "start_time": "2023-05-22T06:29:39.054Z"
   },
   {
    "duration": 11,
    "start_time": "2023-05-22T06:29:39.067Z"
   },
   {
    "duration": 10,
    "start_time": "2023-05-22T06:29:39.080Z"
   },
   {
    "duration": 21,
    "start_time": "2023-05-22T06:29:39.092Z"
   },
   {
    "duration": 4,
    "start_time": "2023-05-22T06:29:39.115Z"
   },
   {
    "duration": 11,
    "start_time": "2023-05-22T06:29:39.120Z"
   },
   {
    "duration": 8,
    "start_time": "2023-05-22T06:29:39.133Z"
   },
   {
    "duration": 7,
    "start_time": "2023-05-22T06:29:39.144Z"
   },
   {
    "duration": 9,
    "start_time": "2023-05-22T06:29:39.153Z"
   },
   {
    "duration": 6,
    "start_time": "2023-05-22T06:29:39.164Z"
   },
   {
    "duration": 26,
    "start_time": "2023-05-22T06:29:39.171Z"
   },
   {
    "duration": 19,
    "start_time": "2023-05-22T06:29:39.199Z"
   },
   {
    "duration": 21,
    "start_time": "2023-05-22T06:29:39.220Z"
   },
   {
    "duration": 315,
    "start_time": "2023-05-22T06:29:39.243Z"
   },
   {
    "duration": 5,
    "start_time": "2023-05-22T06:29:39.560Z"
   },
   {
    "duration": 303,
    "start_time": "2023-05-22T06:29:39.566Z"
   },
   {
    "duration": 218,
    "start_time": "2023-05-22T06:29:39.870Z"
   },
   {
    "duration": 356,
    "start_time": "2023-05-22T06:29:40.089Z"
   },
   {
    "duration": 205,
    "start_time": "2023-05-22T06:29:40.447Z"
   },
   {
    "duration": 296,
    "start_time": "2023-05-22T06:29:40.653Z"
   },
   {
    "duration": 211,
    "start_time": "2023-05-22T06:29:40.996Z"
   },
   {
    "duration": 305,
    "start_time": "2023-05-22T06:29:41.209Z"
   },
   {
    "duration": 11,
    "start_time": "2023-05-22T06:29:41.515Z"
   },
   {
    "duration": 695,
    "start_time": "2023-05-22T06:29:41.527Z"
   },
   {
    "duration": 312,
    "start_time": "2023-05-22T06:29:42.223Z"
   },
   {
    "duration": 305,
    "start_time": "2023-05-22T06:29:42.538Z"
   },
   {
    "duration": 4,
    "start_time": "2023-05-22T06:29:42.898Z"
   },
   {
    "duration": 410,
    "start_time": "2023-05-22T06:29:42.903Z"
   },
   {
    "duration": 9,
    "start_time": "2023-05-22T06:29:43.315Z"
   },
   {
    "duration": 185,
    "start_time": "2023-05-22T06:29:43.328Z"
   },
   {
    "duration": 13,
    "start_time": "2023-05-22T06:29:43.514Z"
   },
   {
    "duration": 6,
    "start_time": "2023-05-22T06:35:09.640Z"
   },
   {
    "duration": 379,
    "start_time": "2023-05-22T06:35:53.952Z"
   },
   {
    "duration": 1484,
    "start_time": "2023-05-22T06:36:02.455Z"
   },
   {
    "duration": 157,
    "start_time": "2023-05-22T06:36:03.941Z"
   },
   {
    "duration": 17,
    "start_time": "2023-05-22T06:36:04.100Z"
   },
   {
    "duration": 11,
    "start_time": "2023-05-22T06:36:04.120Z"
   },
   {
    "duration": 68,
    "start_time": "2023-05-22T06:36:04.133Z"
   },
   {
    "duration": 33,
    "start_time": "2023-05-22T06:36:04.203Z"
   },
   {
    "duration": 59,
    "start_time": "2023-05-22T06:36:04.238Z"
   },
   {
    "duration": 15,
    "start_time": "2023-05-22T06:36:04.300Z"
   },
   {
    "duration": 9,
    "start_time": "2023-05-22T06:36:04.317Z"
   },
   {
    "duration": 7,
    "start_time": "2023-05-22T06:36:04.330Z"
   },
   {
    "duration": 64,
    "start_time": "2023-05-22T06:36:04.339Z"
   },
   {
    "duration": 8,
    "start_time": "2023-05-22T06:36:04.405Z"
   },
   {
    "duration": 9,
    "start_time": "2023-05-22T06:36:04.415Z"
   },
   {
    "duration": 76,
    "start_time": "2023-05-22T06:36:04.426Z"
   },
   {
    "duration": 22,
    "start_time": "2023-05-22T06:36:04.504Z"
   },
   {
    "duration": 702,
    "start_time": "2023-05-22T06:36:04.529Z"
   },
   {
    "duration": 5,
    "start_time": "2023-05-22T06:36:05.233Z"
   },
   {
    "duration": 763,
    "start_time": "2023-05-22T06:36:05.239Z"
   },
   {
    "duration": 414,
    "start_time": "2023-05-22T06:36:06.004Z"
   },
   {
    "duration": 525,
    "start_time": "2023-05-22T06:36:06.420Z"
   },
   {
    "duration": 411,
    "start_time": "2023-05-22T06:36:06.998Z"
   },
   {
    "duration": 370,
    "start_time": "2023-05-22T06:36:07.411Z"
   },
   {
    "duration": 176,
    "start_time": "2023-05-22T06:36:07.783Z"
   },
   {
    "duration": 358,
    "start_time": "2023-05-22T06:36:07.962Z"
   },
   {
    "duration": 12,
    "start_time": "2023-05-22T06:36:08.322Z"
   },
   {
    "duration": 365,
    "start_time": "2023-05-22T06:36:08.336Z"
   },
   {
    "duration": 175,
    "start_time": "2023-05-22T06:36:08.704Z"
   },
   {
    "duration": 157,
    "start_time": "2023-05-22T06:36:08.881Z"
   },
   {
    "duration": 4,
    "start_time": "2023-05-22T06:36:09.040Z"
   },
   {
    "duration": 377,
    "start_time": "2023-05-22T06:36:09.046Z"
   },
   {
    "duration": 382,
    "start_time": "2023-05-22T06:36:09.425Z"
   },
   {
    "duration": 12,
    "start_time": "2023-05-22T06:36:09.809Z"
   },
   {
    "duration": 189,
    "start_time": "2023-05-22T06:36:09.822Z"
   },
   {
    "duration": 17,
    "start_time": "2023-05-22T06:36:10.013Z"
   },
   {
    "duration": 1085,
    "start_time": "2023-05-22T06:37:08.029Z"
   },
   {
    "duration": 76,
    "start_time": "2023-05-22T06:37:09.116Z"
   },
   {
    "duration": 15,
    "start_time": "2023-05-22T06:37:09.194Z"
   },
   {
    "duration": 10,
    "start_time": "2023-05-22T06:37:09.211Z"
   },
   {
    "duration": 21,
    "start_time": "2023-05-22T06:37:09.223Z"
   },
   {
    "duration": 34,
    "start_time": "2023-05-22T06:37:09.246Z"
   },
   {
    "duration": 4,
    "start_time": "2023-05-22T06:37:09.282Z"
   },
   {
    "duration": 11,
    "start_time": "2023-05-22T06:37:09.287Z"
   },
   {
    "duration": 26,
    "start_time": "2023-05-22T06:37:09.300Z"
   },
   {
    "duration": 15,
    "start_time": "2023-05-22T06:37:09.329Z"
   },
   {
    "duration": 25,
    "start_time": "2023-05-22T06:37:09.345Z"
   },
   {
    "duration": 14,
    "start_time": "2023-05-22T06:37:09.372Z"
   },
   {
    "duration": 8,
    "start_time": "2023-05-22T06:37:09.388Z"
   },
   {
    "duration": 25,
    "start_time": "2023-05-22T06:37:09.397Z"
   },
   {
    "duration": 20,
    "start_time": "2023-05-22T06:37:09.424Z"
   },
   {
    "duration": 574,
    "start_time": "2023-05-22T06:37:09.445Z"
   },
   {
    "duration": 4,
    "start_time": "2023-05-22T06:37:10.021Z"
   },
   {
    "duration": 614,
    "start_time": "2023-05-22T06:37:10.027Z"
   },
   {
    "duration": 414,
    "start_time": "2023-05-22T06:37:10.696Z"
   },
   {
    "duration": 308,
    "start_time": "2023-05-22T06:37:11.112Z"
   },
   {
    "duration": 182,
    "start_time": "2023-05-22T06:37:11.422Z"
   },
   {
    "duration": 301,
    "start_time": "2023-05-22T06:37:11.605Z"
   },
   {
    "duration": 163,
    "start_time": "2023-05-22T06:37:11.908Z"
   },
   {
    "duration": 156,
    "start_time": "2023-05-22T06:37:12.072Z"
   },
   {
    "duration": 11,
    "start_time": "2023-05-22T06:37:12.229Z"
   },
   {
    "duration": 331,
    "start_time": "2023-05-22T06:37:12.241Z"
   },
   {
    "duration": 158,
    "start_time": "2023-05-22T06:37:12.573Z"
   },
   {
    "duration": 153,
    "start_time": "2023-05-22T06:37:12.734Z"
   },
   {
    "duration": 10,
    "start_time": "2023-05-22T06:37:12.889Z"
   },
   {
    "duration": 105,
    "start_time": "2023-05-22T06:37:12.900Z"
   },
   {
    "duration": 0,
    "start_time": "2023-05-22T06:37:13.007Z"
   },
   {
    "duration": 0,
    "start_time": "2023-05-22T06:37:13.008Z"
   },
   {
    "duration": 0,
    "start_time": "2023-05-22T06:37:13.009Z"
   },
   {
    "duration": 360,
    "start_time": "2023-05-22T06:37:37.295Z"
   },
   {
    "duration": 283,
    "start_time": "2023-05-22T06:37:59.333Z"
   },
   {
    "duration": 1202,
    "start_time": "2023-05-22T06:38:06.131Z"
   },
   {
    "duration": 94,
    "start_time": "2023-05-22T06:38:07.336Z"
   },
   {
    "duration": 12,
    "start_time": "2023-05-22T06:38:07.432Z"
   },
   {
    "duration": 54,
    "start_time": "2023-05-22T06:38:07.446Z"
   },
   {
    "duration": 21,
    "start_time": "2023-05-22T06:38:07.501Z"
   },
   {
    "duration": 83,
    "start_time": "2023-05-22T06:38:07.524Z"
   },
   {
    "duration": 4,
    "start_time": "2023-05-22T06:38:07.608Z"
   },
   {
    "duration": 84,
    "start_time": "2023-05-22T06:38:07.614Z"
   },
   {
    "duration": 6,
    "start_time": "2023-05-22T06:38:07.699Z"
   },
   {
    "duration": 23,
    "start_time": "2023-05-22T06:38:07.707Z"
   },
   {
    "duration": 31,
    "start_time": "2023-05-22T06:38:07.731Z"
   },
   {
    "duration": 6,
    "start_time": "2023-05-22T06:38:07.797Z"
   },
   {
    "duration": 25,
    "start_time": "2023-05-22T06:38:07.804Z"
   },
   {
    "duration": 73,
    "start_time": "2023-05-22T06:38:07.830Z"
   },
   {
    "duration": 15,
    "start_time": "2023-05-22T06:38:07.904Z"
   },
   {
    "duration": 589,
    "start_time": "2023-05-22T06:38:07.920Z"
   },
   {
    "duration": 4,
    "start_time": "2023-05-22T06:38:08.511Z"
   },
   {
    "duration": 464,
    "start_time": "2023-05-22T06:38:08.517Z"
   },
   {
    "duration": 214,
    "start_time": "2023-05-22T06:38:08.983Z"
   },
   {
    "duration": 307,
    "start_time": "2023-05-22T06:38:09.199Z"
   },
   {
    "duration": 200,
    "start_time": "2023-05-22T06:38:09.507Z"
   },
   {
    "duration": 304,
    "start_time": "2023-05-22T06:38:09.710Z"
   },
   {
    "duration": 176,
    "start_time": "2023-05-22T06:38:10.016Z"
   },
   {
    "duration": 161,
    "start_time": "2023-05-22T06:38:10.197Z"
   },
   {
    "duration": 10,
    "start_time": "2023-05-22T06:38:10.361Z"
   },
   {
    "duration": 327,
    "start_time": "2023-05-22T06:38:10.373Z"
   },
   {
    "duration": 166,
    "start_time": "2023-05-22T06:38:10.701Z"
   },
   {
    "duration": 153,
    "start_time": "2023-05-22T06:38:10.870Z"
   },
   {
    "duration": 4,
    "start_time": "2023-05-22T06:38:11.025Z"
   },
   {
    "duration": 120,
    "start_time": "2023-05-22T06:38:11.031Z"
   },
   {
    "duration": 0,
    "start_time": "2023-05-22T06:38:11.152Z"
   },
   {
    "duration": 0,
    "start_time": "2023-05-22T06:38:11.154Z"
   },
   {
    "duration": 0,
    "start_time": "2023-05-22T06:38:11.155Z"
   },
   {
    "duration": 152,
    "start_time": "2023-05-22T06:38:22.438Z"
   },
   {
    "duration": 1110,
    "start_time": "2023-05-22T06:38:28.983Z"
   },
   {
    "duration": 79,
    "start_time": "2023-05-22T06:38:30.095Z"
   },
   {
    "duration": 16,
    "start_time": "2023-05-22T06:38:30.176Z"
   },
   {
    "duration": 10,
    "start_time": "2023-05-22T06:38:30.196Z"
   },
   {
    "duration": 28,
    "start_time": "2023-05-22T06:38:30.210Z"
   },
   {
    "duration": 43,
    "start_time": "2023-05-22T06:38:30.240Z"
   },
   {
    "duration": 22,
    "start_time": "2023-05-22T06:38:30.285Z"
   },
   {
    "duration": 13,
    "start_time": "2023-05-22T06:38:30.309Z"
   },
   {
    "duration": 49,
    "start_time": "2023-05-22T06:38:30.324Z"
   },
   {
    "duration": 15,
    "start_time": "2023-05-22T06:38:30.376Z"
   },
   {
    "duration": 26,
    "start_time": "2023-05-22T06:38:30.393Z"
   },
   {
    "duration": 21,
    "start_time": "2023-05-22T06:38:30.421Z"
   },
   {
    "duration": 15,
    "start_time": "2023-05-22T06:38:30.445Z"
   },
   {
    "duration": 39,
    "start_time": "2023-05-22T06:38:30.462Z"
   },
   {
    "duration": 37,
    "start_time": "2023-05-22T06:38:30.503Z"
   },
   {
    "duration": 341,
    "start_time": "2023-05-22T06:38:30.542Z"
   },
   {
    "duration": 13,
    "start_time": "2023-05-22T06:38:30.885Z"
   },
   {
    "duration": 644,
    "start_time": "2023-05-22T06:38:30.900Z"
   },
   {
    "duration": 493,
    "start_time": "2023-05-22T06:38:31.547Z"
   },
   {
    "duration": 570,
    "start_time": "2023-05-22T06:38:32.042Z"
   },
   {
    "duration": 398,
    "start_time": "2023-05-22T06:38:32.614Z"
   },
   {
    "duration": 289,
    "start_time": "2023-05-22T06:38:33.014Z"
   },
   {
    "duration": 167,
    "start_time": "2023-05-22T06:38:33.304Z"
   },
   {
    "duration": 158,
    "start_time": "2023-05-22T06:38:33.473Z"
   },
   {
    "duration": 9,
    "start_time": "2023-05-22T06:38:33.633Z"
   },
   {
    "duration": 334,
    "start_time": "2023-05-22T06:38:33.643Z"
   },
   {
    "duration": 158,
    "start_time": "2023-05-22T06:38:33.979Z"
   },
   {
    "duration": 170,
    "start_time": "2023-05-22T06:38:34.140Z"
   },
   {
    "duration": 4,
    "start_time": "2023-05-22T06:38:34.312Z"
   },
   {
    "duration": 231,
    "start_time": "2023-05-22T06:38:34.318Z"
   },
   {
    "duration": 0,
    "start_time": "2023-05-22T06:38:34.552Z"
   },
   {
    "duration": 0,
    "start_time": "2023-05-22T06:38:34.554Z"
   },
   {
    "duration": 0,
    "start_time": "2023-05-22T06:38:34.555Z"
   },
   {
    "duration": 151,
    "start_time": "2023-05-22T06:38:46.591Z"
   },
   {
    "duration": 77,
    "start_time": "2023-05-22T06:38:56.107Z"
   },
   {
    "duration": 1343,
    "start_time": "2023-05-22T06:39:16.578Z"
   },
   {
    "duration": 104,
    "start_time": "2023-05-22T06:39:17.923Z"
   },
   {
    "duration": 10,
    "start_time": "2023-05-22T06:39:18.029Z"
   },
   {
    "duration": 11,
    "start_time": "2023-05-22T06:39:18.041Z"
   },
   {
    "duration": 51,
    "start_time": "2023-05-22T06:39:18.054Z"
   },
   {
    "duration": 23,
    "start_time": "2023-05-22T06:39:18.106Z"
   },
   {
    "duration": 4,
    "start_time": "2023-05-22T06:39:18.131Z"
   },
   {
    "duration": 5,
    "start_time": "2023-05-22T06:39:18.137Z"
   },
   {
    "duration": 58,
    "start_time": "2023-05-22T06:39:18.143Z"
   },
   {
    "duration": 4,
    "start_time": "2023-05-22T06:39:18.204Z"
   },
   {
    "duration": 10,
    "start_time": "2023-05-22T06:39:18.210Z"
   },
   {
    "duration": 7,
    "start_time": "2023-05-22T06:39:18.221Z"
   },
   {
    "duration": 4,
    "start_time": "2023-05-22T06:39:18.230Z"
   },
   {
    "duration": 72,
    "start_time": "2023-05-22T06:39:18.235Z"
   },
   {
    "duration": 14,
    "start_time": "2023-05-22T06:39:18.308Z"
   },
   {
    "duration": 590,
    "start_time": "2023-05-22T06:39:18.323Z"
   },
   {
    "duration": 5,
    "start_time": "2023-05-22T06:39:18.914Z"
   },
   {
    "duration": 452,
    "start_time": "2023-05-22T06:39:18.920Z"
   },
   {
    "duration": 214,
    "start_time": "2023-05-22T06:39:19.377Z"
   },
   {
    "duration": 302,
    "start_time": "2023-05-22T06:39:19.597Z"
   },
   {
    "duration": 192,
    "start_time": "2023-05-22T06:39:19.900Z"
   },
   {
    "duration": 294,
    "start_time": "2023-05-22T06:39:20.094Z"
   },
   {
    "duration": 170,
    "start_time": "2023-05-22T06:39:20.389Z"
   },
   {
    "duration": 165,
    "start_time": "2023-05-22T06:39:20.561Z"
   },
   {
    "duration": 9,
    "start_time": "2023-05-22T06:39:20.728Z"
   },
   {
    "duration": 330,
    "start_time": "2023-05-22T06:39:20.739Z"
   },
   {
    "duration": 163,
    "start_time": "2023-05-22T06:39:21.071Z"
   },
   {
    "duration": 149,
    "start_time": "2023-05-22T06:39:21.237Z"
   },
   {
    "duration": 11,
    "start_time": "2023-05-22T06:39:21.388Z"
   },
   {
    "duration": 358,
    "start_time": "2023-05-22T06:39:21.401Z"
   },
   {
    "duration": 10,
    "start_time": "2023-05-22T06:39:21.761Z"
   },
   {
    "duration": 155,
    "start_time": "2023-05-22T06:39:21.773Z"
   },
   {
    "duration": 12,
    "start_time": "2023-05-22T06:39:21.930Z"
   },
   {
    "duration": 310,
    "start_time": "2023-05-22T06:40:28.655Z"
   },
   {
    "duration": 2043,
    "start_time": "2023-05-22T06:40:34.775Z"
   },
   {
    "duration": 106,
    "start_time": "2023-05-22T06:40:36.821Z"
   },
   {
    "duration": 14,
    "start_time": "2023-05-22T06:40:36.929Z"
   },
   {
    "duration": 52,
    "start_time": "2023-05-22T06:40:36.946Z"
   },
   {
    "duration": 17,
    "start_time": "2023-05-22T06:40:37.000Z"
   },
   {
    "duration": 78,
    "start_time": "2023-05-22T06:40:37.019Z"
   },
   {
    "duration": 5,
    "start_time": "2023-05-22T06:40:37.099Z"
   },
   {
    "duration": 14,
    "start_time": "2023-05-22T06:40:37.106Z"
   },
   {
    "duration": 10,
    "start_time": "2023-05-22T06:40:37.122Z"
   },
   {
    "duration": 5,
    "start_time": "2023-05-22T06:40:37.134Z"
   },
   {
    "duration": 60,
    "start_time": "2023-05-22T06:40:37.140Z"
   },
   {
    "duration": 6,
    "start_time": "2023-05-22T06:40:37.202Z"
   },
   {
    "duration": 9,
    "start_time": "2023-05-22T06:40:37.210Z"
   },
   {
    "duration": 23,
    "start_time": "2023-05-22T06:40:37.220Z"
   },
   {
    "duration": 64,
    "start_time": "2023-05-22T06:40:37.245Z"
   },
   {
    "duration": 600,
    "start_time": "2023-05-22T06:40:37.310Z"
   },
   {
    "duration": 5,
    "start_time": "2023-05-22T06:40:37.911Z"
   },
   {
    "duration": 634,
    "start_time": "2023-05-22T06:40:37.918Z"
   },
   {
    "duration": 234,
    "start_time": "2023-05-22T06:40:38.554Z"
   },
   {
    "duration": 301,
    "start_time": "2023-05-22T06:40:38.790Z"
   },
   {
    "duration": 203,
    "start_time": "2023-05-22T06:40:39.092Z"
   },
   {
    "duration": 306,
    "start_time": "2023-05-22T06:40:39.296Z"
   },
   {
    "duration": 170,
    "start_time": "2023-05-22T06:40:39.603Z"
   },
   {
    "duration": 171,
    "start_time": "2023-05-22T06:40:39.775Z"
   },
   {
    "duration": 10,
    "start_time": "2023-05-22T06:40:39.948Z"
   },
   {
    "duration": 334,
    "start_time": "2023-05-22T06:40:39.960Z"
   },
   {
    "duration": 183,
    "start_time": "2023-05-22T06:40:40.296Z"
   },
   {
    "duration": 154,
    "start_time": "2023-05-22T06:40:40.482Z"
   },
   {
    "duration": 4,
    "start_time": "2023-05-22T06:40:40.638Z"
   },
   {
    "duration": 260,
    "start_time": "2023-05-22T06:40:40.643Z"
   },
   {
    "duration": 0,
    "start_time": "2023-05-22T06:40:40.904Z"
   },
   {
    "duration": 0,
    "start_time": "2023-05-22T06:40:40.906Z"
   },
   {
    "duration": 0,
    "start_time": "2023-05-22T06:40:40.907Z"
   },
   {
    "duration": 2685,
    "start_time": "2023-05-22T06:41:33.845Z"
   },
   {
    "duration": 79,
    "start_time": "2023-05-22T06:41:36.532Z"
   },
   {
    "duration": 11,
    "start_time": "2023-05-22T06:41:36.612Z"
   },
   {
    "duration": 9,
    "start_time": "2023-05-22T06:41:36.625Z"
   },
   {
    "duration": 29,
    "start_time": "2023-05-22T06:41:36.635Z"
   },
   {
    "duration": 36,
    "start_time": "2023-05-22T06:41:36.666Z"
   },
   {
    "duration": 5,
    "start_time": "2023-05-22T06:41:36.704Z"
   },
   {
    "duration": 11,
    "start_time": "2023-05-22T06:41:36.712Z"
   },
   {
    "duration": 42,
    "start_time": "2023-05-22T06:41:36.725Z"
   },
   {
    "duration": 14,
    "start_time": "2023-05-22T06:41:36.771Z"
   },
   {
    "duration": 23,
    "start_time": "2023-05-22T06:41:36.787Z"
   },
   {
    "duration": 21,
    "start_time": "2023-05-22T06:41:36.812Z"
   },
   {
    "duration": 19,
    "start_time": "2023-05-22T06:41:36.835Z"
   },
   {
    "duration": 28,
    "start_time": "2023-05-22T06:41:36.856Z"
   },
   {
    "duration": 19,
    "start_time": "2023-05-22T06:41:36.886Z"
   },
   {
    "duration": 322,
    "start_time": "2023-05-22T06:41:36.907Z"
   },
   {
    "duration": 4,
    "start_time": "2023-05-22T06:41:37.231Z"
   },
   {
    "duration": 312,
    "start_time": "2023-05-22T06:41:37.237Z"
   },
   {
    "duration": 195,
    "start_time": "2023-05-22T06:41:37.551Z"
   },
   {
    "duration": 289,
    "start_time": "2023-05-22T06:41:37.748Z"
   },
   {
    "duration": 197,
    "start_time": "2023-05-22T06:41:38.039Z"
   },
   {
    "duration": 273,
    "start_time": "2023-05-22T06:41:38.238Z"
   },
   {
    "duration": 170,
    "start_time": "2023-05-22T06:41:38.513Z"
   },
   {
    "duration": 171,
    "start_time": "2023-05-22T06:41:38.685Z"
   },
   {
    "duration": 11,
    "start_time": "2023-05-22T06:41:38.858Z"
   },
   {
    "duration": 328,
    "start_time": "2023-05-22T06:41:38.871Z"
   },
   {
    "duration": 170,
    "start_time": "2023-05-22T06:41:39.201Z"
   },
   {
    "duration": 156,
    "start_time": "2023-05-22T06:41:39.374Z"
   },
   {
    "duration": 5,
    "start_time": "2023-05-22T06:41:39.532Z"
   },
   {
    "duration": 275,
    "start_time": "2023-05-22T06:41:39.539Z"
   },
   {
    "duration": 0,
    "start_time": "2023-05-22T06:41:39.815Z"
   },
   {
    "duration": 0,
    "start_time": "2023-05-22T06:41:39.817Z"
   },
   {
    "duration": 0,
    "start_time": "2023-05-22T06:41:39.818Z"
   },
   {
    "duration": 132,
    "start_time": "2023-05-22T06:42:01.945Z"
   },
   {
    "duration": 141,
    "start_time": "2023-05-22T06:42:24.112Z"
   },
   {
    "duration": 23,
    "start_time": "2023-05-22T06:42:40.480Z"
   },
   {
    "duration": 73,
    "start_time": "2023-05-22T06:43:10.854Z"
   },
   {
    "duration": 60,
    "start_time": "2023-05-22T06:44:02.194Z"
   },
   {
    "duration": 296,
    "start_time": "2023-05-22T06:44:24.884Z"
   },
   {
    "duration": 3012,
    "start_time": "2023-05-22T06:44:30.792Z"
   },
   {
    "duration": 79,
    "start_time": "2023-05-22T06:44:33.807Z"
   },
   {
    "duration": 15,
    "start_time": "2023-05-22T06:44:33.888Z"
   },
   {
    "duration": 39,
    "start_time": "2023-05-22T06:44:33.906Z"
   },
   {
    "duration": 38,
    "start_time": "2023-05-22T06:44:33.947Z"
   },
   {
    "duration": 62,
    "start_time": "2023-05-22T06:44:33.987Z"
   },
   {
    "duration": 35,
    "start_time": "2023-05-22T06:44:34.051Z"
   },
   {
    "duration": 62,
    "start_time": "2023-05-22T06:44:34.088Z"
   },
   {
    "duration": 34,
    "start_time": "2023-05-22T06:44:34.152Z"
   },
   {
    "duration": 39,
    "start_time": "2023-05-22T06:44:34.189Z"
   },
   {
    "duration": 50,
    "start_time": "2023-05-22T06:44:34.230Z"
   },
   {
    "duration": 40,
    "start_time": "2023-05-22T06:44:34.282Z"
   },
   {
    "duration": 34,
    "start_time": "2023-05-22T06:44:34.323Z"
   },
   {
    "duration": 43,
    "start_time": "2023-05-22T06:44:34.359Z"
   },
   {
    "duration": 44,
    "start_time": "2023-05-22T06:44:34.408Z"
   },
   {
    "duration": 355,
    "start_time": "2023-05-22T06:44:34.454Z"
   },
   {
    "duration": 8,
    "start_time": "2023-05-22T06:44:34.811Z"
   },
   {
    "duration": 351,
    "start_time": "2023-05-22T06:44:34.821Z"
   },
   {
    "duration": 242,
    "start_time": "2023-05-22T06:44:35.173Z"
   },
   {
    "duration": 331,
    "start_time": "2023-05-22T06:44:35.417Z"
   },
   {
    "duration": 233,
    "start_time": "2023-05-22T06:44:35.750Z"
   },
   {
    "duration": 339,
    "start_time": "2023-05-22T06:44:35.985Z"
   },
   {
    "duration": 185,
    "start_time": "2023-05-22T06:44:36.326Z"
   },
   {
    "duration": 180,
    "start_time": "2023-05-22T06:44:36.514Z"
   },
   {
    "duration": 16,
    "start_time": "2023-05-22T06:44:36.700Z"
   },
   {
    "duration": 455,
    "start_time": "2023-05-22T06:44:36.717Z"
   },
   {
    "duration": 171,
    "start_time": "2023-05-22T06:44:37.174Z"
   },
   {
    "duration": 197,
    "start_time": "2023-05-22T06:44:37.350Z"
   },
   {
    "duration": 4,
    "start_time": "2023-05-22T06:44:37.549Z"
   },
   {
    "duration": 260,
    "start_time": "2023-05-22T06:44:37.555Z"
   },
   {
    "duration": 0,
    "start_time": "2023-05-22T06:44:37.818Z"
   },
   {
    "duration": 0,
    "start_time": "2023-05-22T06:44:37.819Z"
   },
   {
    "duration": 0,
    "start_time": "2023-05-22T06:44:37.820Z"
   },
   {
    "duration": 1541,
    "start_time": "2023-05-22T06:45:24.690Z"
   },
   {
    "duration": 104,
    "start_time": "2023-05-22T06:45:26.233Z"
   },
   {
    "duration": 12,
    "start_time": "2023-05-22T06:45:26.339Z"
   },
   {
    "duration": 51,
    "start_time": "2023-05-22T06:45:26.353Z"
   },
   {
    "duration": 16,
    "start_time": "2023-05-22T06:45:26.407Z"
   },
   {
    "duration": 81,
    "start_time": "2023-05-22T06:45:26.424Z"
   },
   {
    "duration": 18,
    "start_time": "2023-05-22T06:45:26.509Z"
   },
   {
    "duration": 6,
    "start_time": "2023-05-22T06:45:26.529Z"
   },
   {
    "duration": 12,
    "start_time": "2023-05-22T06:45:26.537Z"
   },
   {
    "duration": 32,
    "start_time": "2023-05-22T06:45:26.598Z"
   },
   {
    "duration": 24,
    "start_time": "2023-05-22T06:45:26.632Z"
   },
   {
    "duration": 45,
    "start_time": "2023-05-22T06:45:26.658Z"
   },
   {
    "duration": 26,
    "start_time": "2023-05-22T06:45:26.705Z"
   },
   {
    "duration": 84,
    "start_time": "2023-05-22T06:45:26.733Z"
   },
   {
    "duration": 34,
    "start_time": "2023-05-22T06:45:26.820Z"
   },
   {
    "duration": 835,
    "start_time": "2023-05-22T06:45:26.898Z"
   },
   {
    "duration": 5,
    "start_time": "2023-05-22T06:45:27.735Z"
   },
   {
    "duration": 427,
    "start_time": "2023-05-22T06:45:27.742Z"
   },
   {
    "duration": 244,
    "start_time": "2023-05-22T06:45:28.171Z"
   },
   {
    "duration": 321,
    "start_time": "2023-05-22T06:45:28.417Z"
   },
   {
    "duration": 230,
    "start_time": "2023-05-22T06:45:28.739Z"
   },
   {
    "duration": 364,
    "start_time": "2023-05-22T06:45:28.971Z"
   },
   {
    "duration": 194,
    "start_time": "2023-05-22T06:45:29.337Z"
   },
   {
    "duration": 183,
    "start_time": "2023-05-22T06:45:29.533Z"
   },
   {
    "duration": 10,
    "start_time": "2023-05-22T06:45:29.717Z"
   },
   {
    "duration": 365,
    "start_time": "2023-05-22T06:45:29.729Z"
   },
   {
    "duration": 192,
    "start_time": "2023-05-22T06:45:30.096Z"
   },
   {
    "duration": 196,
    "start_time": "2023-05-22T06:45:30.301Z"
   },
   {
    "duration": 9,
    "start_time": "2023-05-22T06:45:30.500Z"
   },
   {
    "duration": 52,
    "start_time": "2023-05-22T06:45:30.513Z"
   },
   {
    "duration": 0,
    "start_time": "2023-05-22T06:45:30.567Z"
   },
   {
    "duration": 0,
    "start_time": "2023-05-22T06:45:30.569Z"
   },
   {
    "duration": 0,
    "start_time": "2023-05-22T06:45:30.570Z"
   },
   {
    "duration": 442,
    "start_time": "2023-05-22T06:45:51.691Z"
   },
   {
    "duration": 1867,
    "start_time": "2023-05-22T06:45:57.841Z"
   },
   {
    "duration": 134,
    "start_time": "2023-05-22T06:45:59.710Z"
   },
   {
    "duration": 17,
    "start_time": "2023-05-22T06:45:59.846Z"
   },
   {
    "duration": 45,
    "start_time": "2023-05-22T06:45:59.865Z"
   },
   {
    "duration": 41,
    "start_time": "2023-05-22T06:45:59.912Z"
   },
   {
    "duration": 77,
    "start_time": "2023-05-22T06:45:59.955Z"
   },
   {
    "duration": 65,
    "start_time": "2023-05-22T06:46:00.034Z"
   },
   {
    "duration": 41,
    "start_time": "2023-05-22T06:46:00.101Z"
   },
   {
    "duration": 58,
    "start_time": "2023-05-22T06:46:00.144Z"
   },
   {
    "duration": 11,
    "start_time": "2023-05-22T06:46:00.207Z"
   },
   {
    "duration": 77,
    "start_time": "2023-05-22T06:46:00.220Z"
   },
   {
    "duration": 38,
    "start_time": "2023-05-22T06:46:00.300Z"
   },
   {
    "duration": 28,
    "start_time": "2023-05-22T06:46:00.339Z"
   },
   {
    "duration": 68,
    "start_time": "2023-05-22T06:46:00.369Z"
   },
   {
    "duration": 91,
    "start_time": "2023-05-22T06:46:00.438Z"
   },
   {
    "duration": 411,
    "start_time": "2023-05-22T06:46:00.531Z"
   },
   {
    "duration": 5,
    "start_time": "2023-05-22T06:46:00.944Z"
   },
   {
    "duration": 421,
    "start_time": "2023-05-22T06:46:00.952Z"
   },
   {
    "duration": 305,
    "start_time": "2023-05-22T06:46:01.377Z"
   },
   {
    "duration": 360,
    "start_time": "2023-05-22T06:46:01.684Z"
   },
   {
    "duration": 234,
    "start_time": "2023-05-22T06:46:02.046Z"
   },
   {
    "duration": 361,
    "start_time": "2023-05-22T06:46:02.282Z"
   },
   {
    "duration": 205,
    "start_time": "2023-05-22T06:46:02.645Z"
   },
   {
    "duration": 189,
    "start_time": "2023-05-22T06:46:02.853Z"
   },
   {
    "duration": 11,
    "start_time": "2023-05-22T06:46:03.044Z"
   },
   {
    "duration": 420,
    "start_time": "2023-05-22T06:46:03.057Z"
   },
   {
    "duration": 192,
    "start_time": "2023-05-22T06:46:03.479Z"
   },
   {
    "duration": 183,
    "start_time": "2023-05-22T06:46:03.673Z"
   },
   {
    "duration": 4,
    "start_time": "2023-05-22T06:46:03.858Z"
   },
   {
    "duration": 415,
    "start_time": "2023-05-22T06:46:03.864Z"
   },
   {
    "duration": 11,
    "start_time": "2023-05-22T06:46:04.281Z"
   },
   {
    "duration": 176,
    "start_time": "2023-05-22T06:46:04.293Z"
   },
   {
    "duration": 28,
    "start_time": "2023-05-22T06:46:04.471Z"
   },
   {
    "duration": 179,
    "start_time": "2023-05-22T06:46:40.672Z"
   },
   {
    "duration": 1192,
    "start_time": "2023-05-22T06:46:44.556Z"
   },
   {
    "duration": 82,
    "start_time": "2023-05-22T06:46:45.750Z"
   },
   {
    "duration": 12,
    "start_time": "2023-05-22T06:46:45.833Z"
   },
   {
    "duration": 9,
    "start_time": "2023-05-22T06:46:45.847Z"
   },
   {
    "duration": 29,
    "start_time": "2023-05-22T06:46:45.858Z"
   },
   {
    "duration": 44,
    "start_time": "2023-05-22T06:46:45.888Z"
   },
   {
    "duration": 15,
    "start_time": "2023-05-22T06:46:45.934Z"
   },
   {
    "duration": 13,
    "start_time": "2023-05-22T06:46:45.950Z"
   },
   {
    "duration": 17,
    "start_time": "2023-05-22T06:46:45.965Z"
   },
   {
    "duration": 21,
    "start_time": "2023-05-22T06:46:45.984Z"
   },
   {
    "duration": 26,
    "start_time": "2023-05-22T06:46:46.007Z"
   },
   {
    "duration": 12,
    "start_time": "2023-05-22T06:46:46.035Z"
   },
   {
    "duration": 18,
    "start_time": "2023-05-22T06:46:46.048Z"
   },
   {
    "duration": 28,
    "start_time": "2023-05-22T06:46:46.067Z"
   },
   {
    "duration": 28,
    "start_time": "2023-05-22T06:46:46.098Z"
   },
   {
    "duration": 310,
    "start_time": "2023-05-22T06:46:46.128Z"
   },
   {
    "duration": 5,
    "start_time": "2023-05-22T06:46:46.439Z"
   },
   {
    "duration": 388,
    "start_time": "2023-05-22T06:46:46.445Z"
   },
   {
    "duration": 585,
    "start_time": "2023-05-22T06:46:46.835Z"
   },
   {
    "duration": 598,
    "start_time": "2023-05-22T06:46:47.422Z"
   },
   {
    "duration": 499,
    "start_time": "2023-05-22T06:46:48.022Z"
   },
   {
    "duration": 584,
    "start_time": "2023-05-22T06:46:48.523Z"
   },
   {
    "duration": 304,
    "start_time": "2023-05-22T06:46:49.109Z"
   },
   {
    "duration": 191,
    "start_time": "2023-05-22T06:46:49.416Z"
   },
   {
    "duration": 11,
    "start_time": "2023-05-22T06:46:49.610Z"
   },
   {
    "duration": 357,
    "start_time": "2023-05-22T06:46:49.623Z"
   },
   {
    "duration": 197,
    "start_time": "2023-05-22T06:46:49.981Z"
   },
   {
    "duration": 194,
    "start_time": "2023-05-22T06:46:50.181Z"
   },
   {
    "duration": 5,
    "start_time": "2023-05-22T06:46:50.377Z"
   },
   {
    "duration": 256,
    "start_time": "2023-05-22T06:46:50.384Z"
   },
   {
    "duration": 0,
    "start_time": "2023-05-22T06:46:50.642Z"
   },
   {
    "duration": 0,
    "start_time": "2023-05-22T06:46:50.643Z"
   },
   {
    "duration": 0,
    "start_time": "2023-05-22T06:46:50.645Z"
   },
   {
    "duration": 6,
    "start_time": "2023-05-22T06:49:39.067Z"
   },
   {
    "duration": 682,
    "start_time": "2023-05-22T06:49:58.603Z"
   },
   {
    "duration": 850,
    "start_time": "2023-05-22T06:50:23.187Z"
   },
   {
    "duration": 8,
    "start_time": "2023-05-22T06:50:57.481Z"
   },
   {
    "duration": 930,
    "start_time": "2023-05-22T06:51:14.003Z"
   },
   {
    "duration": 46,
    "start_time": "2023-05-22T06:51:43.404Z"
   },
   {
    "duration": 327,
    "start_time": "2023-05-22T06:52:36.944Z"
   },
   {
    "duration": 1427,
    "start_time": "2023-05-22T06:52:41.711Z"
   },
   {
    "duration": 119,
    "start_time": "2023-05-22T06:52:43.140Z"
   },
   {
    "duration": 38,
    "start_time": "2023-05-22T06:52:43.260Z"
   },
   {
    "duration": 6,
    "start_time": "2023-05-22T06:52:43.299Z"
   },
   {
    "duration": 11,
    "start_time": "2023-05-22T06:52:43.307Z"
   },
   {
    "duration": 27,
    "start_time": "2023-05-22T06:52:43.319Z"
   },
   {
    "duration": 52,
    "start_time": "2023-05-22T06:52:43.347Z"
   },
   {
    "duration": 9,
    "start_time": "2023-05-22T06:52:43.400Z"
   },
   {
    "duration": 7,
    "start_time": "2023-05-22T06:52:43.410Z"
   },
   {
    "duration": 6,
    "start_time": "2023-05-22T06:52:43.420Z"
   },
   {
    "duration": 14,
    "start_time": "2023-05-22T06:52:43.427Z"
   },
   {
    "duration": 55,
    "start_time": "2023-05-22T06:52:43.443Z"
   },
   {
    "duration": 3,
    "start_time": "2023-05-22T06:52:43.500Z"
   },
   {
    "duration": 20,
    "start_time": "2023-05-22T06:52:43.505Z"
   },
   {
    "duration": 14,
    "start_time": "2023-05-22T06:52:43.527Z"
   },
   {
    "duration": 519,
    "start_time": "2023-05-22T06:52:43.542Z"
   },
   {
    "duration": 4,
    "start_time": "2023-05-22T06:52:44.062Z"
   },
   {
    "duration": 302,
    "start_time": "2023-05-22T06:52:44.067Z"
   },
   {
    "duration": 203,
    "start_time": "2023-05-22T06:52:44.372Z"
   },
   {
    "duration": 298,
    "start_time": "2023-05-22T06:52:44.577Z"
   },
   {
    "duration": 205,
    "start_time": "2023-05-22T06:52:44.876Z"
   },
   {
    "duration": 300,
    "start_time": "2023-05-22T06:52:45.083Z"
   },
   {
    "duration": 170,
    "start_time": "2023-05-22T06:52:45.385Z"
   },
   {
    "duration": 155,
    "start_time": "2023-05-22T06:52:45.557Z"
   },
   {
    "duration": 9,
    "start_time": "2023-05-22T06:52:45.714Z"
   },
   {
    "duration": 325,
    "start_time": "2023-05-22T06:52:45.724Z"
   },
   {
    "duration": 164,
    "start_time": "2023-05-22T06:52:46.050Z"
   },
   {
    "duration": 182,
    "start_time": "2023-05-22T06:52:46.219Z"
   },
   {
    "duration": 6,
    "start_time": "2023-05-22T06:52:46.403Z"
   },
   {
    "duration": 389,
    "start_time": "2023-05-22T06:52:46.410Z"
   },
   {
    "duration": 11,
    "start_time": "2023-05-22T06:52:46.800Z"
   },
   {
    "duration": 171,
    "start_time": "2023-05-22T06:52:46.813Z"
   },
   {
    "duration": 18,
    "start_time": "2023-05-22T06:52:46.986Z"
   },
   {
    "duration": 4,
    "start_time": "2023-05-22T07:08:59.196Z"
   },
   {
    "duration": 77,
    "start_time": "2023-05-22T07:14:30.398Z"
   },
   {
    "duration": 59,
    "start_time": "2023-05-22T07:14:31.414Z"
   },
   {
    "duration": 147,
    "start_time": "2023-05-22T07:14:42.223Z"
   },
   {
    "duration": 6,
    "start_time": "2023-05-22T07:15:26.470Z"
   },
   {
    "duration": 4,
    "start_time": "2023-05-22T07:15:45.399Z"
   },
   {
    "duration": 3,
    "start_time": "2023-05-22T07:15:46.166Z"
   },
   {
    "duration": 118,
    "start_time": "2023-05-22T07:16:17.242Z"
   },
   {
    "duration": 6,
    "start_time": "2023-05-22T07:16:36.862Z"
   },
   {
    "duration": 5,
    "start_time": "2023-05-22T07:16:53.775Z"
   },
   {
    "duration": 142,
    "start_time": "2023-05-22T07:17:39.197Z"
   },
   {
    "duration": 134,
    "start_time": "2023-05-22T07:17:47.155Z"
   },
   {
    "duration": 226,
    "start_time": "2023-05-22T07:18:17.572Z"
   },
   {
    "duration": 158,
    "start_time": "2023-05-22T07:18:45.748Z"
   },
   {
    "duration": 171,
    "start_time": "2023-05-22T07:19:00.828Z"
   },
   {
    "duration": 137,
    "start_time": "2023-05-22T07:19:21.292Z"
   },
   {
    "duration": 164,
    "start_time": "2023-05-22T07:19:33.556Z"
   },
   {
    "duration": 635,
    "start_time": "2023-05-22T07:20:05.387Z"
   },
   {
    "duration": 147,
    "start_time": "2023-05-22T07:20:22.069Z"
   },
   {
    "duration": 158,
    "start_time": "2023-05-22T07:20:31.199Z"
   },
   {
    "duration": 173,
    "start_time": "2023-05-22T07:20:39.012Z"
   },
   {
    "duration": 155,
    "start_time": "2023-05-22T07:21:58.838Z"
   },
   {
    "duration": 1708,
    "start_time": "2023-05-22T07:25:47.930Z"
   },
   {
    "duration": 86,
    "start_time": "2023-05-22T07:25:49.640Z"
   },
   {
    "duration": 14,
    "start_time": "2023-05-22T07:25:49.728Z"
   },
   {
    "duration": 7,
    "start_time": "2023-05-22T07:25:49.744Z"
   },
   {
    "duration": 48,
    "start_time": "2023-05-22T07:25:49.753Z"
   },
   {
    "duration": 27,
    "start_time": "2023-05-22T07:25:49.803Z"
   },
   {
    "duration": 4,
    "start_time": "2023-05-22T07:25:49.832Z"
   },
   {
    "duration": 59,
    "start_time": "2023-05-22T07:25:49.838Z"
   },
   {
    "duration": 13,
    "start_time": "2023-05-22T07:25:49.899Z"
   },
   {
    "duration": 7,
    "start_time": "2023-05-22T07:25:49.915Z"
   },
   {
    "duration": 10,
    "start_time": "2023-05-22T07:25:49.924Z"
   },
   {
    "duration": 7,
    "start_time": "2023-05-22T07:25:49.935Z"
   },
   {
    "duration": 7,
    "start_time": "2023-05-22T07:25:49.944Z"
   },
   {
    "duration": 17,
    "start_time": "2023-05-22T07:25:49.997Z"
   },
   {
    "duration": 30,
    "start_time": "2023-05-22T07:25:50.016Z"
   },
   {
    "duration": 592,
    "start_time": "2023-05-22T07:25:50.048Z"
   },
   {
    "duration": 58,
    "start_time": "2023-05-22T07:25:50.642Z"
   },
   {
    "duration": 600,
    "start_time": "2023-05-22T07:25:50.702Z"
   },
   {
    "duration": 412,
    "start_time": "2023-05-22T07:25:51.304Z"
   },
   {
    "duration": 461,
    "start_time": "2023-05-22T07:25:51.718Z"
   },
   {
    "duration": 211,
    "start_time": "2023-05-22T07:25:52.181Z"
   },
   {
    "duration": 305,
    "start_time": "2023-05-22T07:25:52.397Z"
   },
   {
    "duration": 184,
    "start_time": "2023-05-22T07:25:52.704Z"
   },
   {
    "duration": 173,
    "start_time": "2023-05-22T07:25:52.896Z"
   },
   {
    "duration": 10,
    "start_time": "2023-05-22T07:25:53.071Z"
   },
   {
    "duration": 324,
    "start_time": "2023-05-22T07:25:53.083Z"
   },
   {
    "duration": 158,
    "start_time": "2023-05-22T07:25:53.409Z"
   },
   {
    "duration": 154,
    "start_time": "2023-05-22T07:25:53.569Z"
   },
   {
    "duration": 6,
    "start_time": "2023-05-22T07:25:53.724Z"
   },
   {
    "duration": 17,
    "start_time": "2023-05-22T07:25:53.731Z"
   },
   {
    "duration": 372,
    "start_time": "2023-05-22T07:25:53.749Z"
   },
   {
    "duration": 10,
    "start_time": "2023-05-22T07:25:54.122Z"
   },
   {
    "duration": 244,
    "start_time": "2023-05-22T07:25:54.134Z"
   },
   {
    "duration": 0,
    "start_time": "2023-05-22T07:25:54.380Z"
   },
   {
    "duration": 64,
    "start_time": "2023-05-22T07:26:31.924Z"
   },
   {
    "duration": 136,
    "start_time": "2023-05-22T07:26:45.484Z"
   },
   {
    "duration": 160,
    "start_time": "2023-05-22T07:26:54.913Z"
   },
   {
    "duration": 156,
    "start_time": "2023-05-22T07:27:50.580Z"
   },
   {
    "duration": 14,
    "start_time": "2023-05-22T07:42:39.715Z"
   },
   {
    "duration": 414,
    "start_time": "2023-05-22T07:44:29.216Z"
   },
   {
    "duration": 398,
    "start_time": "2023-05-22T07:45:01.001Z"
   },
   {
    "duration": 390,
    "start_time": "2023-05-22T07:46:26.881Z"
   },
   {
    "duration": 397,
    "start_time": "2023-05-22T07:46:49.873Z"
   },
   {
    "duration": 361,
    "start_time": "2023-05-22T07:47:17.775Z"
   },
   {
    "duration": 30,
    "start_time": "2023-05-22T07:47:45.019Z"
   },
   {
    "duration": 1770,
    "start_time": "2023-05-22T07:49:03.448Z"
   },
   {
    "duration": 119,
    "start_time": "2023-05-22T07:49:05.221Z"
   },
   {
    "duration": 14,
    "start_time": "2023-05-22T07:49:05.342Z"
   },
   {
    "duration": 47,
    "start_time": "2023-05-22T07:49:05.358Z"
   },
   {
    "duration": 55,
    "start_time": "2023-05-22T07:49:05.408Z"
   },
   {
    "duration": 68,
    "start_time": "2023-05-22T07:49:05.465Z"
   },
   {
    "duration": 6,
    "start_time": "2023-05-22T07:49:05.535Z"
   },
   {
    "duration": 56,
    "start_time": "2023-05-22T07:49:05.543Z"
   },
   {
    "duration": 28,
    "start_time": "2023-05-22T07:49:05.601Z"
   },
   {
    "duration": 11,
    "start_time": "2023-05-22T07:49:05.633Z"
   },
   {
    "duration": 13,
    "start_time": "2023-05-22T07:49:05.647Z"
   },
   {
    "duration": 8,
    "start_time": "2023-05-22T07:49:05.699Z"
   },
   {
    "duration": 27,
    "start_time": "2023-05-22T07:49:05.709Z"
   },
   {
    "duration": 74,
    "start_time": "2023-05-22T07:49:05.738Z"
   },
   {
    "duration": 23,
    "start_time": "2023-05-22T07:49:05.814Z"
   },
   {
    "duration": 882,
    "start_time": "2023-05-22T07:49:05.839Z"
   },
   {
    "duration": 7,
    "start_time": "2023-05-22T07:49:06.723Z"
   },
   {
    "duration": 472,
    "start_time": "2023-05-22T07:49:06.732Z"
   },
   {
    "duration": 266,
    "start_time": "2023-05-22T07:49:07.206Z"
   },
   {
    "duration": 371,
    "start_time": "2023-05-22T07:49:07.474Z"
   },
   {
    "duration": 240,
    "start_time": "2023-05-22T07:49:07.847Z"
   },
   {
    "duration": 356,
    "start_time": "2023-05-22T07:49:08.089Z"
   },
   {
    "duration": 197,
    "start_time": "2023-05-22T07:49:08.447Z"
   },
   {
    "duration": 198,
    "start_time": "2023-05-22T07:49:08.645Z"
   },
   {
    "duration": 12,
    "start_time": "2023-05-22T07:49:08.845Z"
   },
   {
    "duration": 402,
    "start_time": "2023-05-22T07:49:08.859Z"
   },
   {
    "duration": 211,
    "start_time": "2023-05-22T07:49:09.263Z"
   },
   {
    "duration": 184,
    "start_time": "2023-05-22T07:49:09.478Z"
   },
   {
    "duration": 4,
    "start_time": "2023-05-22T07:49:09.663Z"
   },
   {
    "duration": 22,
    "start_time": "2023-05-22T07:49:09.669Z"
   },
   {
    "duration": 456,
    "start_time": "2023-05-22T07:49:09.698Z"
   },
   {
    "duration": 44,
    "start_time": "2023-05-22T07:49:10.156Z"
   },
   {
    "duration": 224,
    "start_time": "2023-05-22T07:49:10.204Z"
   },
   {
    "duration": 14,
    "start_time": "2023-05-22T07:49:10.431Z"
   },
   {
    "duration": 32,
    "start_time": "2023-05-22T07:49:28.230Z"
   },
   {
    "duration": 33,
    "start_time": "2023-05-22T07:49:57.517Z"
   },
   {
    "duration": 12,
    "start_time": "2023-05-22T07:50:10.474Z"
   },
   {
    "duration": 391,
    "start_time": "2023-05-22T07:50:21.322Z"
   },
   {
    "duration": 14,
    "start_time": "2023-05-22T07:52:10.760Z"
   },
   {
    "duration": 1213,
    "start_time": "2023-05-22T07:53:11.292Z"
   },
   {
    "duration": 79,
    "start_time": "2023-05-22T07:53:12.507Z"
   },
   {
    "duration": 15,
    "start_time": "2023-05-22T07:53:12.588Z"
   },
   {
    "duration": 11,
    "start_time": "2023-05-22T07:53:12.606Z"
   },
   {
    "duration": 14,
    "start_time": "2023-05-22T07:53:12.619Z"
   },
   {
    "duration": 37,
    "start_time": "2023-05-22T07:53:12.635Z"
   },
   {
    "duration": 6,
    "start_time": "2023-05-22T07:53:12.674Z"
   },
   {
    "duration": 17,
    "start_time": "2023-05-22T07:53:12.699Z"
   },
   {
    "duration": 11,
    "start_time": "2023-05-22T07:53:12.718Z"
   },
   {
    "duration": 13,
    "start_time": "2023-05-22T07:53:12.732Z"
   },
   {
    "duration": 25,
    "start_time": "2023-05-22T07:53:12.747Z"
   },
   {
    "duration": 17,
    "start_time": "2023-05-22T07:53:12.774Z"
   },
   {
    "duration": 11,
    "start_time": "2023-05-22T07:53:12.793Z"
   },
   {
    "duration": 21,
    "start_time": "2023-05-22T07:53:12.806Z"
   },
   {
    "duration": 23,
    "start_time": "2023-05-22T07:53:12.829Z"
   },
   {
    "duration": 326,
    "start_time": "2023-05-22T07:53:12.854Z"
   },
   {
    "duration": 15,
    "start_time": "2023-05-22T07:53:13.183Z"
   },
   {
    "duration": 321,
    "start_time": "2023-05-22T07:53:13.201Z"
   },
   {
    "duration": 243,
    "start_time": "2023-05-22T07:53:13.524Z"
   },
   {
    "duration": 335,
    "start_time": "2023-05-22T07:53:13.769Z"
   },
   {
    "duration": 225,
    "start_time": "2023-05-22T07:53:14.106Z"
   },
   {
    "duration": 303,
    "start_time": "2023-05-22T07:53:14.334Z"
   },
   {
    "duration": 186,
    "start_time": "2023-05-22T07:53:14.640Z"
   },
   {
    "duration": 198,
    "start_time": "2023-05-22T07:53:14.828Z"
   },
   {
    "duration": 12,
    "start_time": "2023-05-22T07:53:15.027Z"
   },
   {
    "duration": 389,
    "start_time": "2023-05-22T07:53:15.041Z"
   },
   {
    "duration": 194,
    "start_time": "2023-05-22T07:53:15.433Z"
   },
   {
    "duration": 194,
    "start_time": "2023-05-22T07:53:15.631Z"
   },
   {
    "duration": 8,
    "start_time": "2023-05-22T07:53:15.830Z"
   },
   {
    "duration": 18,
    "start_time": "2023-05-22T07:53:15.841Z"
   },
   {
    "duration": 490,
    "start_time": "2023-05-22T07:53:15.863Z"
   },
   {
    "duration": 12,
    "start_time": "2023-05-22T07:53:16.355Z"
   },
   {
    "duration": 213,
    "start_time": "2023-05-22T07:53:16.370Z"
   },
   {
    "duration": 31,
    "start_time": "2023-05-22T07:53:16.585Z"
   },
   {
    "duration": 96,
    "start_time": "2023-05-22T08:00:22.136Z"
   },
   {
    "duration": 101,
    "start_time": "2023-05-22T08:00:30.980Z"
   },
   {
    "duration": 1699,
    "start_time": "2023-05-22T08:00:45.258Z"
   },
   {
    "duration": 5,
    "start_time": "2023-05-22T08:00:50.755Z"
   },
   {
    "duration": 168,
    "start_time": "2023-05-22T08:01:17.446Z"
   },
   {
    "duration": 152,
    "start_time": "2023-05-22T08:01:44.558Z"
   },
   {
    "duration": 155,
    "start_time": "2023-05-22T08:05:43.341Z"
   },
   {
    "duration": 133,
    "start_time": "2023-05-22T08:05:51.431Z"
   },
   {
    "duration": 149,
    "start_time": "2023-05-22T08:16:29.018Z"
   },
   {
    "duration": 166,
    "start_time": "2023-05-22T08:16:45.512Z"
   },
   {
    "duration": 10,
    "start_time": "2023-05-22T08:17:11.349Z"
   },
   {
    "duration": 9,
    "start_time": "2023-05-22T08:17:23.318Z"
   },
   {
    "duration": 5,
    "start_time": "2023-05-22T08:18:02.229Z"
   },
   {
    "duration": 5,
    "start_time": "2023-05-22T08:18:26.821Z"
   },
   {
    "duration": 173,
    "start_time": "2023-05-22T08:18:36.097Z"
   },
   {
    "duration": 1772,
    "start_time": "2023-05-22T08:18:47.671Z"
   },
   {
    "duration": 99,
    "start_time": "2023-05-22T08:18:49.498Z"
   },
   {
    "duration": 12,
    "start_time": "2023-05-22T08:18:49.599Z"
   },
   {
    "duration": 14,
    "start_time": "2023-05-22T08:18:49.613Z"
   },
   {
    "duration": 75,
    "start_time": "2023-05-22T08:18:49.628Z"
   },
   {
    "duration": 46,
    "start_time": "2023-05-22T08:18:49.705Z"
   },
   {
    "duration": 45,
    "start_time": "2023-05-22T08:18:49.753Z"
   },
   {
    "duration": 8,
    "start_time": "2023-05-22T08:18:49.800Z"
   },
   {
    "duration": 8,
    "start_time": "2023-05-22T08:18:49.810Z"
   },
   {
    "duration": 5,
    "start_time": "2023-05-22T08:18:49.821Z"
   },
   {
    "duration": 14,
    "start_time": "2023-05-22T08:18:49.828Z"
   },
   {
    "duration": 58,
    "start_time": "2023-05-22T08:18:49.844Z"
   },
   {
    "duration": 3,
    "start_time": "2023-05-22T08:18:49.904Z"
   },
   {
    "duration": 18,
    "start_time": "2023-05-22T08:18:49.909Z"
   },
   {
    "duration": 71,
    "start_time": "2023-05-22T08:18:49.928Z"
   },
   {
    "duration": 452,
    "start_time": "2023-05-22T08:18:50.001Z"
   },
   {
    "duration": 5,
    "start_time": "2023-05-22T08:18:50.455Z"
   },
   {
    "duration": 312,
    "start_time": "2023-05-22T08:18:50.461Z"
   },
   {
    "duration": 227,
    "start_time": "2023-05-22T08:18:50.774Z"
   },
   {
    "duration": 301,
    "start_time": "2023-05-22T08:18:51.003Z"
   },
   {
    "duration": 224,
    "start_time": "2023-05-22T08:18:51.306Z"
   },
   {
    "duration": 290,
    "start_time": "2023-05-22T08:18:51.532Z"
   },
   {
    "duration": 185,
    "start_time": "2023-05-22T08:18:51.823Z"
   },
   {
    "duration": 189,
    "start_time": "2023-05-22T08:18:52.010Z"
   },
   {
    "duration": 10,
    "start_time": "2023-05-22T08:18:52.201Z"
   },
   {
    "duration": 371,
    "start_time": "2023-05-22T08:18:52.213Z"
   },
   {
    "duration": 185,
    "start_time": "2023-05-22T08:18:52.586Z"
   },
   {
    "duration": 170,
    "start_time": "2023-05-22T08:18:52.774Z"
   },
   {
    "duration": 5,
    "start_time": "2023-05-22T08:18:52.946Z"
   },
   {
    "duration": 9,
    "start_time": "2023-05-22T08:18:52.953Z"
   },
   {
    "duration": 378,
    "start_time": "2023-05-22T08:18:52.963Z"
   },
   {
    "duration": 11,
    "start_time": "2023-05-22T08:18:53.343Z"
   },
   {
    "duration": 177,
    "start_time": "2023-05-22T08:18:53.356Z"
   },
   {
    "duration": 14,
    "start_time": "2023-05-22T08:18:53.535Z"
   },
   {
    "duration": 12,
    "start_time": "2023-05-22T08:20:53.144Z"
   },
   {
    "duration": 1192,
    "start_time": "2023-05-22T08:21:02.167Z"
   },
   {
    "duration": 76,
    "start_time": "2023-05-22T08:21:03.361Z"
   },
   {
    "duration": 12,
    "start_time": "2023-05-22T08:21:03.439Z"
   },
   {
    "duration": 17,
    "start_time": "2023-05-22T08:21:03.452Z"
   },
   {
    "duration": 32,
    "start_time": "2023-05-22T08:21:03.471Z"
   },
   {
    "duration": 36,
    "start_time": "2023-05-22T08:21:03.505Z"
   },
   {
    "duration": 5,
    "start_time": "2023-05-22T08:21:03.543Z"
   },
   {
    "duration": 21,
    "start_time": "2023-05-22T08:21:03.549Z"
   },
   {
    "duration": 24,
    "start_time": "2023-05-22T08:21:03.572Z"
   },
   {
    "duration": 31,
    "start_time": "2023-05-22T08:21:03.599Z"
   },
   {
    "duration": 22,
    "start_time": "2023-05-22T08:21:03.631Z"
   },
   {
    "duration": 17,
    "start_time": "2023-05-22T08:21:03.654Z"
   },
   {
    "duration": 6,
    "start_time": "2023-05-22T08:21:03.673Z"
   },
   {
    "duration": 29,
    "start_time": "2023-05-22T08:21:03.680Z"
   },
   {
    "duration": 25,
    "start_time": "2023-05-22T08:21:03.710Z"
   },
   {
    "duration": 320,
    "start_time": "2023-05-22T08:21:03.737Z"
   },
   {
    "duration": 5,
    "start_time": "2023-05-22T08:21:04.060Z"
   },
   {
    "duration": 332,
    "start_time": "2023-05-22T08:21:04.067Z"
   },
   {
    "duration": 256,
    "start_time": "2023-05-22T08:21:04.402Z"
   },
   {
    "duration": 351,
    "start_time": "2023-05-22T08:21:04.661Z"
   },
   {
    "duration": 406,
    "start_time": "2023-05-22T08:21:05.014Z"
   },
   {
    "duration": 578,
    "start_time": "2023-05-22T08:21:05.422Z"
   },
   {
    "duration": 416,
    "start_time": "2023-05-22T08:21:06.002Z"
   },
   {
    "duration": 398,
    "start_time": "2023-05-22T08:21:06.420Z"
   },
   {
    "duration": 295,
    "start_time": "2023-05-22T08:21:06.820Z"
   },
   {
    "duration": 0,
    "start_time": "2023-05-22T08:21:07.117Z"
   },
   {
    "duration": 0,
    "start_time": "2023-05-22T08:21:07.118Z"
   },
   {
    "duration": 0,
    "start_time": "2023-05-22T08:21:07.120Z"
   },
   {
    "duration": 0,
    "start_time": "2023-05-22T08:21:07.121Z"
   },
   {
    "duration": 0,
    "start_time": "2023-05-22T08:21:07.123Z"
   },
   {
    "duration": 0,
    "start_time": "2023-05-22T08:21:07.124Z"
   },
   {
    "duration": 0,
    "start_time": "2023-05-22T08:21:07.125Z"
   },
   {
    "duration": 0,
    "start_time": "2023-05-22T08:21:07.126Z"
   },
   {
    "duration": 0,
    "start_time": "2023-05-22T08:21:07.127Z"
   },
   {
    "duration": 12,
    "start_time": "2023-05-22T08:21:26.067Z"
   },
   {
    "duration": 11,
    "start_time": "2023-05-22T08:21:48.476Z"
   },
   {
    "duration": 2044,
    "start_time": "2023-05-22T08:22:11.693Z"
   },
   {
    "duration": 11,
    "start_time": "2023-05-22T08:23:24.356Z"
   },
   {
    "duration": 12,
    "start_time": "2023-05-22T08:24:13.805Z"
   },
   {
    "duration": 11,
    "start_time": "2023-05-22T08:24:29.310Z"
   },
   {
    "duration": 11,
    "start_time": "2023-05-22T08:24:56.523Z"
   },
   {
    "duration": 13,
    "start_time": "2023-05-22T08:25:01.237Z"
   },
   {
    "duration": 1571,
    "start_time": "2023-05-22T08:25:22.867Z"
   },
   {
    "duration": 89,
    "start_time": "2023-05-22T08:25:24.440Z"
   },
   {
    "duration": 15,
    "start_time": "2023-05-22T08:25:24.531Z"
   },
   {
    "duration": 53,
    "start_time": "2023-05-22T08:25:24.549Z"
   },
   {
    "duration": 16,
    "start_time": "2023-05-22T08:25:24.603Z"
   },
   {
    "duration": 82,
    "start_time": "2023-05-22T08:25:24.620Z"
   },
   {
    "duration": 5,
    "start_time": "2023-05-22T08:25:24.704Z"
   },
   {
    "duration": 7,
    "start_time": "2023-05-22T08:25:24.710Z"
   },
   {
    "duration": 11,
    "start_time": "2023-05-22T08:25:24.719Z"
   },
   {
    "duration": 13,
    "start_time": "2023-05-22T08:25:24.733Z"
   },
   {
    "duration": 70,
    "start_time": "2023-05-22T08:25:24.748Z"
   },
   {
    "duration": 6,
    "start_time": "2023-05-22T08:25:24.820Z"
   },
   {
    "duration": 18,
    "start_time": "2023-05-22T08:25:24.828Z"
   },
   {
    "duration": 68,
    "start_time": "2023-05-22T08:25:24.848Z"
   },
   {
    "duration": 84,
    "start_time": "2023-05-22T08:25:24.918Z"
   },
   {
    "duration": 714,
    "start_time": "2023-05-22T08:25:25.004Z"
   },
   {
    "duration": 6,
    "start_time": "2023-05-22T08:25:25.720Z"
   },
   {
    "duration": 450,
    "start_time": "2023-05-22T08:25:25.727Z"
   },
   {
    "duration": 232,
    "start_time": "2023-05-22T08:25:26.179Z"
   },
   {
    "duration": 366,
    "start_time": "2023-05-22T08:25:26.413Z"
   },
   {
    "duration": 239,
    "start_time": "2023-05-22T08:25:26.781Z"
   },
   {
    "duration": 316,
    "start_time": "2023-05-22T08:25:27.022Z"
   },
   {
    "duration": 192,
    "start_time": "2023-05-22T08:25:27.341Z"
   },
   {
    "duration": 185,
    "start_time": "2023-05-22T08:25:27.535Z"
   },
   {
    "duration": 11,
    "start_time": "2023-05-22T08:25:27.722Z"
   },
   {
    "duration": 403,
    "start_time": "2023-05-22T08:25:27.735Z"
   },
   {
    "duration": 182,
    "start_time": "2023-05-22T08:25:28.140Z"
   },
   {
    "duration": 179,
    "start_time": "2023-05-22T08:25:28.325Z"
   },
   {
    "duration": 5,
    "start_time": "2023-05-22T08:25:28.506Z"
   },
   {
    "duration": 19,
    "start_time": "2023-05-22T08:25:28.513Z"
   },
   {
    "duration": 396,
    "start_time": "2023-05-22T08:25:28.535Z"
   },
   {
    "duration": 11,
    "start_time": "2023-05-22T08:25:28.933Z"
   },
   {
    "duration": 201,
    "start_time": "2023-05-22T08:25:28.946Z"
   },
   {
    "duration": 14,
    "start_time": "2023-05-22T08:25:29.148Z"
   },
   {
    "duration": 14,
    "start_time": "2023-05-22T08:26:16.690Z"
   },
   {
    "duration": 14,
    "start_time": "2023-05-22T08:29:36.963Z"
   },
   {
    "duration": 13,
    "start_time": "2023-05-22T08:29:49.570Z"
   },
   {
    "duration": 17,
    "start_time": "2023-05-22T08:29:57.287Z"
   },
   {
    "duration": 155,
    "start_time": "2023-05-22T08:30:14.779Z"
   },
   {
    "duration": 1423,
    "start_time": "2023-05-22T08:30:30.731Z"
   },
   {
    "duration": 89,
    "start_time": "2023-05-22T08:30:32.158Z"
   },
   {
    "duration": 17,
    "start_time": "2023-05-22T08:30:32.249Z"
   },
   {
    "duration": 33,
    "start_time": "2023-05-22T08:30:32.269Z"
   },
   {
    "duration": 40,
    "start_time": "2023-05-22T08:30:32.304Z"
   },
   {
    "duration": 33,
    "start_time": "2023-05-22T08:30:32.347Z"
   },
   {
    "duration": 17,
    "start_time": "2023-05-22T08:30:32.382Z"
   },
   {
    "duration": 27,
    "start_time": "2023-05-22T08:30:32.401Z"
   },
   {
    "duration": 29,
    "start_time": "2023-05-22T08:30:32.430Z"
   },
   {
    "duration": 18,
    "start_time": "2023-05-22T08:30:32.462Z"
   },
   {
    "duration": 52,
    "start_time": "2023-05-22T08:30:32.482Z"
   },
   {
    "duration": 33,
    "start_time": "2023-05-22T08:30:32.536Z"
   },
   {
    "duration": 30,
    "start_time": "2023-05-22T08:30:32.571Z"
   },
   {
    "duration": 43,
    "start_time": "2023-05-22T08:30:32.603Z"
   },
   {
    "duration": 33,
    "start_time": "2023-05-22T08:30:32.648Z"
   },
   {
    "duration": 322,
    "start_time": "2023-05-22T08:30:32.683Z"
   },
   {
    "duration": 5,
    "start_time": "2023-05-22T08:30:33.007Z"
   },
   {
    "duration": 343,
    "start_time": "2023-05-22T08:30:33.014Z"
   },
   {
    "duration": 231,
    "start_time": "2023-05-22T08:30:33.358Z"
   },
   {
    "duration": 342,
    "start_time": "2023-05-22T08:30:33.591Z"
   },
   {
    "duration": 228,
    "start_time": "2023-05-22T08:30:33.935Z"
   },
   {
    "duration": 349,
    "start_time": "2023-05-22T08:30:34.165Z"
   },
   {
    "duration": 183,
    "start_time": "2023-05-22T08:30:34.516Z"
   },
   {
    "duration": 187,
    "start_time": "2023-05-22T08:30:34.700Z"
   },
   {
    "duration": 15,
    "start_time": "2023-05-22T08:30:34.889Z"
   },
   {
    "duration": 375,
    "start_time": "2023-05-22T08:30:34.906Z"
   },
   {
    "duration": 195,
    "start_time": "2023-05-22T08:30:35.283Z"
   },
   {
    "duration": 180,
    "start_time": "2023-05-22T08:30:35.482Z"
   },
   {
    "duration": 5,
    "start_time": "2023-05-22T08:30:35.664Z"
   },
   {
    "duration": 25,
    "start_time": "2023-05-22T08:30:35.671Z"
   },
   {
    "duration": 381,
    "start_time": "2023-05-22T08:30:35.699Z"
   },
   {
    "duration": 22,
    "start_time": "2023-05-22T08:30:36.081Z"
   },
   {
    "duration": 173,
    "start_time": "2023-05-22T08:30:36.105Z"
   },
   {
    "duration": 25,
    "start_time": "2023-05-22T08:30:36.280Z"
   },
   {
    "duration": 149,
    "start_time": "2023-05-22T08:39:58.294Z"
   },
   {
    "duration": 1004,
    "start_time": "2023-05-22T12:43:36.922Z"
   },
   {
    "duration": 79,
    "start_time": "2023-05-22T12:43:37.928Z"
   },
   {
    "duration": 9,
    "start_time": "2023-05-22T12:43:38.009Z"
   },
   {
    "duration": 10,
    "start_time": "2023-05-22T12:43:38.020Z"
   },
   {
    "duration": 15,
    "start_time": "2023-05-22T12:43:38.031Z"
   },
   {
    "duration": 59,
    "start_time": "2023-05-22T12:43:38.047Z"
   },
   {
    "duration": 8,
    "start_time": "2023-05-22T12:43:38.107Z"
   },
   {
    "duration": 9,
    "start_time": "2023-05-22T12:43:38.117Z"
   },
   {
    "duration": 6,
    "start_time": "2023-05-22T12:43:38.128Z"
   },
   {
    "duration": 9,
    "start_time": "2023-05-22T12:43:38.136Z"
   },
   {
    "duration": 14,
    "start_time": "2023-05-22T12:43:38.146Z"
   },
   {
    "duration": 14,
    "start_time": "2023-05-22T12:43:38.161Z"
   },
   {
    "duration": 14,
    "start_time": "2023-05-22T12:43:38.176Z"
   },
   {
    "duration": 17,
    "start_time": "2023-05-22T12:43:38.191Z"
   },
   {
    "duration": 13,
    "start_time": "2023-05-22T12:43:38.210Z"
   },
   {
    "duration": 264,
    "start_time": "2023-05-22T12:43:38.224Z"
   },
   {
    "duration": 4,
    "start_time": "2023-05-22T12:43:38.490Z"
   },
   {
    "duration": 265,
    "start_time": "2023-05-22T12:43:38.495Z"
   },
   {
    "duration": 214,
    "start_time": "2023-05-22T12:43:38.761Z"
   },
   {
    "duration": 308,
    "start_time": "2023-05-22T12:43:38.977Z"
   },
   {
    "duration": 178,
    "start_time": "2023-05-22T12:43:39.287Z"
   },
   {
    "duration": 297,
    "start_time": "2023-05-22T12:43:39.466Z"
   },
   {
    "duration": 159,
    "start_time": "2023-05-22T12:43:39.765Z"
   },
   {
    "duration": 149,
    "start_time": "2023-05-22T12:43:39.926Z"
   },
   {
    "duration": 10,
    "start_time": "2023-05-22T12:43:40.077Z"
   },
   {
    "duration": 299,
    "start_time": "2023-05-22T12:43:40.089Z"
   },
   {
    "duration": 153,
    "start_time": "2023-05-22T12:43:40.390Z"
   },
   {
    "duration": 142,
    "start_time": "2023-05-22T12:43:40.546Z"
   },
   {
    "duration": 4,
    "start_time": "2023-05-22T12:43:40.690Z"
   },
   {
    "duration": 4,
    "start_time": "2023-05-22T12:43:40.705Z"
   },
   {
    "duration": 328,
    "start_time": "2023-05-22T12:43:40.711Z"
   },
   {
    "duration": 9,
    "start_time": "2023-05-22T12:43:41.041Z"
   },
   {
    "duration": 140,
    "start_time": "2023-05-22T12:43:41.052Z"
   },
   {
    "duration": 15,
    "start_time": "2023-05-22T12:43:41.194Z"
   }
  ],
  "kernelspec": {
   "display_name": "Python 3 (ipykernel)",
   "language": "python",
   "name": "python3"
  },
  "language_info": {
   "codemirror_mode": {
    "name": "ipython",
    "version": 3
   },
   "file_extension": ".py",
   "mimetype": "text/x-python",
   "name": "python",
   "nbconvert_exporter": "python",
   "pygments_lexer": "ipython3",
   "version": "3.9.13"
  },
  "toc": {
   "base_numbering": 1,
   "nav_menu": {},
   "number_sections": true,
   "sideBar": true,
   "skip_h1_title": true,
   "title_cell": "Table of Contents",
   "title_sidebar": "Contents",
   "toc_cell": false,
   "toc_position": {
    "height": "calc(100% - 180px)",
    "left": "10px",
    "top": "150px",
    "width": "353.25px"
   },
   "toc_section_display": true,
   "toc_window_display": true
  }
 },
 "nbformat": 4,
 "nbformat_minor": 2
}
